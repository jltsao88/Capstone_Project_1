{
 "cells": [
  {
   "cell_type": "markdown",
   "metadata": {},
   "source": [
    "This Juypter Notebooked titled 'Exploring_Riot_API' isn’t endorsed by Riot Games and doesn’t reflect the views or opinions of Riot Games\n",
    "or anyone officially involved in producing or managing League of Legends. League of Legends and Riot Games are\n",
    "trademarks or registered trademarks of Riot Games, Inc. League of Legends © Riot Games, Inc."
   ]
  },
  {
   "cell_type": "markdown",
   "metadata": {},
   "source": [
    "# Data Wrangling and Cleaning"
   ]
  },
  {
   "cell_type": "code",
   "execution_count": 2,
   "metadata": {
    "collapsed": true
   },
   "outputs": [],
   "source": [
    "%matplotlib inline\n",
    "import pandas as pd\n",
    "import requests\n",
    "import time\n",
    "import re\n",
    "import pickle"
   ]
  },
  {
   "cell_type": "code",
   "execution_count": 3,
   "metadata": {
    "scrolled": true
   },
   "outputs": [
    {
     "data": {
      "text/html": [
       "<style>body {\n",
       "    margin: 0;\n",
       "    font-family: Helvetica;\n",
       "}\n",
       "table.dataframe {\n",
       "    border-collapse: collapse;\n",
       "    border: none;\n",
       "}\n",
       "table.dataframe tr {\n",
       "    border: none;\n",
       "}\n",
       "table.dataframe td, table.dataframe th {\n",
       "    margin: 0;\n",
       "    border: 1px solid white;\n",
       "    padding-left: 0.25em;\n",
       "    padding-right: 0.25em;\n",
       "}\n",
       "table.dataframe th:not(:empty) {\n",
       "    background-color: #fec;\n",
       "    text-align: left;\n",
       "    font-weight: normal;\n",
       "}\n",
       "table.dataframe tr:nth-child(2) th:empty {\n",
       "    border-left: none;\n",
       "    border-right: 1px dashed #888;\n",
       "}\n",
       "table.dataframe td {\n",
       "    border: 2px solid #ccf;\n",
       "    background-color: #f4f4ff;\n",
       "}\n",
       "h3 {\n",
       "    color: white;\n",
       "    background-color: black;\n",
       "    padding: 0.5em;\n",
       "}\n",
       "</style>"
      ],
      "text/plain": [
       "<IPython.core.display.HTML object>"
      ]
     },
     "execution_count": 3,
     "metadata": {},
     "output_type": "execute_result"
    }
   ],
   "source": [
    "#CSS to make default files look more readable\n",
    "from IPython.core.display import HTML\n",
    "css = open('style-table.css').read() + open('style-notebook.css').read()\n",
    "HTML('<style>{}</style>'.format(css))"
   ]
  },
  {
   "cell_type": "markdown",
   "metadata": {},
   "source": [
    "## Obtaining Data from API"
   ]
  },
  {
   "cell_type": "code",
   "execution_count": 4,
   "metadata": {
    "collapsed": true
   },
   "outputs": [],
   "source": [
    "#ENTER API KEY HERE as string\n",
    "#go to https://developer.riotgames.com/ to obtain API KEY\n",
    "\n",
    "#TEMP KEY\n",
    "api_key = 'RGAPI-90353f8a-275a-43d5-be43-210fcdb41280'"
   ]
  },
  {
   "cell_type": "code",
   "execution_count": 5,
   "metadata": {
    "collapsed": true
   },
   "outputs": [],
   "source": [
    "def get_acct_id(summoner_name, region, key):\n",
    "    \"\"\"\n",
    "    Returns the encrypted summonerID for a players in game summoner name.\n",
    "    \n",
    "    summoner_name: string, in game summoner name\n",
    "    region: string\n",
    "    key: string\n",
    "    \"\"\"\n",
    "    url = 'https://' + region +'.api.riotgames.com/lol/summoner/v4/summoners/' +\\\n",
    "          'by-name/' + summoner_name + '?api_key=' + key\n",
    "    response = requests.get(url)\n",
    "    \n",
    "    if response.status_code == 200:\n",
    "        print('App Rate Limit ' + response.headers['X-App-Rate-Limit'])\n",
    "        print('App Rate Limit Count ' + response.headers['X-App-Rate-Limit-Count'])\n",
    "        print(response.status_code)\n",
    "        json_data = response.json()\n",
    "        return json_data['accountId']\n",
    "    #429 response means we hit the API rate limit \n",
    "    elif response.status_code == 429:\n",
    "        print(response.status_code)\n",
    "        print('Hit rate limit...Sleeping...')\n",
    "        time.sleep(121)\n",
    "        response = requests.get(url)\n",
    "        json_data = response.json()\n",
    "        return json_data['accountId']\n",
    "    else:\n",
    "        print(response.status_code)\n",
    "        print('failed to get account id')\n",
    "        return None"
   ]
  },
  {
   "cell_type": "code",
   "execution_count": 6,
   "metadata": {
    "collapsed": true
   },
   "outputs": [],
   "source": [
    "def get_match_history(acct_id, region, game_type, season,\\\n",
    "                      beg_ind, key):\n",
    "    \"\"\"\n",
    "    returns past 100 match history as json\n",
    "    use game_type '420' for 5v5 ranked\n",
    "    season '11' for latest season\n",
    "    \"\"\"\n",
    "    url = 'https://' + region + '.api.riotgames.com/lol/match/v4/matchlists/' +\\\n",
    "          'by-account/' + acct_id +'?queue=' + game_type + '&season=' + season +\\\n",
    "          '&beginIndex=' + str(beg_ind) + '&api_key=' + key\n",
    "        \n",
    "    response = requests.get(url)\n",
    "\n",
    "    if response.status_code == 200:\n",
    "        print('App Rate Limit ' + response.headers['X-App-Rate-Limit'])\n",
    "        print('App Rate Limit Count ' + response.headers['X-App-Rate-Limit-Count'])\n",
    "        print(response.status_code)\n",
    "        json_data = response.json()\n",
    "        return json_data\n",
    "    #429 response means we hit the API rate limit \n",
    "    elif response.status_code == 429:\n",
    "        print(response.status_code)\n",
    "        print('Hit rate limit...Sleeping...')\n",
    "        time.sleep(121)\n",
    "        response = requests.get(url)\n",
    "        json_data = response.json()\n",
    "        return json_data\n",
    "    else:\n",
    "        print(response.status_code)\n",
    "        return None"
   ]
  },
  {
   "cell_type": "code",
   "execution_count": 7,
   "metadata": {
    "collapsed": true
   },
   "outputs": [],
   "source": [
    "def get_match_history_int(acct_id, region, game_type, season, key, begin):\n",
    "    \"\"\"\n",
    "    returns specified interval match history as json\n",
    "    use game_type '420' for 5v5 ranked\n",
    "    season '11' for latest season\n",
    "    \"\"\"\n",
    "    url = 'https://' + region + '.api.riotgames.com/lol/match/v4/matchlists/' +\\\n",
    "          'by-account/' + acct_id +'?queue=' + game_type + '&season=' + season +\\\n",
    "          '&beginTime=' + str(begin) + '&api_key=' + key\n",
    "    response = requests.get(url)\n",
    "    \n",
    "    if response.status_code == 200:\n",
    "        print('App Rate Limit ' + response.headers['X-App-Rate-Limit'])\n",
    "        print('App Rate Limit Count ' + response.headers['X-App-Rate-Limit-Count'])\n",
    "        print(response.status_code)\n",
    "        json_data = response.json()\n",
    "        return json_data\n",
    "    #429 response means we hit the API rate limit \n",
    "    elif response.status_code == 429:\n",
    "        print(response.status_code)\n",
    "        print('Hit rate limit...Sleeping...')\n",
    "        time.sleep(121)\n",
    "        response = requests.get(url)\n",
    "        json_data = response.json()\n",
    "        return json_data\n",
    "    else:\n",
    "        print(response.status_code)\n",
    "        return None"
   ]
  },
  {
   "cell_type": "code",
   "execution_count": 8,
   "metadata": {
    "collapsed": true
   },
   "outputs": [],
   "source": [
    "def get_match_stats(match_id, region, key):\n",
    "    \"\"\"\n",
    "    returns json of match stats based on match id\n",
    "    \"\"\"\n",
    "    url = 'https://' + region +'.api.riotgames.com/lol/match/v4/matches/' +\\\n",
    "           str(match_id) + '?api_key=' + key\n",
    "    response = requests.get(url)\n",
    "    \n",
    "    if response.status_code == 200:\n",
    "        print('App Rate Limit ' + response.headers['X-App-Rate-Limit'])\n",
    "        print('App Rate Limit Count ' + response.headers['X-App-Rate-Limit-Count'])\n",
    "        print(response.status_code)\n",
    "        json_data = response.json()\n",
    "        return json_data\n",
    "    #429 response means we hit the API rate limit \n",
    "    elif response.status_code == 429:\n",
    "        print(response.status_code)\n",
    "        print('Hit rate limit...Sleeping...')\n",
    "        time.sleep(121)\n",
    "        response = requests.get(url)\n",
    "        json_data = response.json()\n",
    "        return json_data\n",
    "    else:\n",
    "        print(response.status_code)\n",
    "        print('No game data returned')\n",
    "        return None"
   ]
  },
  {
   "cell_type": "code",
   "execution_count": 9,
   "metadata": {},
   "outputs": [
    {
     "name": "stdout",
     "output_type": "stream",
     "text": [
      "App Rate Limit 20:1,100:120\n",
      "App Rate Limit Count 1:1,1:120\n",
      "200\n"
     ]
    }
   ],
   "source": [
    "x = get_match_stats(2932547603, 'na1', api_key)"
   ]
  },
  {
   "cell_type": "markdown",
   "metadata": {},
   "source": [
    "## Cleaning the Data"
   ]
  },
  {
   "cell_type": "code",
   "execution_count": 10,
   "metadata": {
    "collapsed": true
   },
   "outputs": [],
   "source": [
    "#Champion Information\n",
    "champion_data_url = 'http://ddragon.leagueoflegends.com/cdn/8.24.1/data/en_US/champion.json'\n",
    "champ_response = requests.get(champion_data_url)\n",
    "champ_json = champ_response.json()"
   ]
  },
  {
   "cell_type": "code",
   "execution_count": 11,
   "metadata": {
    "collapsed": true
   },
   "outputs": [],
   "source": [
    "#Champ list\n",
    "champ_list = []\n",
    "for champ in champ_json['data']:\n",
    "    champ_list.append(champ)"
   ]
  },
  {
   "cell_type": "code",
   "execution_count": 12,
   "metadata": {
    "collapsed": true
   },
   "outputs": [],
   "source": [
    "#Champ type\n",
    "champ_type = {}\n",
    "\n",
    "for champ in champ_list:\n",
    "    champ_type[champ] = champ_json['data'][champ]['tags']"
   ]
  },
  {
   "cell_type": "code",
   "execution_count": 13,
   "metadata": {
    "collapsed": true,
    "scrolled": true
   },
   "outputs": [],
   "source": [
    "#Create dict to map champion ids to champ names\n",
    "#will use to clean data later\n",
    "champ_dict = {}\n",
    "\n",
    "for champ in champ_list:\n",
    "    champ_dict[int(champ_json['data'][champ]['key'])] = champ "
   ]
  },
  {
   "cell_type": "code",
   "execution_count": 21,
   "metadata": {
    "collapsed": true
   },
   "outputs": [],
   "source": [
    "#Item Information\n",
    "item_data_url = 'http://ddragon.leagueoflegends.com/cdn/8.24.1/data/en_US/item.json'\n",
    "item_response = requests.get(item_data_url)\n",
    "#print(item_response.status_code)\n",
    "item_json = item_response.json()"
   ]
  },
  {
   "cell_type": "code",
   "execution_count": 20,
   "metadata": {
    "collapsed": true
   },
   "outputs": [],
   "source": [
    "#Access Item: item_json['data'][ITEM ID]['name']\n",
    "item_json['data']['1001']['name']\n",
    "\n",
    "#Item list\n",
    "item_list = []\n",
    "for item in item_json['data']:\n",
    "    item_list.append(item)"
   ]
  },
  {
   "cell_type": "code",
   "execution_count": 19,
   "metadata": {
    "collapsed": true
   },
   "outputs": [],
   "source": [
    "#create a dict of item ids to map to item name for cleaning data\n",
    "#Some of the item names were missing, went to api chat to find\n",
    "item_dict = {}\n",
    "\n",
    "for item in item_list:\n",
    "    item_dict[int(item)] = item_json['data'][item]['name']\n",
    "\n",
    "item_dict[0] = None"
   ]
  },
  {
   "cell_type": "code",
   "execution_count": 19,
   "metadata": {
    "collapsed": true
   },
   "outputs": [],
   "source": [
    "#Summoner Spell Info\n",
    "sumspell_data_url = 'http://ddragon.leagueoflegends.com/cdn/8.24.1/data/en_US/summoner.json'\n",
    "sumspell_response = requests.get(sumspell_data_url)\n",
    "sumspell_json = sumspell_response.json()"
   ]
  },
  {
   "cell_type": "code",
   "execution_count": 20,
   "metadata": {
    "collapsed": true,
    "scrolled": true
   },
   "outputs": [],
   "source": [
    "#Access the sumspell ID num sumspell_json['data'][SUMSPELLNAME]['key']\n",
    "#sumspell_json['data']['SummonerFlash']['key']\n",
    "\n",
    "sumspell_list = []\n",
    "\n",
    "for sumspell in sumspell_json['data']:\n",
    "    sumspell_list.append(sumspell)"
   ]
  },
  {
   "cell_type": "code",
   "execution_count": 21,
   "metadata": {
    "collapsed": true,
    "scrolled": true
   },
   "outputs": [],
   "source": [
    "#create dict mapping of summoner spell id to name\n",
    "sumspell_dict = {}\n",
    "for spell in sumspell_list:\n",
    "    sumspell_dict[int(sumspell_json['data'][spell]['key'])] = spell\n",
    "\n",
    "#replace name of 'SummonerDot' to 'SummonerIgnite' like in game\n",
    "sumspell_dict[14] = 'SummonerIgnite'"
   ]
  },
  {
   "cell_type": "code",
   "execution_count": 90,
   "metadata": {},
   "outputs": [
    {
     "name": "stdout",
     "output_type": "stream",
     "text": [
      "App Rate Limit 20:1,100:120\n",
      "App Rate Limit Count 1:1,1:120\n",
      "200\n",
      "KUuZNj9ltgE1fRB4kPMyoOQaaVv1pd81wDC373Dw6NXQkA\n",
      "App Rate Limit 20:1,100:120\n",
      "App Rate Limit Count 2:1,2:120\n",
      "200\n"
     ]
    }
   ],
   "source": [
    "#testing \n",
    "#API key needs to be updated once expired\n",
    "match_id = 2932547603\n",
    "#return account_id\n",
    "account_id = get_acct_id('YaomiKing', 'na1', api_key)\n",
    "print(account_id)\n",
    "#get json data on past 100 matches\n",
    "history = get_match_history(account_id, 'na1', '420', '11', 0, api_key)"
   ]
  },
  {
   "cell_type": "code",
   "execution_count": 26,
   "metadata": {
    "collapsed": true
   },
   "outputs": [],
   "source": [
    "#df = pd.DataFrame(history['matches'])\n",
    "# Exploring match history as a Pandas DataFrame\n",
    "#print(df.info())"
   ]
  },
  {
   "cell_type": "markdown",
   "metadata": {},
   "source": [
    "## Building a Master Data Frame"
   ]
  },
  {
   "cell_type": "code",
   "execution_count": 1,
   "metadata": {},
   "outputs": [],
   "source": [
    "#Lists of player names in first set\n",
    "#Players are high tier ranked players from which we will draw match data from\n",
    "players1 = ['scarra', 'gosu', 'trick2g' 'hashinshin', 'loltyler1', 'imaqtpie',\n",
    "             'nightblue3', 'wingsofdeath', 'chapanya', 'shiphtur', 'doublelift',\n",
    "            'voyboy', 'yassuo', 'gripex90','aphromoo', 'pokimane', 'dyrus', 'TF Blade',\n",
    "           'pants are dragon', 'lourlo', 'allorim', 'Boxbôx', 'Per Se Bambi', 'horseie', 'Zile',\n",
    "          'Nicolaj Jensen', 'pokeball', 'valkrin', 'hate', 'likeamaws', 'twinge',\n",
    "          'sakurafloret', 'Chad jungle', 'mintcola', 'blobheart', 'joonroot', 'dominatelane',\n",
    "           'vegeta', 'omnidk', 'dr beat', 'voki', 'kaipop', 'oogie', 'sophist sage',\n",
    "           'takeji', 'zutter', 'haseeb', 'delyze', 'kicking', 'xiao ming',\n",
    "           'SKT T1 Madlife', 'abibibi', 'Papá Chau', 'data88', 'wildtomgg',\n",
    "           'bronson', 'd1 police', 'mercury','a noob draven', 'yao 17', 'xuegao',\n",
    "           'treh', 'cdew', 'fakego', 'feng6', 'heisendong', 'pytrigon', 'billbobbilly', 'techxiii',\n",
    "            'cao cao n1', 'honi', 'oddi3', 'adrian riv3n', 'xj11',\n",
    "            'yu sang', 'meteos', 'ffwii', 'starwhale', 'iwdominatelol',\n",
    "            'saskio', 'froogie', 'mancloud2', 'yoshi', 'haebaragi',\n",
    "            'stuntopolis', 'wonhae', 'nopause', 'the holy slurp',\n",
    "            '100T Bangg', '100t freeze', 'taproot86', 'bloodwater', 'catria', 'trinn',\n",
    "            'nasfinest', 'im avi', 'liquid matt', 'dmytro', 'omizu', 'huhi',\n",
    "            'TL cain', 'waynedwops', 'busioc', 'chaosrain', 'free papachau',\n",
    "            'chris', '5fire', 'shiba inu', 'tsm bjergsen', '100t fragas', 'c9 sneaky',\n",
    "           'thorn', 'deftsuo', 'adc abuser', 'dellzor', 'yisus', 'nebula', 'xin xin',\n",
    "            'zoebestgurl', 'canadaad', 'rawvision', 'll stylish', 'oldhome', 'link',\n",
    "            'rainbowboom', 'raigarak', 'thiengar', 'skeggsy', 'kyroo1', 'frosfroes',\n",
    "            'wolfer', 'seouless', 'don tito', 'seanic', 'daddyio', 'aeriya',\n",
    "            'quantum0002', 'ordinn', 'roja', 'boom u dead', 'rain lover',\n",
    "            'jimmytheslayer', 'ikingvex', 'sun prince', 'morningst4r', 'zatsmod',\n",
    "            'dragoonsmash', 'little mix', 'jim j poggers', 'll justice', 'shupian',\n",
    "            'fwii', 'zaion', 'cile', 'gate', 'aesthetic player', 'duoqueen1',\n",
    "            'urelectric', 'bigfatlp']"
   ]
  },
  {
   "cell_type": "code",
   "execution_count": 22,
   "metadata": {
    "collapsed": true
   },
   "outputs": [],
   "source": [
    "#Define function to get match history \n",
    "def get_many_matches(acct_names, key, file_name, add_on=False):\n",
    "    '''\n",
    "    Returns a list of match ids\n",
    "    \n",
    "    >>> l = [1,2,3,4]\n",
    "    >>> with open(\"test.txt\", \"wb\") as fp:   #Pickling\n",
    "    ...   pickle.dump(l, fp)\n",
    "    ... \n",
    "    >>> with open(\"test.txt\", \"rb\") as fp:   # Unpickling\n",
    "    ...   b = pickle.load(fp)\n",
    "    ... \n",
    "    >>> b\n",
    "    [1, 2, 3, 4]\n",
    "    \n",
    "    add_on = True -> add game ids to the specified pickled file\n",
    "    add_on = False (default) -> create new pickled file of game ids\n",
    "    '''\n",
    "    #store matches in the list and keep count of api calls\n",
    "    match_list = []\n",
    "    bad_player_ids = []\n",
    "    calls = 0\n",
    "    \n",
    "    #if the api is called 100 times, then sleep for 2 mins\n",
    "    for player in acct_names:\n",
    "        if calls == 100:\n",
    "            print(\"API calls at 100, sleeping for 2 mins...\")\n",
    "            time.sleep(121)\n",
    "            calls = 0\n",
    "            \n",
    "        acct_id = get_acct_id(player, 'na1', key)\n",
    "        calls += 1\n",
    "        \n",
    "        if calls == 100:\n",
    "            print(\"API calls at 100, sleeping for 2 mins...\")\n",
    "            time.sleep(121)\n",
    "            calls = 0\n",
    "        \n",
    "        #Can sometimes return bad game data and return None\n",
    "        #Handle the TypeError exception\n",
    "        try:    \n",
    "            beg_ind = 0\n",
    "            data = get_match_history(acct_id, 'na1', '420', '11',\\\n",
    "                                     beg_ind, key)['matches']\n",
    "            calls += 1\n",
    "        except TypeError:\n",
    "            #log current play and Skip current player and move on to the next\n",
    "            bad_player_ids.append(player)\n",
    "            continue\n",
    "    \n",
    "        while data != []:\n",
    "            if calls == 100:\n",
    "                print(\"API calls at 100, sleeping for 2 mins...\")\n",
    "                time.sleep(121)\n",
    "                calls = 0\n",
    "            \n",
    "            data = get_match_history(acct_id, 'na1', '420', '11',\\\n",
    "                                     beg_ind, key)['matches']\n",
    "            calls += 1\n",
    "            \n",
    "            for game in data:\n",
    "                if game['gameId'] not in match_list:\n",
    "                    match_list.append(game['gameId'])\n",
    "            beg_ind += 100\n",
    "            \n",
    "    \n",
    "    #store list using pickle for an existing file in \n",
    "    #the PlayerMatches directory\n",
    "    if add_on == True:\n",
    "        with open('PlayerMatches\\\\'+ file_name, 'rb') as file:\n",
    "            old_list = pickle.load(file)\n",
    "            old_list = list(set(old_list + match_list))\n",
    "        with open('PlayerMatches\\\\'+ file_name, 'wb') as file:\n",
    "            pickle.dump(old_list, file)\n",
    "    \n",
    "    #store list in a new file using pickle\n",
    "    elif add_on == False:\n",
    "        with open('PlayerMatches\\\\'+ file_name, 'wb') as file:\n",
    "            pickle.dump(match_list, file)\n",
    "    \n",
    "    #print out player names for which we could not get match ids for\n",
    "    if len(bad_player_ids) != 0:\n",
    "        print('Could not return match ids for player: ' + str(bad_player_ids))\n",
    "            \n",
    "    "
   ]
  },
  {
   "cell_type": "code",
   "execution_count": 23,
   "metadata": {
    "collapsed": true,
    "scrolled": true
   },
   "outputs": [],
   "source": [
    "#add on to players1list.txt\n",
    "#get_many_matches([], api_key, 'players1list.txt', add_on=True)"
   ]
  },
  {
   "cell_type": "code",
   "execution_count": 25,
   "metadata": {
    "collapsed": true
   },
   "outputs": [],
   "source": [
    "def create_row(json_data):\n",
    "    #create all columns for dataframe\n",
    "    row_contents = {}\n",
    "    row_contents['game_id'] = json_data.get('gameId', 'unknown')\n",
    "    row_contents['game_length_mins'] = json_data.get('gameDuration', 'unknown')\n",
    "    add_player_name(row_contents, json_data)\n",
    "    add_champ_pick(row_contents, json_data, champ_dict)\n",
    "    add_sumspell_pick(row_contents, json_data, sumspell_dict)\n",
    "    add_stats(row_contents, json_data, item_dict)\n",
    "    add_team(row_contents, json_data)\n",
    "    add_team_stats(row_contents, json_data)\n",
    "\n",
    "    #return pd.DataFrame(row_contents, index=[0])\n",
    "    return row_contents\n"
   ]
  },
  {
   "cell_type": "markdown",
   "metadata": {
    "collapsed": true
   },
   "source": [
    "### Defining some helper functions to clean data for create_row()"
   ]
  },
  {
   "cell_type": "code",
   "execution_count": 27,
   "metadata": {
    "collapsed": true
   },
   "outputs": [],
   "source": [
    "#Function to create player#:player name\n",
    "def add_player_name(to_dict, json_data):\n",
    "    for player in range(len(json_data.get('participantIdentities'))):\n",
    "        to_dict['p'+str(player+1)+'_name'] = json_data['participantIdentities'][player]['player'].get('summonerName', 'unknown')\n",
    "    print(json_data['gameId'])"
   ]
  },
  {
   "cell_type": "code",
   "execution_count": 28,
   "metadata": {
    "collapsed": true
   },
   "outputs": [],
   "source": [
    "#adds champion name\n",
    "def add_champ_pick(to_dict, json_data, champ_map):\n",
    "    for player in range(len(json_data['participantIdentities'])):\n",
    "        champ = json_data['participants'][player].get('championId', 'unknown')\n",
    "        to_dict['p'+str(player+1)+'_champ'] = champ\n",
    "        if champ in champ_map:\n",
    "            to_dict['p'+str(player+1)+'_champ'] = champ_map[to_dict['p'+str(player+1)+'_champ']]"
   ]
  },
  {
   "cell_type": "code",
   "execution_count": 29,
   "metadata": {
    "collapsed": true
   },
   "outputs": [],
   "source": [
    "#addes picks of summoner spells\n",
    "def add_sumspell_pick(to_dict, json_data, spell_map):\n",
    "    for player in range(len(json_data['participantIdentities'])):\n",
    "        spell1 = json_data['participants'][player].get('spell1Id', 'unknown')\n",
    "        spell2 = json_data['participants'][player].get('spell2Id', 'unknown')\n",
    "        to_dict['p'+str(player+1)+'_spell1'] = spell1\n",
    "        to_dict['p'+str(player+1)+'_spell2'] = spell2\n",
    "        if spell1 in sumspell_dict:\n",
    "            to_dict['p'+str(player+1)+'_spell1'] = sumspell_dict[to_dict['p'+str(player+1)+'_spell1']]\n",
    "        if spell2 in sumspell_dict:\n",
    "            to_dict['p'+str(player+1)+'_spell2'] = sumspell_dict[to_dict['p'+str(player+1)+'_spell2']]"
   ]
  },
  {
   "cell_type": "code",
   "execution_count": 30,
   "metadata": {
    "collapsed": true,
    "scrolled": true
   },
   "outputs": [],
   "source": [
    "#define function to add stats to Data Frame\n",
    "def add_stats(to_dict, json_data, item_map):\n",
    "    pattern = re.compile('item\\d')\n",
    "    for player in range(len(json_data['participants'])):\n",
    "        for stat in json_data['participants'][player]['stats']:\n",
    "            stat_name = json_data['participants'][player]['stats'].get(stat, 'unknown')\n",
    "            to_dict['p'+str(player+1)+stat] = stat_name\n",
    "            #if item not in item_map it means its not a current active item as of patch\n",
    "            if (bool(pattern.match(stat)) == True) and (stat_name in item_map):\n",
    "                to_dict['p'+str(player+1)+stat] = item_map[to_dict['p'+str(player+1)+stat]]"
   ]
  },
  {
   "cell_type": "code",
   "execution_count": 31,
   "metadata": {
    "collapsed": true
   },
   "outputs": [],
   "source": [
    "#determine team\n",
    "def add_team(to_dict, json_data):\n",
    "    for player in range(len(json_data.get('participantIdentities'))):\n",
    "        to_dict['p'+str(player+1)+'_team'] = json_data['participants'][player].get('teamId', 'unknown')\n",
    "        if to_dict['p'+str(player+1)+'_team'] == 100:\n",
    "            to_dict['p'+str(player+1)+'_team'] = 'blue'\n",
    "       \n",
    "    else:\n",
    "            to_dict['p'+str(player+1)+'_team'] = 'red'"
   ]
  },
  {
   "cell_type": "code",
   "execution_count": 32,
   "metadata": {
    "collapsed": true
   },
   "outputs": [],
   "source": [
    "#add stats from all 10 players\n",
    "def add_team_stats(to_dict, json_data):\n",
    "    for team in range(len(json_data['teams'])):\n",
    "        if json_data['teams'][team]['teamId'] == 100:\n",
    "            for stat in json_data['teams'][team]:\n",
    "                to_dict['blue_team_'+ stat] = json_data['teams'][team].get(stat, 'unknown')\n",
    "            del to_dict['blue_team_bans']\n",
    "            del to_dict['blue_team_teamId']\n",
    "        else:\n",
    "            for stat in json_data['teams'][team]:\n",
    "                to_dict['red_team_'+ stat] = json_data['teams'][team].get(stat, 'unknown')\n",
    "            del to_dict['red_team_bans']\n",
    "            del to_dict['red_team_teamId']\n"
   ]
  },
  {
   "cell_type": "markdown",
   "metadata": {
    "collapsed": true
   },
   "source": [
    "### Putting it all together"
   ]
  },
  {
   "cell_type": "code",
   "execution_count": 80,
   "metadata": {
    "collapsed": true
   },
   "outputs": [],
   "source": [
    "def create_master_data(match_list, region, key, out_name=None, csv=False):\n",
    "    #Create csv files of about 10,000 games at a time\n",
    "    '''\n",
    "    If csv=True, then the function will create a .csv of the match data,\n",
    "    otherwise return a dataframe\n",
    "    \n",
    "    match_list will be the pickled list of match ids using get_many_matches()\n",
    "    in PlayerMatches directory\n",
    "    match_list: pickled filed of match ids in PlayerMatches directory\n",
    "    '''\n",
    "    match_data = []\n",
    "    failed_games = []\n",
    "    loop_count = 0\n",
    "    \n",
    "    \n",
    "    with open('PlayerMatches\\\\'+ match_list, 'rb') as file:\n",
    "        matches = pickle.load(file)\n",
    "        #Uncomment below to test for 200 matches\n",
    "        #matches = matches[:200]\n",
    "  \n",
    "    #Limit this loop to 100 calls every 2 mins   \n",
    "    for match in matches:\n",
    "        try:\n",
    "            if loop_count == 100:\n",
    "                print(\"wait 2 minutes before next call\")\n",
    "                time.sleep(121)\n",
    "                loop_count = 0\n",
    "\n",
    "            loop_count += 1\n",
    "            stats = get_match_stats(match, region, key)\n",
    "\n",
    "            if stats == None:\n",
    "                print('Skipping Game...')\n",
    "                continue\n",
    "\n",
    "            row = create_row(stats)\n",
    "            match_data.append(row)\n",
    "        except Exception as e:\n",
    "            print(e)\n",
    "            print('Failed to get data for game: ' + str(match))\n",
    "            failed_games.append(match)\n",
    "            continue\n",
    "            \n",
    "        \n",
    "    if csv == False:\n",
    "        return pd.DataFrame(match_data)\n",
    "\n",
    "    elif csv == True:\n",
    "        out_file = 'PlayerMatches\\\\' + str(out_name) + '.csv'\n",
    "        x = pd.DataFrame(match_data)\n",
    "        x.to_csv(out_file)\n",
    "        \n",
    "        with open('PlayerMatches\\\\'+ 'failedgames.txt', 'wb') as file:\n",
    "            pickle.dump(failed_games, file)\n",
    "        \n",
    "    #handle exception if there is an error and write current data to file\n",
    "    #and print out last match id so I can start back from there"
   ]
  },
  {
   "cell_type": "code",
   "execution_count": 111,
   "metadata": {
    "collapsed": true,
    "scrolled": true
   },
   "outputs": [],
   "source": [
    "#create_master_data('matchid_2.txt', 'na1', api_key, out_name='match_data_2', csv=True)"
   ]
  },
  {
   "cell_type": "code",
   "execution_count": null,
   "metadata": {
    "collapsed": true
   },
   "outputs": [],
   "source": [
    "#save list of ids 10,000 at a time using naming convention matchid_#\n",
    "#from the total list of ids make sublists of 10,000 ids for create_master_data() \n",
    "\n",
    "#DO THIS BY:\n",
    "    \n",
    "#with open(\"PlayerMatches\\\\players1list.txt\", \"rb\") as file:\n",
    "#    big_list = pickle.load(file)\n",
    "\n",
    "#FIRST 10000 games\n",
    "#with open(\"PlayerMatches\\\\matchid_1.txt\", \"wb\") as file:\n",
    "#    sublist = big_list[:10000] \n",
    "#    pickle.dump(sublist, file)\n",
    "\n",
    "#NEXT 10000 games\n",
    "#with open(\"PlayerMatches\\\\matchid_5.txt\", \"wb\") as file:\n",
    "#    sublist = big_list[40000:50000] \n",
    "#    pickle.dump(sublist, file)"
   ]
  }
 ],
 "metadata": {
  "kernelspec": {
   "display_name": "Python 3",
   "language": "python",
   "name": "python3"
  },
  "language_info": {
   "codemirror_mode": {
    "name": "ipython",
    "version": 3
   },
   "file_extension": ".py",
   "mimetype": "text/x-python",
   "name": "python",
   "nbconvert_exporter": "python",
   "pygments_lexer": "ipython3",
   "version": "3.6.3"
  }
 },
 "nbformat": 4,
 "nbformat_minor": 2
}
