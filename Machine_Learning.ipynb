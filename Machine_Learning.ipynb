{
 "cells": [
  {
   "cell_type": "markdown",
   "metadata": {},
   "source": [
    "# MACHINE LEARNING"
   ]
  },
  {
   "cell_type": "code",
   "execution_count": 90,
   "metadata": {
    "collapsed": true
   },
   "outputs": [],
   "source": [
    "import pandas as pd\n",
    "import matplotlib.pyplot as plt\n",
    "import numpy as np\n",
    "from sklearn.metrics import classification_report\n",
    "from sklearn.metrics import roc_curve\n",
    "from sklearn.model_selection import cross_val_score\n",
    "from sklearn.model_selection import GridSearchCV\n",
    "from sklearn.model_selection import RandomizedSearchCV\n",
    "from sklearn.model_selection import train_test_split\n",
    "from sklearn.pipeline import Pipeline\n",
    "from sklearn.preprocessing import StandardScaler\n",
    "from sklearn.linear_model import LogisticRegression\n",
    "from sklearn.neighbors import KNeighborsClassifier\n",
    "from sklearn.ensemble import RandomForestClassifier\n",
    "from sklearn.svm import SVC\n",
    "import pickle\n",
    "import warnings"
   ]
  },
  {
   "cell_type": "code",
   "execution_count": 105,
   "metadata": {
    "collapsed": true
   },
   "outputs": [],
   "source": [
    "warnings.filterwarnings('ignore')"
   ]
  },
  {
   "cell_type": "code",
   "execution_count": 106,
   "metadata": {},
   "outputs": [
    {
     "data": {
      "text/html": [
       "<style>body {\n",
       "    margin: 0;\n",
       "    font-family: Helvetica;\n",
       "}\n",
       "table.dataframe {\n",
       "    border-collapse: collapse;\n",
       "    border: none;\n",
       "}\n",
       "table.dataframe tr {\n",
       "    border: none;\n",
       "}\n",
       "table.dataframe td, table.dataframe th {\n",
       "    margin: 0;\n",
       "    border: 1px solid white;\n",
       "    padding-left: 0.25em;\n",
       "    padding-right: 0.25em;\n",
       "}\n",
       "table.dataframe th:not(:empty) {\n",
       "    background-color: #fec;\n",
       "    text-align: left;\n",
       "    font-weight: normal;\n",
       "}\n",
       "table.dataframe tr:nth-child(2) th:empty {\n",
       "    border-left: none;\n",
       "    border-right: 1px dashed #888;\n",
       "}\n",
       "table.dataframe td {\n",
       "    border: 2px solid #ccf;\n",
       "    background-color: #f4f4ff;\n",
       "}\n",
       "h3 {\n",
       "    color: white;\n",
       "    background-color: black;\n",
       "    padding: 0.5em;\n",
       "}\n",
       "</style>"
      ],
      "text/plain": [
       "<IPython.core.display.HTML object>"
      ]
     },
     "execution_count": 106,
     "metadata": {},
     "output_type": "execute_result"
    }
   ],
   "source": [
    "%matplotlib inline\n",
    "pd.set_option(\"display.max_columns\", None)\n",
    "from IPython.core.display import HTML\n",
    "css = open('style-table.css').read() + open('style-notebook.css').read()\n",
    "HTML('<style>{}</style>'.format(css))\n"
   ]
  },
  {
   "cell_type": "markdown",
   "metadata": {},
   "source": [
    "## Preprocessing the data"
   ]
  },
  {
   "cell_type": "markdown",
   "metadata": {},
   "source": [
    "#### Feature Set 1\n",
    "This set of features will include the champion archetypes and counts"
   ]
  },
  {
   "cell_type": "code",
   "execution_count": 3,
   "metadata": {
    "collapsed": true
   },
   "outputs": [],
   "source": [
    "df = pd.read_csv('lol_ml_data.csv')"
   ]
  },
  {
   "cell_type": "code",
   "execution_count": 37,
   "metadata": {
    "scrolled": true
   },
   "outputs": [
    {
     "data": {
      "text/html": [
       "<div>\n",
       "<style scoped>\n",
       "    .dataframe tbody tr th:only-of-type {\n",
       "        vertical-align: middle;\n",
       "    }\n",
       "\n",
       "    .dataframe tbody tr th {\n",
       "        vertical-align: top;\n",
       "    }\n",
       "\n",
       "    .dataframe thead th {\n",
       "        text-align: right;\n",
       "    }\n",
       "</style>\n",
       "<table border=\"1\" class=\"dataframe\">\n",
       "  <thead>\n",
       "    <tr style=\"text-align: right;\">\n",
       "      <th></th>\n",
       "      <th>p1_champ</th>\n",
       "      <th>p2_champ</th>\n",
       "      <th>p3_champ</th>\n",
       "      <th>p4_champ</th>\n",
       "      <th>p5_champ</th>\n",
       "      <th>p6_champ</th>\n",
       "      <th>p7_champ</th>\n",
       "      <th>p8_champ</th>\n",
       "      <th>p9_champ</th>\n",
       "      <th>p10_champ</th>\n",
       "      <th>game_length_mins</th>\n",
       "      <th>blue_team_win</th>\n",
       "      <th>red_team_win</th>\n",
       "      <th>p1_spell1</th>\n",
       "      <th>p2_spell1</th>\n",
       "      <th>p3_spell1</th>\n",
       "      <th>p4_spell1</th>\n",
       "      <th>p5_spell1</th>\n",
       "      <th>p6_spell1</th>\n",
       "      <th>p7_spell1</th>\n",
       "      <th>p8_spell1</th>\n",
       "      <th>p9_spell1</th>\n",
       "      <th>p10_spell1</th>\n",
       "      <th>p1_spell2</th>\n",
       "      <th>p2_spell2</th>\n",
       "      <th>p3_spell2</th>\n",
       "      <th>p4_spell2</th>\n",
       "      <th>p5_spell2</th>\n",
       "      <th>p6_spell2</th>\n",
       "      <th>p7_spell2</th>\n",
       "      <th>p8_spell2</th>\n",
       "      <th>p9_spell2</th>\n",
       "      <th>p10_spell2</th>\n",
       "      <th>p1perkPrimaryStyle</th>\n",
       "      <th>p2perkPrimaryStyle</th>\n",
       "      <th>p3perkPrimaryStyle</th>\n",
       "      <th>p4perkPrimaryStyle</th>\n",
       "      <th>p5perkPrimaryStyle</th>\n",
       "      <th>p6perkPrimaryStyle</th>\n",
       "      <th>p7perkPrimaryStyle</th>\n",
       "      <th>p8perkPrimaryStyle</th>\n",
       "      <th>p9perkPrimaryStyle</th>\n",
       "      <th>p10perkPrimaryStyle</th>\n",
       "      <th>p1perkSubStyle</th>\n",
       "      <th>p2perkSubStyle</th>\n",
       "      <th>p3perkSubStyle</th>\n",
       "      <th>p4perkSubStyle</th>\n",
       "      <th>p5perkSubStyle</th>\n",
       "      <th>p6perkSubStyle</th>\n",
       "      <th>p7perkSubStyle</th>\n",
       "      <th>p8perkSubStyle</th>\n",
       "      <th>p9perkSubStyle</th>\n",
       "      <th>p10perkSubStyle</th>\n",
       "      <th>p1_champ_prim_role</th>\n",
       "      <th>p2_champ_prim_role</th>\n",
       "      <th>p3_champ_prim_role</th>\n",
       "      <th>p4_champ_prim_role</th>\n",
       "      <th>p5_champ_prim_role</th>\n",
       "      <th>p6_champ_prim_role</th>\n",
       "      <th>p7_champ_prim_role</th>\n",
       "      <th>p8_champ_prim_role</th>\n",
       "      <th>p9_champ_prim_role</th>\n",
       "      <th>p10_champ_prim_role</th>\n",
       "      <th>p1_champ_sec_role</th>\n",
       "      <th>p2_champ_sec_role</th>\n",
       "      <th>p3_champ_sec_role</th>\n",
       "      <th>p4_champ_sec_role</th>\n",
       "      <th>p5_champ_sec_role</th>\n",
       "      <th>p6_champ_sec_role</th>\n",
       "      <th>p7_champ_sec_role</th>\n",
       "      <th>p8_champ_sec_role</th>\n",
       "      <th>p9_champ_sec_role</th>\n",
       "      <th>p10_champ_sec_role</th>\n",
       "      <th>tank_count</th>\n",
       "      <th>mage_count</th>\n",
       "      <th>marksman_count</th>\n",
       "      <th>support_count</th>\n",
       "      <th>fighter_count</th>\n",
       "      <th>assassin_count</th>\n",
       "    </tr>\n",
       "  </thead>\n",
       "  <tbody>\n",
       "    <tr>\n",
       "      <th>0</th>\n",
       "      <td>Karma</td>\n",
       "      <td>Teemo</td>\n",
       "      <td>JarvanIV</td>\n",
       "      <td>Ezreal</td>\n",
       "      <td>Neeko</td>\n",
       "      <td>Ryze</td>\n",
       "      <td>Kaisa</td>\n",
       "      <td>Cassiopeia</td>\n",
       "      <td>Braum</td>\n",
       "      <td>Rengar</td>\n",
       "      <td>38.466667</td>\n",
       "      <td>Win</td>\n",
       "      <td>Fail</td>\n",
       "      <td>SummonerFlash</td>\n",
       "      <td>SummonerIgnite</td>\n",
       "      <td>SummonerFlash</td>\n",
       "      <td>SummonerFlash</td>\n",
       "      <td>SummonerFlash</td>\n",
       "      <td>SummonerTeleport</td>\n",
       "      <td>SummonerFlash</td>\n",
       "      <td>SummonerBoost</td>\n",
       "      <td>SummonerIgnite</td>\n",
       "      <td>SummonerFlash</td>\n",
       "      <td>SummonerIgnite</td>\n",
       "      <td>SummonerFlash</td>\n",
       "      <td>SummonerSmite</td>\n",
       "      <td>SummonerHeal</td>\n",
       "      <td>SummonerIgnite</td>\n",
       "      <td>SummonerFlash</td>\n",
       "      <td>SummonerHeal</td>\n",
       "      <td>SummonerFlash</td>\n",
       "      <td>SummonerFlash</td>\n",
       "      <td>SummonerSmite</td>\n",
       "      <td>Sorcery</td>\n",
       "      <td>Sorcery</td>\n",
       "      <td>Domination</td>\n",
       "      <td>Inspiration</td>\n",
       "      <td>Sorcery</td>\n",
       "      <td>Sorcery</td>\n",
       "      <td>Inspiration</td>\n",
       "      <td>Sorcery</td>\n",
       "      <td>Resolve</td>\n",
       "      <td>Domination</td>\n",
       "      <td>Inspiration</td>\n",
       "      <td>Domination</td>\n",
       "      <td>Inspiration</td>\n",
       "      <td>Sorcery</td>\n",
       "      <td>Domination</td>\n",
       "      <td>Domination</td>\n",
       "      <td>Sorcery</td>\n",
       "      <td>Domination</td>\n",
       "      <td>Inspiration</td>\n",
       "      <td>Sorcery</td>\n",
       "      <td>Mage</td>\n",
       "      <td>Marksman</td>\n",
       "      <td>Tank</td>\n",
       "      <td>Marksman</td>\n",
       "      <td>Mage</td>\n",
       "      <td>Mage</td>\n",
       "      <td>Marksman</td>\n",
       "      <td>Mage</td>\n",
       "      <td>Support</td>\n",
       "      <td>Assassin</td>\n",
       "      <td>Support</td>\n",
       "      <td>Assassin</td>\n",
       "      <td>Fighter</td>\n",
       "      <td>Mage</td>\n",
       "      <td>Support</td>\n",
       "      <td>Fighter</td>\n",
       "      <td>None</td>\n",
       "      <td>None</td>\n",
       "      <td>Tank</td>\n",
       "      <td>Fighter</td>\n",
       "      <td>2</td>\n",
       "      <td>5</td>\n",
       "      <td>3</td>\n",
       "      <td>3</td>\n",
       "      <td>3</td>\n",
       "      <td>2</td>\n",
       "    </tr>\n",
       "    <tr>\n",
       "      <th>1</th>\n",
       "      <td>Teemo</td>\n",
       "      <td>Tristana</td>\n",
       "      <td>LeeSin</td>\n",
       "      <td>Bard</td>\n",
       "      <td>Leblanc</td>\n",
       "      <td>Lucian</td>\n",
       "      <td>Irelia</td>\n",
       "      <td>Blitzcrank</td>\n",
       "      <td>Orianna</td>\n",
       "      <td>Kindred</td>\n",
       "      <td>23.400000</td>\n",
       "      <td>Win</td>\n",
       "      <td>Fail</td>\n",
       "      <td>SummonerFlash</td>\n",
       "      <td>SummonerFlash</td>\n",
       "      <td>SummonerFlash</td>\n",
       "      <td>SummonerFlash</td>\n",
       "      <td>SummonerIgnite</td>\n",
       "      <td>SummonerHeal</td>\n",
       "      <td>SummonerTeleport</td>\n",
       "      <td>SummonerIgnite</td>\n",
       "      <td>SummonerBarrier</td>\n",
       "      <td>SummonerFlash</td>\n",
       "      <td>SummonerIgnite</td>\n",
       "      <td>SummonerHeal</td>\n",
       "      <td>SummonerSmite</td>\n",
       "      <td>SummonerIgnite</td>\n",
       "      <td>SummonerFlash</td>\n",
       "      <td>SummonerFlash</td>\n",
       "      <td>SummonerFlash</td>\n",
       "      <td>SummonerFlash</td>\n",
       "      <td>SummonerFlash</td>\n",
       "      <td>SummonerSmite</td>\n",
       "      <td>Sorcery</td>\n",
       "      <td>Inspiration</td>\n",
       "      <td>Domination</td>\n",
       "      <td>Domination</td>\n",
       "      <td>Domination</td>\n",
       "      <td>Inspiration</td>\n",
       "      <td>Inspiration</td>\n",
       "      <td>Resolve</td>\n",
       "      <td>Sorcery</td>\n",
       "      <td>Inspiration</td>\n",
       "      <td>Resolve</td>\n",
       "      <td>Sorcery</td>\n",
       "      <td>Inspiration</td>\n",
       "      <td>Resolve</td>\n",
       "      <td>Sorcery</td>\n",
       "      <td>Sorcery</td>\n",
       "      <td>Sorcery</td>\n",
       "      <td>Inspiration</td>\n",
       "      <td>Inspiration</td>\n",
       "      <td>Domination</td>\n",
       "      <td>Marksman</td>\n",
       "      <td>Marksman</td>\n",
       "      <td>Fighter</td>\n",
       "      <td>Support</td>\n",
       "      <td>Assassin</td>\n",
       "      <td>Marksman</td>\n",
       "      <td>Fighter</td>\n",
       "      <td>Tank</td>\n",
       "      <td>Mage</td>\n",
       "      <td>Marksman</td>\n",
       "      <td>Assassin</td>\n",
       "      <td>Assassin</td>\n",
       "      <td>Assassin</td>\n",
       "      <td>Mage</td>\n",
       "      <td>Mage</td>\n",
       "      <td>None</td>\n",
       "      <td>Assassin</td>\n",
       "      <td>Fighter</td>\n",
       "      <td>Support</td>\n",
       "      <td>None</td>\n",
       "      <td>1</td>\n",
       "      <td>3</td>\n",
       "      <td>4</td>\n",
       "      <td>2</td>\n",
       "      <td>3</td>\n",
       "      <td>5</td>\n",
       "    </tr>\n",
       "    <tr>\n",
       "      <th>2</th>\n",
       "      <td>JarvanIV</td>\n",
       "      <td>Lux</td>\n",
       "      <td>Zyra</td>\n",
       "      <td>Jax</td>\n",
       "      <td>Kaisa</td>\n",
       "      <td>Tryndamere</td>\n",
       "      <td>Ezreal</td>\n",
       "      <td>Thresh</td>\n",
       "      <td>Xerath</td>\n",
       "      <td>Karthus</td>\n",
       "      <td>31.733333</td>\n",
       "      <td>Fail</td>\n",
       "      <td>Win</td>\n",
       "      <td>SummonerFlash</td>\n",
       "      <td>SummonerFlash</td>\n",
       "      <td>SummonerTeleport</td>\n",
       "      <td>SummonerTeleport</td>\n",
       "      <td>SummonerFlash</td>\n",
       "      <td>SummonerIgnite</td>\n",
       "      <td>SummonerHeal</td>\n",
       "      <td>SummonerIgnite</td>\n",
       "      <td>SummonerHeal</td>\n",
       "      <td>SummonerSmite</td>\n",
       "      <td>SummonerSmite</td>\n",
       "      <td>SummonerIgnite</td>\n",
       "      <td>SummonerFlash</td>\n",
       "      <td>SummonerFlash</td>\n",
       "      <td>SummonerHeal</td>\n",
       "      <td>SummonerFlash</td>\n",
       "      <td>SummonerFlash</td>\n",
       "      <td>SummonerFlash</td>\n",
       "      <td>SummonerFlash</td>\n",
       "      <td>SummonerFlash</td>\n",
       "      <td>Domination</td>\n",
       "      <td>Sorcery</td>\n",
       "      <td>Sorcery</td>\n",
       "      <td>Inspiration</td>\n",
       "      <td>Inspiration</td>\n",
       "      <td>Inspiration</td>\n",
       "      <td>Inspiration</td>\n",
       "      <td>Resolve</td>\n",
       "      <td>Sorcery</td>\n",
       "      <td>Domination</td>\n",
       "      <td>Inspiration</td>\n",
       "      <td>Inspiration</td>\n",
       "      <td>Domination</td>\n",
       "      <td>Inspiration</td>\n",
       "      <td>Sorcery</td>\n",
       "      <td>Resolve</td>\n",
       "      <td>Sorcery</td>\n",
       "      <td>Inspiration</td>\n",
       "      <td>Inspiration</td>\n",
       "      <td>Inspiration</td>\n",
       "      <td>Tank</td>\n",
       "      <td>Mage</td>\n",
       "      <td>Mage</td>\n",
       "      <td>Fighter</td>\n",
       "      <td>Marksman</td>\n",
       "      <td>Fighter</td>\n",
       "      <td>Marksman</td>\n",
       "      <td>Support</td>\n",
       "      <td>Mage</td>\n",
       "      <td>Mage</td>\n",
       "      <td>Fighter</td>\n",
       "      <td>Support</td>\n",
       "      <td>Support</td>\n",
       "      <td>Assassin</td>\n",
       "      <td>None</td>\n",
       "      <td>Assassin</td>\n",
       "      <td>Mage</td>\n",
       "      <td>Fighter</td>\n",
       "      <td>Assassin</td>\n",
       "      <td>None</td>\n",
       "      <td>1</td>\n",
       "      <td>5</td>\n",
       "      <td>2</td>\n",
       "      <td>3</td>\n",
       "      <td>4</td>\n",
       "      <td>3</td>\n",
       "    </tr>\n",
       "    <tr>\n",
       "      <th>3</th>\n",
       "      <td>Blitzcrank</td>\n",
       "      <td>Graves</td>\n",
       "      <td>Caitlyn</td>\n",
       "      <td>Kled</td>\n",
       "      <td>Diana</td>\n",
       "      <td>LeeSin</td>\n",
       "      <td>Lucian</td>\n",
       "      <td>Thresh</td>\n",
       "      <td>Lissandra</td>\n",
       "      <td>Urgot</td>\n",
       "      <td>35.366667</td>\n",
       "      <td>Win</td>\n",
       "      <td>Fail</td>\n",
       "      <td>SummonerIgnite</td>\n",
       "      <td>SummonerFlash</td>\n",
       "      <td>SummonerHeal</td>\n",
       "      <td>SummonerTeleport</td>\n",
       "      <td>SummonerFlash</td>\n",
       "      <td>SummonerFlash</td>\n",
       "      <td>SummonerHeal</td>\n",
       "      <td>SummonerFlash</td>\n",
       "      <td>SummonerTeleport</td>\n",
       "      <td>SummonerFlash</td>\n",
       "      <td>SummonerFlash</td>\n",
       "      <td>SummonerSmite</td>\n",
       "      <td>SummonerFlash</td>\n",
       "      <td>SummonerFlash</td>\n",
       "      <td>SummonerTeleport</td>\n",
       "      <td>SummonerSmite</td>\n",
       "      <td>SummonerFlash</td>\n",
       "      <td>SummonerIgnite</td>\n",
       "      <td>SummonerFlash</td>\n",
       "      <td>SummonerTeleport</td>\n",
       "      <td>Resolve</td>\n",
       "      <td>Inspiration</td>\n",
       "      <td>Inspiration</td>\n",
       "      <td>Inspiration</td>\n",
       "      <td>Sorcery</td>\n",
       "      <td>Domination</td>\n",
       "      <td>Inspiration</td>\n",
       "      <td>Resolve</td>\n",
       "      <td>Sorcery</td>\n",
       "      <td>Inspiration</td>\n",
       "      <td>Sorcery</td>\n",
       "      <td>Sorcery</td>\n",
       "      <td>Sorcery</td>\n",
       "      <td>Resolve</td>\n",
       "      <td>Domination</td>\n",
       "      <td>Inspiration</td>\n",
       "      <td>Sorcery</td>\n",
       "      <td>Inspiration</td>\n",
       "      <td>Inspiration</td>\n",
       "      <td>Resolve</td>\n",
       "      <td>Tank</td>\n",
       "      <td>Marksman</td>\n",
       "      <td>Marksman</td>\n",
       "      <td>Fighter</td>\n",
       "      <td>Fighter</td>\n",
       "      <td>Fighter</td>\n",
       "      <td>Marksman</td>\n",
       "      <td>Support</td>\n",
       "      <td>Mage</td>\n",
       "      <td>Fighter</td>\n",
       "      <td>Fighter</td>\n",
       "      <td>None</td>\n",
       "      <td>None</td>\n",
       "      <td>Tank</td>\n",
       "      <td>Mage</td>\n",
       "      <td>Assassin</td>\n",
       "      <td>None</td>\n",
       "      <td>Fighter</td>\n",
       "      <td>None</td>\n",
       "      <td>Marksman</td>\n",
       "      <td>2</td>\n",
       "      <td>2</td>\n",
       "      <td>4</td>\n",
       "      <td>1</td>\n",
       "      <td>6</td>\n",
       "      <td>1</td>\n",
       "    </tr>\n",
       "    <tr>\n",
       "      <th>4</th>\n",
       "      <td>Lux</td>\n",
       "      <td>Jhin</td>\n",
       "      <td>Gragas</td>\n",
       "      <td>Fiora</td>\n",
       "      <td>Kindred</td>\n",
       "      <td>Tristana</td>\n",
       "      <td>Fiddlesticks</td>\n",
       "      <td>Graves</td>\n",
       "      <td>Xerath</td>\n",
       "      <td>Kennen</td>\n",
       "      <td>23.933333</td>\n",
       "      <td>Fail</td>\n",
       "      <td>Win</td>\n",
       "      <td>SummonerFlash</td>\n",
       "      <td>SummonerFlash</td>\n",
       "      <td>SummonerFlash</td>\n",
       "      <td>SummonerFlash</td>\n",
       "      <td>SummonerFlash</td>\n",
       "      <td>SummonerFlash</td>\n",
       "      <td>SummonerIgnite</td>\n",
       "      <td>SummonerFlash</td>\n",
       "      <td>SummonerFlash</td>\n",
       "      <td>SummonerTeleport</td>\n",
       "      <td>SummonerIgnite</td>\n",
       "      <td>SummonerHeal</td>\n",
       "      <td>SummonerIgnite</td>\n",
       "      <td>SummonerIgnite</td>\n",
       "      <td>SummonerSmite</td>\n",
       "      <td>SummonerHeal</td>\n",
       "      <td>SummonerFlash</td>\n",
       "      <td>SummonerSmite</td>\n",
       "      <td>SummonerBarrier</td>\n",
       "      <td>SummonerFlash</td>\n",
       "      <td>Domination</td>\n",
       "      <td>Inspiration</td>\n",
       "      <td>Resolve</td>\n",
       "      <td>Domination</td>\n",
       "      <td>Inspiration</td>\n",
       "      <td>Inspiration</td>\n",
       "      <td>Inspiration</td>\n",
       "      <td>Inspiration</td>\n",
       "      <td>Domination</td>\n",
       "      <td>Sorcery</td>\n",
       "      <td>Sorcery</td>\n",
       "      <td>Sorcery</td>\n",
       "      <td>Inspiration</td>\n",
       "      <td>Sorcery</td>\n",
       "      <td>Domination</td>\n",
       "      <td>Sorcery</td>\n",
       "      <td>Sorcery</td>\n",
       "      <td>Sorcery</td>\n",
       "      <td>Sorcery</td>\n",
       "      <td>Domination</td>\n",
       "      <td>Mage</td>\n",
       "      <td>Marksman</td>\n",
       "      <td>Fighter</td>\n",
       "      <td>Fighter</td>\n",
       "      <td>Marksman</td>\n",
       "      <td>Marksman</td>\n",
       "      <td>Mage</td>\n",
       "      <td>Marksman</td>\n",
       "      <td>Mage</td>\n",
       "      <td>Mage</td>\n",
       "      <td>Support</td>\n",
       "      <td>Assassin</td>\n",
       "      <td>Mage</td>\n",
       "      <td>Assassin</td>\n",
       "      <td>None</td>\n",
       "      <td>Assassin</td>\n",
       "      <td>Support</td>\n",
       "      <td>None</td>\n",
       "      <td>Assassin</td>\n",
       "      <td>Marksman</td>\n",
       "      <td>0</td>\n",
       "      <td>5</td>\n",
       "      <td>5</td>\n",
       "      <td>2</td>\n",
       "      <td>2</td>\n",
       "      <td>4</td>\n",
       "    </tr>\n",
       "  </tbody>\n",
       "</table>\n",
       "</div>"
      ],
      "text/plain": [
       "     p1_champ  p2_champ  p3_champ p4_champ p5_champ    p6_champ      p7_champ  \\\n",
       "0       Karma     Teemo  JarvanIV   Ezreal    Neeko        Ryze         Kaisa   \n",
       "1       Teemo  Tristana    LeeSin     Bard  Leblanc      Lucian        Irelia   \n",
       "2    JarvanIV       Lux      Zyra      Jax    Kaisa  Tryndamere        Ezreal   \n",
       "3  Blitzcrank    Graves   Caitlyn     Kled    Diana      LeeSin        Lucian   \n",
       "4         Lux      Jhin    Gragas    Fiora  Kindred    Tristana  Fiddlesticks   \n",
       "\n",
       "     p8_champ   p9_champ p10_champ  game_length_mins blue_team_win  \\\n",
       "0  Cassiopeia      Braum    Rengar         38.466667           Win   \n",
       "1  Blitzcrank    Orianna   Kindred         23.400000           Win   \n",
       "2      Thresh     Xerath   Karthus         31.733333          Fail   \n",
       "3      Thresh  Lissandra     Urgot         35.366667           Win   \n",
       "4      Graves     Xerath    Kennen         23.933333          Fail   \n",
       "\n",
       "  red_team_win       p1_spell1       p2_spell1         p3_spell1  \\\n",
       "0         Fail   SummonerFlash  SummonerIgnite     SummonerFlash   \n",
       "1         Fail   SummonerFlash   SummonerFlash     SummonerFlash   \n",
       "2          Win   SummonerFlash   SummonerFlash  SummonerTeleport   \n",
       "3         Fail  SummonerIgnite   SummonerFlash      SummonerHeal   \n",
       "4          Win   SummonerFlash   SummonerFlash     SummonerFlash   \n",
       "\n",
       "          p4_spell1       p5_spell1         p6_spell1         p7_spell1  \\\n",
       "0     SummonerFlash   SummonerFlash  SummonerTeleport     SummonerFlash   \n",
       "1     SummonerFlash  SummonerIgnite      SummonerHeal  SummonerTeleport   \n",
       "2  SummonerTeleport   SummonerFlash    SummonerIgnite      SummonerHeal   \n",
       "3  SummonerTeleport   SummonerFlash     SummonerFlash      SummonerHeal   \n",
       "4     SummonerFlash   SummonerFlash     SummonerFlash    SummonerIgnite   \n",
       "\n",
       "        p8_spell1         p9_spell1        p10_spell1       p1_spell2  \\\n",
       "0   SummonerBoost    SummonerIgnite     SummonerFlash  SummonerIgnite   \n",
       "1  SummonerIgnite   SummonerBarrier     SummonerFlash  SummonerIgnite   \n",
       "2  SummonerIgnite      SummonerHeal     SummonerSmite   SummonerSmite   \n",
       "3   SummonerFlash  SummonerTeleport     SummonerFlash   SummonerFlash   \n",
       "4   SummonerFlash     SummonerFlash  SummonerTeleport  SummonerIgnite   \n",
       "\n",
       "        p2_spell2       p3_spell2       p4_spell2         p5_spell2  \\\n",
       "0   SummonerFlash   SummonerSmite    SummonerHeal    SummonerIgnite   \n",
       "1    SummonerHeal   SummonerSmite  SummonerIgnite     SummonerFlash   \n",
       "2  SummonerIgnite   SummonerFlash   SummonerFlash      SummonerHeal   \n",
       "3   SummonerSmite   SummonerFlash   SummonerFlash  SummonerTeleport   \n",
       "4    SummonerHeal  SummonerIgnite  SummonerIgnite     SummonerSmite   \n",
       "\n",
       "       p6_spell2      p7_spell2       p8_spell2        p9_spell2  \\\n",
       "0  SummonerFlash   SummonerHeal   SummonerFlash    SummonerFlash   \n",
       "1  SummonerFlash  SummonerFlash   SummonerFlash    SummonerFlash   \n",
       "2  SummonerFlash  SummonerFlash   SummonerFlash    SummonerFlash   \n",
       "3  SummonerSmite  SummonerFlash  SummonerIgnite    SummonerFlash   \n",
       "4   SummonerHeal  SummonerFlash   SummonerSmite  SummonerBarrier   \n",
       "\n",
       "         p10_spell2 p1perkPrimaryStyle p2perkPrimaryStyle p3perkPrimaryStyle  \\\n",
       "0     SummonerSmite            Sorcery            Sorcery         Domination   \n",
       "1     SummonerSmite            Sorcery        Inspiration         Domination   \n",
       "2     SummonerFlash         Domination            Sorcery            Sorcery   \n",
       "3  SummonerTeleport            Resolve        Inspiration        Inspiration   \n",
       "4     SummonerFlash         Domination        Inspiration            Resolve   \n",
       "\n",
       "  p4perkPrimaryStyle p5perkPrimaryStyle p6perkPrimaryStyle p7perkPrimaryStyle  \\\n",
       "0        Inspiration            Sorcery            Sorcery        Inspiration   \n",
       "1         Domination         Domination        Inspiration        Inspiration   \n",
       "2        Inspiration        Inspiration        Inspiration        Inspiration   \n",
       "3        Inspiration            Sorcery         Domination        Inspiration   \n",
       "4         Domination        Inspiration        Inspiration        Inspiration   \n",
       "\n",
       "  p8perkPrimaryStyle p9perkPrimaryStyle p10perkPrimaryStyle p1perkSubStyle  \\\n",
       "0            Sorcery            Resolve          Domination    Inspiration   \n",
       "1            Resolve            Sorcery         Inspiration        Resolve   \n",
       "2            Resolve            Sorcery          Domination    Inspiration   \n",
       "3            Resolve            Sorcery         Inspiration        Sorcery   \n",
       "4        Inspiration         Domination             Sorcery        Sorcery   \n",
       "\n",
       "  p2perkSubStyle p3perkSubStyle p4perkSubStyle p5perkSubStyle p6perkSubStyle  \\\n",
       "0     Domination    Inspiration        Sorcery     Domination     Domination   \n",
       "1        Sorcery    Inspiration        Resolve        Sorcery        Sorcery   \n",
       "2    Inspiration     Domination    Inspiration        Sorcery        Resolve   \n",
       "3        Sorcery        Sorcery        Resolve     Domination    Inspiration   \n",
       "4        Sorcery    Inspiration        Sorcery     Domination        Sorcery   \n",
       "\n",
       "  p7perkSubStyle p8perkSubStyle p9perkSubStyle p10perkSubStyle  \\\n",
       "0        Sorcery     Domination    Inspiration         Sorcery   \n",
       "1        Sorcery    Inspiration    Inspiration      Domination   \n",
       "2        Sorcery    Inspiration    Inspiration     Inspiration   \n",
       "3        Sorcery    Inspiration    Inspiration         Resolve   \n",
       "4        Sorcery        Sorcery        Sorcery      Domination   \n",
       "\n",
       "  p1_champ_prim_role p2_champ_prim_role p3_champ_prim_role p4_champ_prim_role  \\\n",
       "0               Mage           Marksman               Tank           Marksman   \n",
       "1           Marksman           Marksman            Fighter            Support   \n",
       "2               Tank               Mage               Mage            Fighter   \n",
       "3               Tank           Marksman           Marksman            Fighter   \n",
       "4               Mage           Marksman            Fighter            Fighter   \n",
       "\n",
       "  p5_champ_prim_role p6_champ_prim_role p7_champ_prim_role p8_champ_prim_role  \\\n",
       "0               Mage               Mage           Marksman               Mage   \n",
       "1           Assassin           Marksman            Fighter               Tank   \n",
       "2           Marksman            Fighter           Marksman            Support   \n",
       "3            Fighter            Fighter           Marksman            Support   \n",
       "4           Marksman           Marksman               Mage           Marksman   \n",
       "\n",
       "  p9_champ_prim_role p10_champ_prim_role p1_champ_sec_role p2_champ_sec_role  \\\n",
       "0            Support            Assassin           Support          Assassin   \n",
       "1               Mage            Marksman          Assassin          Assassin   \n",
       "2               Mage                Mage           Fighter           Support   \n",
       "3               Mage             Fighter           Fighter              None   \n",
       "4               Mage                Mage           Support          Assassin   \n",
       "\n",
       "  p3_champ_sec_role p4_champ_sec_role p5_champ_sec_role p6_champ_sec_role  \\\n",
       "0           Fighter              Mage           Support           Fighter   \n",
       "1          Assassin              Mage              Mage              None   \n",
       "2           Support          Assassin              None          Assassin   \n",
       "3              None              Tank              Mage          Assassin   \n",
       "4              Mage          Assassin              None          Assassin   \n",
       "\n",
       "  p7_champ_sec_role p8_champ_sec_role p9_champ_sec_role p10_champ_sec_role  \\\n",
       "0              None              None              Tank            Fighter   \n",
       "1          Assassin           Fighter           Support               None   \n",
       "2              Mage           Fighter          Assassin               None   \n",
       "3              None           Fighter              None           Marksman   \n",
       "4           Support              None          Assassin           Marksman   \n",
       "\n",
       "   tank_count  mage_count  marksman_count  support_count  fighter_count  \\\n",
       "0           2           5               3              3              3   \n",
       "1           1           3               4              2              3   \n",
       "2           1           5               2              3              4   \n",
       "3           2           2               4              1              6   \n",
       "4           0           5               5              2              2   \n",
       "\n",
       "   assassin_count  \n",
       "0               2  \n",
       "1               5  \n",
       "2               3  \n",
       "3               1  \n",
       "4               4  "
      ]
     },
     "execution_count": 37,
     "metadata": {},
     "output_type": "execute_result"
    }
   ],
   "source": [
    "df.head()"
   ]
  },
  {
   "cell_type": "code",
   "execution_count": 4,
   "metadata": {
    "collapsed": true
   },
   "outputs": [],
   "source": [
    "#the data we want to predict\n",
    "red_win = df['red_team_win'].values\n",
    "blue_win = df['blue_team_win'].values\n",
    "game_length = df['game_length_mins'].values"
   ]
  },
  {
   "cell_type": "code",
   "execution_count": 5,
   "metadata": {},
   "outputs": [
    {
     "data": {
      "text/plain": [
       "array(['Fail', 'Fail', 'Win', 'Fail', 'Win'], dtype=object)"
      ]
     },
     "execution_count": 5,
     "metadata": {},
     "output_type": "execute_result"
    }
   ],
   "source": [
    "red_win[:5]"
   ]
  },
  {
   "cell_type": "code",
   "execution_count": 5,
   "metadata": {
    "collapsed": true
   },
   "outputs": [],
   "source": [
    "#Create features\n",
    "X = df.drop(['red_team_win', 'blue_team_win', 'game_length_mins'], axis=1)"
   ]
  },
  {
   "cell_type": "code",
   "execution_count": 6,
   "metadata": {
    "collapsed": true
   },
   "outputs": [],
   "source": [
    "#Create a list of the categorical features\n",
    "col_list = X.columns.tolist()\n",
    "cat_feat = col_list[:-6]"
   ]
  },
  {
   "cell_type": "code",
   "execution_count": 7,
   "metadata": {
    "collapsed": true
   },
   "outputs": [],
   "source": [
    "#Create dummy variables for categorical features\n",
    "X = pd.get_dummies(X, columns=cat_feat, drop_first=True)"
   ]
  },
  {
   "cell_type": "markdown",
   "metadata": {},
   "source": [
    "#### Feture Set 2\n",
    "No features indicating champion archetypes"
   ]
  },
  {
   "cell_type": "code",
   "execution_count": 61,
   "metadata": {},
   "outputs": [],
   "source": [
    "X2 = df.drop(['red_team_win', 'blue_team_win', 'game_length_mins'], axis=1)"
   ]
  },
  {
   "cell_type": "code",
   "execution_count": 72,
   "metadata": {},
   "outputs": [],
   "source": [
    "#Drop features with champion type information\n",
    "drop_feat = col_list[50:]\n",
    "X2 = X2.drop(drop_feat, axis=1)"
   ]
  },
  {
   "cell_type": "code",
   "execution_count": 74,
   "metadata": {
    "scrolled": true
   },
   "outputs": [],
   "source": [
    "#Create Dummy variables for feature set 2\n",
    "X2 = pd.get_dummies(X2, drop_first=True)"
   ]
  },
  {
   "cell_type": "code",
   "execution_count": 81,
   "metadata": {
    "collapsed": true
   },
   "outputs": [],
   "source": [
    "#Split into training and test set\n",
    "X_train2, X_test2, y_train2, y_test2 = train_test_split(X2, red_win, test_size=0.2, random_state=42)"
   ]
  },
  {
   "cell_type": "markdown",
   "metadata": {},
   "source": [
    "***"
   ]
  },
  {
   "cell_type": "markdown",
   "metadata": {},
   "source": [
    "# MODELS TO PREDICT WINS (Red Side of Map)"
   ]
  },
  {
   "cell_type": "markdown",
   "metadata": {},
   "source": [
    "For the models below, we are trying to predict wins for the team on teh Red Side of the map, using feature set 1."
   ]
  },
  {
   "cell_type": "markdown",
   "metadata": {},
   "source": [
    "## Building a Random Forest model"
   ]
  },
  {
   "cell_type": "markdown",
   "metadata": {},
   "source": [
    "### Let's test a Random Forest Classifier out of the box with out hyper parameter tuning."
   ]
  },
  {
   "cell_type": "code",
   "execution_count": 8,
   "metadata": {
    "collapsed": true,
    "scrolled": true
   },
   "outputs": [],
   "source": [
    "rf = RandomForestClassifier()\n",
    "X_train, X_test, y_train, y_test = train_test_split(X, red_win, test_size=0.2, random_state=42)\n",
    "#rf.fit(X_train, y_train)"
   ]
  },
  {
   "cell_type": "markdown",
   "metadata": {},
   "source": [
    "### Get the accuracy score for our Random Forest model."
   ]
  },
  {
   "cell_type": "code",
   "execution_count": 63,
   "metadata": {
    "scrolled": true
   },
   "outputs": [
    {
     "data": {
      "text/plain": [
       "0.8074592890912274"
      ]
     },
     "execution_count": 63,
     "metadata": {},
     "output_type": "execute_result"
    }
   ],
   "source": [
    "rf.score(X_test, y_test)"
   ]
  },
  {
   "cell_type": "code",
   "execution_count": 145,
   "metadata": {},
   "outputs": [
    {
     "data": {
      "text/plain": [
       "array(['Win', 'Fail', 'Win', ..., 'Win', 'Fail', 'Fail'], dtype=object)"
      ]
     },
     "execution_count": 145,
     "metadata": {},
     "output_type": "execute_result"
    }
   ],
   "source": [
    "y_pred = rf.predict(X_test)\n",
    "y_pred"
   ]
  },
  {
   "cell_type": "code",
   "execution_count": 162,
   "metadata": {},
   "outputs": [
    {
     "name": "stdout",
     "output_type": "stream",
     "text": [
      "             precision    recall  f1-score   support\n",
      "\n",
      "       Fail       0.79      0.86      0.82     14336\n",
      "        Win       0.84      0.77      0.80     14219\n",
      "\n",
      "avg / total       0.82      0.81      0.81     28555\n",
      "\n"
     ]
    }
   ],
   "source": [
    "#CLassification report\n",
    "print(classification_report(y_test, y_pred))"
   ]
  },
  {
   "cell_type": "markdown",
   "metadata": {},
   "source": [
    "### Cross Validation for the Random Forest model."
   ]
  },
  {
   "cell_type": "code",
   "execution_count": 84,
   "metadata": {},
   "outputs": [
    {
     "name": "stdout",
     "output_type": "stream",
     "text": [
      "[0.92365878 0.95885134 0.86366183 0.65612524 0.67160468]\n"
     ]
    }
   ],
   "source": [
    "#Does cross_val_score fit the model and save the fitted model to rf2?\n",
    "rf2 = RandomForestClassifier()\n",
    "cv_rf_results = cross_val_score(rf2, X, red_win, cv=5)\n",
    "print(cv_rf_results)"
   ]
  },
  {
   "cell_type": "code",
   "execution_count": 85,
   "metadata": {},
   "outputs": [
    {
     "data": {
      "text/plain": [
       "0.8147803728451987"
      ]
     },
     "execution_count": 85,
     "metadata": {},
     "output_type": "execute_result"
    }
   ],
   "source": [
    "# Get the mean score of the cross validation\n",
    "np.mean(cv_rf_results)"
   ]
  },
  {
   "cell_type": "markdown",
   "metadata": {},
   "source": [
    "### Try out of the box Random Forest Model again and scaling the features"
   ]
  },
  {
   "cell_type": "code",
   "execution_count": 165,
   "metadata": {
    "collapsed": true
   },
   "outputs": [],
   "source": [
    "# Set up pipeline\n",
    "steps = [('scaler', StandardScaler()),\n",
    "        ('rforest', RandomForestClassifier())]\n",
    "\n",
    "pl = Pipeline(steps)"
   ]
  },
  {
   "cell_type": "code",
   "execution_count": 87,
   "metadata": {
    "collapsed": true
   },
   "outputs": [],
   "source": [
    "#Cross validation\n",
    "scaled_cv_rf_results = cross_val_score(pl, X, red_win, cv=5)"
   ]
  },
  {
   "cell_type": "code",
   "execution_count": 88,
   "metadata": {},
   "outputs": [
    {
     "name": "stdout",
     "output_type": "stream",
     "text": [
      "[0.92505953 0.95766065 0.86124536 0.6562303  0.67412622]\n"
     ]
    }
   ],
   "source": [
    "print(scaled_cv_rf_results)"
   ]
  },
  {
   "cell_type": "code",
   "execution_count": 110,
   "metadata": {},
   "outputs": [
    {
     "name": "stdout",
     "output_type": "stream",
     "text": [
      "0.8148644128337945\n"
     ]
    }
   ],
   "source": [
    "cv_score = np.mean(scaled_cv_rf_results)\n",
    "print(cv_score)"
   ]
  },
  {
   "cell_type": "markdown",
   "metadata": {},
   "source": [
    "By scaling the features, we get slightly better performance from the model."
   ]
  },
  {
   "cell_type": "code",
   "execution_count": 166,
   "metadata": {
    "scrolled": true
   },
   "outputs": [
    {
     "data": {
      "text/plain": [
       "Pipeline(memory=None,\n",
       "     steps=[('scaler', StandardScaler(copy=True, with_mean=True, with_std=True)), ('rforest', RandomForestClassifier(bootstrap=True, class_weight=None, criterion='gini',\n",
       "            max_depth=None, max_features='auto', max_leaf_nodes=None,\n",
       "            min_impurity_decrease=0.0, min_impurity_split=None,\n",
       " ...n_jobs=1,\n",
       "            oob_score=False, random_state=None, verbose=0,\n",
       "            warm_start=False))])"
      ]
     },
     "execution_count": 166,
     "metadata": {},
     "output_type": "execute_result"
    }
   ],
   "source": [
    "pl.fit(X_train, y_train)"
   ]
  },
  {
   "cell_type": "code",
   "execution_count": 168,
   "metadata": {
    "collapsed": true
   },
   "outputs": [],
   "source": [
    "pl_predict = pl.predict(X_test)"
   ]
  },
  {
   "cell_type": "code",
   "execution_count": 169,
   "metadata": {},
   "outputs": [
    {
     "name": "stdout",
     "output_type": "stream",
     "text": [
      "             precision    recall  f1-score   support\n",
      "\n",
      "       Fail       0.79      0.86      0.82     14336\n",
      "        Win       0.84      0.77      0.80     14219\n",
      "\n",
      "avg / total       0.81      0.81      0.81     28555\n",
      "\n"
     ]
    }
   ],
   "source": [
    "print(classification_report(y_test, pl_predict))"
   ]
  },
  {
   "cell_type": "markdown",
   "metadata": {},
   "source": [
    "### Hyperparamter Tuning the Random Forest model"
   ]
  },
  {
   "cell_type": "code",
   "execution_count": 13,
   "metadata": {
    "collapsed": true
   },
   "outputs": [],
   "source": [
    "rf3 = RandomForestClassifier()"
   ]
  },
  {
   "cell_type": "code",
   "execution_count": 99,
   "metadata": {},
   "outputs": [
    {
     "data": {
      "text/plain": [
       "<bound method BaseEstimator.get_params of RandomForestClassifier(bootstrap=True, class_weight=None, criterion='gini',\n",
       "            max_depth=None, max_features='auto', max_leaf_nodes=None,\n",
       "            min_impurity_decrease=0.0, min_impurity_split=None,\n",
       "            min_samples_leaf=1, min_samples_split=2,\n",
       "            min_weight_fraction_leaf=0.0, n_estimators=10, n_jobs=1,\n",
       "            oob_score=False, random_state=None, verbose=0,\n",
       "            warm_start=False)>"
      ]
     },
     "execution_count": 99,
     "metadata": {},
     "output_type": "execute_result"
    }
   ],
   "source": [
    "#default hyperparameters\n",
    "rf3.get_params"
   ]
  },
  {
   "cell_type": "code",
   "execution_count": 9,
   "metadata": {
    "collapsed": true
   },
   "outputs": [],
   "source": [
    "n_estimators = [int(x) for x in np.linspace(start=10, stop=100, num=10)]\n",
    "max_features = ['auto', 'sqrt']\n",
    "max_depth = [int(x) for x in np.linspace(10, 110, num = 11)]\n",
    "max_depth.append(None)\n",
    "min_samples_split = [2, 3, 5, 10]\n",
    "min_samples_leaf = [1, 2, 3, 4]\n",
    "bootstrap = [True, False]\n",
    "\n",
    "param_grid = {'n_estimators': n_estimators,\n",
    "              'max_features': max_features,\n",
    "              'max_depth': max_depth,\n",
    "              'min_samples_split': min_samples_split,\n",
    "              'min_samples_leaf': min_samples_leaf,\n",
    "              'bootstrap': bootstrap}"
   ]
  },
  {
   "cell_type": "code",
   "execution_count": 104,
   "metadata": {
    "collapsed": true
   },
   "outputs": [],
   "source": [
    "#Use RandomizedSearchCV to see if we can get estimate of better hyperparameters\n",
    "#n_jobs set to 2?\n",
    "#cv set to 3?\n",
    "# Take a smaller subset of the data to split into training and testing\n",
    "# for finding hyper parameters, maybe 20k games\n",
    "\n",
    "#Takes about an hour to run on the full training set\n",
    "#rf_rand_cv = RandomizedSearchCV(estimator=rf3, param_distributions=param_grid,\n",
    "#                                cv=5, n_iter=10, random_state=42)"
   ]
  },
  {
   "cell_type": "code",
   "execution_count": null,
   "metadata": {
    "collapsed": true
   },
   "outputs": [],
   "source": [
    "rf_rand_cv = RandomizedSearchCV(estimator=rf3, param_distributions=param_grid,\n",
    "                                cv=3, n_iter=10, n_jobs=2, random_state=42)"
   ]
  },
  {
   "cell_type": "code",
   "execution_count": 103,
   "metadata": {
    "scrolled": true
   },
   "outputs": [
    {
     "data": {
      "text/plain": [
       "RandomizedSearchCV(cv=5, error_score='raise',\n",
       "          estimator=RandomForestClassifier(bootstrap=True, class_weight=None, criterion='gini',\n",
       "            max_depth=None, max_features='auto', max_leaf_nodes=None,\n",
       "            min_impurity_decrease=0.0, min_impurity_split=None,\n",
       "            min_samples_leaf=1, min_samples_split=2,\n",
       "            min_weight_fraction_leaf=0.0, n_estimators=10, n_jobs=1,\n",
       "            oob_score=False, random_state=None, verbose=0,\n",
       "            warm_start=False),\n",
       "          fit_params=None, iid=True, n_iter=10, n_jobs=1,\n",
       "          param_distributions={'n_estimators': [10, 20, 30, 40, 50, 60, 70, 80, 90, 100], 'max_features': ['auto', 'sqrt'], 'max_depth': [10, 20, 30, 40, 50, 60, 70, 80, 90, 100, 110, None], 'min_samples_split': [2, 3, 5, 10], 'min_samples_leaf': [1, 2, 3, 4], 'bootstrap': [True, False]},\n",
       "          pre_dispatch='2*n_jobs', random_state=42, refit=True,\n",
       "          return_train_score='warn', scoring=None, verbose=0)"
      ]
     },
     "execution_count": 103,
     "metadata": {},
     "output_type": "execute_result"
    }
   ],
   "source": [
    "rf_rand_cv.fit(X_train, y_train)"
   ]
  },
  {
   "cell_type": "code",
   "execution_count": 105,
   "metadata": {},
   "outputs": [
    {
     "data": {
      "text/plain": [
       "{'bootstrap': False,\n",
       " 'max_depth': 80,\n",
       " 'max_features': 'sqrt',\n",
       " 'min_samples_leaf': 1,\n",
       " 'min_samples_split': 5,\n",
       " 'n_estimators': 60}"
      ]
     },
     "execution_count": 105,
     "metadata": {},
     "output_type": "execute_result"
    }
   ],
   "source": [
    "#Find best hyperparameters\n",
    "rf_rand_cv.best_params_"
   ]
  },
  {
   "cell_type": "markdown",
   "metadata": {},
   "source": [
    "#### BEST MODEL SO FAR"
   ]
  },
  {
   "cell_type": "code",
   "execution_count": 34,
   "metadata": {},
   "outputs": [
    {
     "name": "stdout",
     "output_type": "stream",
     "text": [
      "[0.92810618 0.95937664 0.86849478 0.66232402 0.68120053]\n"
     ]
    }
   ],
   "source": [
    "#Use best hyperparamters and cross validate score\n",
    "#BEST MODEL SO FAR using the first feature set\n",
    "rf4 = RandomForestClassifier(bootstrap=True,\n",
    "                                max_depth=80, max_features='sqrt',\n",
    "                                min_samples_leaf=1, min_samples_split=5,\n",
    "                                n_estimators=60)\n",
    "\n",
    "cv_rf_results_params = cross_val_score(rf4, X, red_win, cv=5)\n",
    "\n",
    "print(cv_rf_results_params)"
   ]
  },
  {
   "cell_type": "code",
   "execution_count": 35,
   "metadata": {},
   "outputs": [
    {
     "name": "stdout",
     "output_type": "stream",
     "text": [
      "0.8199004301394114\n"
     ]
    }
   ],
   "source": [
    "cv_score2 = np.mean(cv_rf_results_params)\n",
    "print(cv_score2)"
   ]
  },
  {
   "cell_type": "code",
   "execution_count": 37,
   "metadata": {},
   "outputs": [
    {
     "name": "stdout",
     "output_type": "stream",
     "text": [
      "Using the current hyperparameters above increased the accuracy of the model by 0.00504%\n"
     ]
    }
   ],
   "source": [
    "#Find improvement with tuned hyperparameters\n",
    "diff = cv_score2 - 0.8148644128337945\n",
    "print(f'Using the current hyperparameters above increased the accuracy of the model by {diff:.5f}%')"
   ]
  },
  {
   "cell_type": "code",
   "execution_count": 39,
   "metadata": {},
   "outputs": [
    {
     "data": {
      "text/plain": [
       "RandomForestClassifier(bootstrap=True, class_weight=None, criterion='gini',\n",
       "            max_depth=80, max_features='sqrt', max_leaf_nodes=None,\n",
       "            min_impurity_decrease=0.0, min_impurity_split=None,\n",
       "            min_samples_leaf=1, min_samples_split=5,\n",
       "            min_weight_fraction_leaf=0.0, n_estimators=60, n_jobs=1,\n",
       "            oob_score=False, random_state=None, verbose=0,\n",
       "            warm_start=False)"
      ]
     },
     "execution_count": 39,
     "metadata": {},
     "output_type": "execute_result"
    }
   ],
   "source": [
    "rf4.fit(X_train, y_train)"
   ]
  },
  {
   "cell_type": "code",
   "execution_count": 53,
   "metadata": {
    "collapsed": true
   },
   "outputs": [],
   "source": [
    "# pickle the model\n",
    "#file_name = 'rf_model_best.pickle'\n",
    "#with open('ML_models\\\\'+file_name, 'wb') as file:\n",
    "#    pickle.dump(rf4, file)"
   ]
  },
  {
   "cell_type": "code",
   "execution_count": 40,
   "metadata": {},
   "outputs": [],
   "source": [
    "rf4_predict = rf4.predict(X_test)"
   ]
  },
  {
   "cell_type": "code",
   "execution_count": 54,
   "metadata": {},
   "outputs": [
    {
     "name": "stdout",
     "output_type": "stream",
     "text": [
      "             precision    recall  f1-score   support\n",
      "\n",
      "       Fail       0.82      0.82      0.82     14336\n",
      "        Win       0.82      0.81      0.82     14219\n",
      "\n",
      "avg / total       0.82      0.82      0.82     28555\n",
      "\n"
     ]
    }
   ],
   "source": [
    "#Classification Report\n",
    "print(classification_report(y_test, rf4_predict))"
   ]
  },
  {
   "cell_type": "markdown",
   "metadata": {},
   "source": [
    "#### ROC Curve"
   ]
  },
  {
   "cell_type": "code",
   "execution_count": 47,
   "metadata": {},
   "outputs": [],
   "source": [
    "#compute predicted probabilities of wins\n",
    "rf4_predict_proba = rf4.predict_proba(X_test)[:,1]"
   ]
  },
  {
   "cell_type": "code",
   "execution_count": 51,
   "metadata": {
    "scrolled": true
   },
   "outputs": [],
   "source": [
    "#Generate ROC curve values\n",
    "fpr, tpr, thresholds = roc_curve(y_test, rf4_predict_proba, pos_label='Win')"
   ]
  },
  {
   "cell_type": "code",
   "execution_count": 52,
   "metadata": {},
   "outputs": [
    {
     "data": {
      "image/png": "[encoded data removed]",
      "text/plain": [
       "<Figure size 432x288 with 1 Axes>"
      ]
     },
     "metadata": {},
     "output_type": "display_data"
    }
   ],
   "source": [
    "#plot ROC curve\n",
    "plt.plot([0,1], [0,1], 'k--')\n",
    "plt.plot(fpr, tpr)\n",
    "plt.xlabel('False Positive Rate')\n",
    "plt.ylabel('True Positive Rate')\n",
    "plt.title('ROC Curve')\n",
    "plt.show()"
   ]
  },
  {
   "cell_type": "markdown",
   "metadata": {},
   "source": [
    "#### Use the Same Hyperparameters as the 'Best Model' above, except with the second feature set."
   ]
  },
  {
   "cell_type": "code",
   "execution_count": 75,
   "metadata": {
    "collapsed": true
   },
   "outputs": [],
   "source": [
    "#Predict red_side win with 2nd feature set\n",
    "rf4_feat2 = RandomForestClassifier(bootstrap=True,\n",
    "                                   max_depth=80, max_features='sqrt',\n",
    "                                   min_samples_leaf=1, min_samples_split=5,\n",
    "                                   n_estimators=60)\n",
    "\n",
    "cv_rf_results_params_feat2 = cross_val_score(rf4_feat2, X2, red_win, cv=5)"
   ]
  },
  {
   "cell_type": "code",
   "execution_count": 76,
   "metadata": {},
   "outputs": [
    {
     "name": "stdout",
     "output_type": "stream",
     "text": [
      "[0.93027735 0.96081247 0.87063108 0.6654059  0.67797857]\n"
     ]
    }
   ],
   "source": [
    "print(cv_rf_results_params_feat2)"
   ]
  },
  {
   "cell_type": "code",
   "execution_count": 78,
   "metadata": {},
   "outputs": [
    {
     "name": "stdout",
     "output_type": "stream",
     "text": [
      "0.8210210732845367\n"
     ]
    }
   ],
   "source": [
    "rf4_feat2_mean = np.mean(cv_rf_results_params_feat2)\n",
    "print(rf4_feat2_mean)"
   ]
  },
  {
   "cell_type": "code",
   "execution_count": 80,
   "metadata": {},
   "outputs": [
    {
     "data": {
      "text/plain": [
       "0.0011206431451252774"
      ]
     },
     "execution_count": 80,
     "metadata": {},
     "output_type": "execute_result"
    }
   ],
   "source": [
    "#The difference in scores of using feature set 1 and feature set \n",
    "rf4_feat2_mean - cv_score2"
   ]
  },
  {
   "cell_type": "markdown",
   "metadata": {},
   "source": [
    "Using feature set 2, we get slightly better results"
   ]
  },
  {
   "cell_type": "code",
   "execution_count": 82,
   "metadata": {},
   "outputs": [
    {
     "data": {
      "text/plain": [
       "RandomForestClassifier(bootstrap=True, class_weight=None, criterion='gini',\n",
       "            max_depth=80, max_features='sqrt', max_leaf_nodes=None,\n",
       "            min_impurity_decrease=0.0, min_impurity_split=None,\n",
       "            min_samples_leaf=1, min_samples_split=5,\n",
       "            min_weight_fraction_leaf=0.0, n_estimators=60, n_jobs=1,\n",
       "            oob_score=False, random_state=None, verbose=0,\n",
       "            warm_start=False)"
      ]
     },
     "execution_count": 82,
     "metadata": {},
     "output_type": "execute_result"
    }
   ],
   "source": [
    "#fit the model\n",
    "rf4_feat2.fit(X_train2, y_train2)"
   ]
  },
  {
   "cell_type": "code",
   "execution_count": 83,
   "metadata": {
    "collapsed": true
   },
   "outputs": [],
   "source": [
    "# pickle the model\n",
    "#file_name = 'rf_model_best_feat2.pickle'\n",
    "#with open('ML_models\\\\'+file_name, 'wb') as file:\n",
    "#    pickle.dump(rf4_feat2, file)"
   ]
  },
  {
   "cell_type": "code",
   "execution_count": 84,
   "metadata": {
    "collapsed": true
   },
   "outputs": [],
   "source": [
    "rf4_feat2_predict = rf4_feat2.predict(X_test2)"
   ]
  },
  {
   "cell_type": "code",
   "execution_count": 85,
   "metadata": {},
   "outputs": [
    {
     "name": "stdout",
     "output_type": "stream",
     "text": [
      "             precision    recall  f1-score   support\n",
      "\n",
      "       Fail       0.81      0.82      0.82     14336\n",
      "        Win       0.82      0.81      0.81     14219\n",
      "\n",
      "avg / total       0.82      0.82      0.82     28555\n",
      "\n"
     ]
    }
   ],
   "source": [
    "#Classification Report\n",
    "print(classification_report(y_test2, rf4_feat2_predict))"
   ]
  },
  {
   "cell_type": "code",
   "execution_count": 86,
   "metadata": {
    "collapsed": true
   },
   "outputs": [],
   "source": [
    "rf4_predict_proba_feat2 = rf4_feat2.predict_proba(X_test2)[:,1]"
   ]
  },
  {
   "cell_type": "code",
   "execution_count": 87,
   "metadata": {
    "collapsed": true
   },
   "outputs": [],
   "source": [
    "fpr, tpr, thresholds = roc_curve(y_test2, rf4_predict_proba_feat2, pos_label='Win')"
   ]
  },
  {
   "cell_type": "code",
   "execution_count": 88,
   "metadata": {},
   "outputs": [
    {
     "data": {
      "image/png": "[encoded data removed]",
      "text/plain": [
       "<Figure size 432x288 with 1 Axes>"
      ]
     },
     "metadata": {},
     "output_type": "display_data"
    }
   ],
   "source": [
    "plt.plot([0,1], [0,1], 'k--')\n",
    "plt.plot(fpr, tpr)\n",
    "plt.xlabel('False Positive Rate')\n",
    "plt.ylabel('True Positive Rate')\n",
    "plt.title('ROC Curve')\n",
    "plt.show()"
   ]
  },
  {
   "cell_type": "markdown",
   "metadata": {},
   "source": [
    "### Use the same Hyperparameters as above but predict blue side win"
   ]
  },
  {
   "cell_type": "code",
   "execution_count": 95,
   "metadata": {
    "collapsed": true
   },
   "outputs": [],
   "source": [
    "X_train2b, X_test2b, y_train2b, y_test2b = train_test_split(X2, blue_win, test_size=0.2, random_state=42)"
   ]
  },
  {
   "cell_type": "code",
   "execution_count": 96,
   "metadata": {
    "collapsed": true
   },
   "outputs": [],
   "source": [
    "rf4_feat2b = RandomForestClassifier(bootstrap=True,\n",
    "                                    max_depth=80, max_features='sqrt',\n",
    "                                    min_samples_leaf=1, min_samples_split=5,\n",
    "                                    n_estimators=60)"
   ]
  },
  {
   "cell_type": "code",
   "execution_count": 97,
   "metadata": {},
   "outputs": [
    {
     "data": {
      "text/plain": [
       "RandomForestClassifier(bootstrap=True, class_weight=None, criterion='gini',\n",
       "            max_depth=80, max_features='sqrt', max_leaf_nodes=None,\n",
       "            min_impurity_decrease=0.0, min_impurity_split=None,\n",
       "            min_samples_leaf=1, min_samples_split=5,\n",
       "            min_weight_fraction_leaf=0.0, n_estimators=60, n_jobs=1,\n",
       "            oob_score=False, random_state=None, verbose=0,\n",
       "            warm_start=False)"
      ]
     },
     "execution_count": 97,
     "metadata": {},
     "output_type": "execute_result"
    }
   ],
   "source": [
    "rf4_feat2b.fit(X_train2b, y_train2b)"
   ]
  },
  {
   "cell_type": "code",
   "execution_count": 99,
   "metadata": {},
   "outputs": [
    {
     "data": {
      "text/plain": [
       "0.8175100682892663"
      ]
     },
     "execution_count": 99,
     "metadata": {},
     "output_type": "execute_result"
    }
   ],
   "source": [
    "#Score\n",
    "rf4_feat2b.score(X_test2b, y_test2b)"
   ]
  },
  {
   "cell_type": "code",
   "execution_count": 100,
   "metadata": {
    "collapsed": true
   },
   "outputs": [],
   "source": [
    "rf4_feat2b_predict = rf4_feat2b.predict(X_test2b)"
   ]
  },
  {
   "cell_type": "code",
   "execution_count": 101,
   "metadata": {},
   "outputs": [
    {
     "name": "stdout",
     "output_type": "stream",
     "text": [
      "             precision    recall  f1-score   support\n",
      "\n",
      "       Fail       0.82      0.82      0.82     14219\n",
      "        Win       0.82      0.82      0.82     14336\n",
      "\n",
      "avg / total       0.82      0.82      0.82     28555\n",
      "\n"
     ]
    }
   ],
   "source": [
    "#Classification Report\n",
    "print(classification_report(y_test2b, rf4_feat2b_predict))"
   ]
  },
  {
   "cell_type": "code",
   "execution_count": 102,
   "metadata": {
    "collapsed": true
   },
   "outputs": [],
   "source": [
    "rf4_predict_proba_feat2b = rf4_feat2b.predict_proba(X_test2b)[:,1]"
   ]
  },
  {
   "cell_type": "code",
   "execution_count": 103,
   "metadata": {
    "collapsed": true
   },
   "outputs": [],
   "source": [
    "fpr, tpr, thresholds = roc_curve(y_test2b, rf4_predict_proba_feat2b, pos_label='Win')"
   ]
  },
  {
   "cell_type": "code",
   "execution_count": 104,
   "metadata": {},
   "outputs": [
    {
     "data": {
      "image/png": "[encoded data removed]",
      "text/plain": [
       "<Figure size 432x288 with 1 Axes>"
      ]
     },
     "metadata": {},
     "output_type": "display_data"
    }
   ],
   "source": [
    "plt.plot([0,1], [0,1], 'k--')\n",
    "plt.plot(fpr, tpr)\n",
    "plt.xlabel('False Positive Rate')\n",
    "plt.ylabel('True Positive Rate')\n",
    "plt.title('ROC Curve')\n",
    "plt.show()"
   ]
  },
  {
   "cell_type": "markdown",
   "metadata": {},
   "source": [
    "### Further Tuning of hyperparameters using a smaller training subset due to time."
   ]
  },
  {
   "cell_type": "code",
   "execution_count": 9,
   "metadata": {
    "collapsed": true
   },
   "outputs": [],
   "source": [
    "#Random 20,000 rows of df\n",
    "df_subset = df.sample(20000, random_state=42)\n",
    "subset_red_win = df_subset['red_team_win'].values\n",
    "subset_blue_win = df_subset['blue_team_win'].values\n",
    "subset_game_length = df_subset['game_length_mins'].values"
   ]
  },
  {
   "cell_type": "code",
   "execution_count": 10,
   "metadata": {
    "collapsed": true,
    "scrolled": true
   },
   "outputs": [],
   "source": [
    "X_subset = df_subset.drop(['red_team_win', 'blue_team_win', 'game_length_mins'], axis=1)\n",
    "X_subset = pd.get_dummies(X_subset, columns=cat_feat, drop_first=True)"
   ]
  },
  {
   "cell_type": "code",
   "execution_count": 11,
   "metadata": {
    "collapsed": true
   },
   "outputs": [],
   "source": [
    "X_train2, X_test2, y_train2, y_test2 = train_test_split(X_subset, subset_red_win,\n",
    "                                                       test_size=0.2, random_state=42)"
   ]
  },
  {
   "cell_type": "code",
   "execution_count": 131,
   "metadata": {
    "collapsed": true
   },
   "outputs": [],
   "source": [
    "#tighter parameter grid\n",
    "param_grid2 = {'n_estimators': [58, 59, 60, 61, 62],\n",
    "              'max_features': ['sqrt'],\n",
    "              'max_depth': [78, 79, 80, 81, 82],\n",
    "              'min_samples_split': [3, 4, 5, 6, 9, 10],\n",
    "              'min_samples_leaf': [1, 2, 3],\n",
    "              'bootstrap': [True, False]}"
   ]
  },
  {
   "cell_type": "code",
   "execution_count": 135,
   "metadata": {
    "collapsed": true
   },
   "outputs": [],
   "source": [
    "rf5 = RandomForestClassifier()\n",
    "rf_grid_cv = GridSearchCV(estimator=rf5, param_grid=param_grid2,\n",
    "                                cv=3, n_jobs=2)"
   ]
  },
  {
   "cell_type": "code",
   "execution_count": 136,
   "metadata": {},
   "outputs": [
    {
     "data": {
      "text/plain": [
       "GridSearchCV(cv=3, error_score='raise',\n",
       "       estimator=RandomForestClassifier(bootstrap=True, class_weight=None, criterion='gini',\n",
       "            max_depth=None, max_features='auto', max_leaf_nodes=None,\n",
       "            min_impurity_decrease=0.0, min_impurity_split=None,\n",
       "            min_samples_leaf=1, min_samples_split=2,\n",
       "            min_weight_fraction_leaf=0.0, n_estimators=10, n_jobs=1,\n",
       "            oob_score=False, random_state=None, verbose=0,\n",
       "            warm_start=False),\n",
       "       fit_params=None, iid=True, n_jobs=2,\n",
       "       param_grid={'n_estimators': [58, 59, 60, 61, 62], 'max_features': ['sqrt'], 'max_depth': [78, 79, 80, 81, 82], 'min_samples_split': [3, 4, 5, 6, 9, 10], 'min_samples_leaf': [1, 2, 3], 'bootstrap': [True, False]},\n",
       "       pre_dispatch='2*n_jobs', refit=True, return_train_score='warn',\n",
       "       scoring=None, verbose=0)"
      ]
     },
     "execution_count": 136,
     "metadata": {},
     "output_type": "execute_result"
    }
   ],
   "source": [
    "rf_grid_cv.fit(X_train2, y_train2)"
   ]
  },
  {
   "cell_type": "code",
   "execution_count": 137,
   "metadata": {},
   "outputs": [
    {
     "data": {
      "text/plain": [
       "{'bootstrap': True,\n",
       " 'max_depth': 79,\n",
       " 'max_features': 'sqrt',\n",
       " 'min_samples_leaf': 3,\n",
       " 'min_samples_split': 4,\n",
       " 'n_estimators': 58}"
      ]
     },
     "execution_count": 137,
     "metadata": {},
     "output_type": "execute_result"
    }
   ],
   "source": [
    "#Best estimator from the grid search\n",
    "rf_grid_cv.best_params_"
   ]
  },
  {
   "cell_type": "code",
   "execution_count": 140,
   "metadata": {},
   "outputs": [
    {
     "data": {
      "text/plain": [
       "0.6790054281211697"
      ]
     },
     "execution_count": 140,
     "metadata": {},
     "output_type": "execute_result"
    }
   ],
   "source": [
    "rf_grid_cv.score(X_test, y_test)"
   ]
  },
  {
   "cell_type": "markdown",
   "metadata": {},
   "source": [
    "Prediction is not as good with smaller samples"
   ]
  },
  {
   "cell_type": "markdown",
   "metadata": {
    "collapsed": true
   },
   "source": [
    "### Try searching for better hyperparameters"
   ]
  },
  {
   "cell_type": "code",
   "execution_count": 10,
   "metadata": {},
   "outputs": [],
   "source": [
    "#set N_iter to 25 to see if we can get better hyper paramters\n",
    "rf_rand_cv_25 = RandomizedSearchCV(estimator=rf, param_distributions=param_grid,\n",
    "                                cv=5, n_iter=25, random_state=42)"
   ]
  },
  {
   "cell_type": "code",
   "execution_count": 11,
   "metadata": {
    "scrolled": true
   },
   "outputs": [
    {
     "data": {
      "text/plain": [
       "RandomizedSearchCV(cv=5, error_score='raise',\n",
       "          estimator=RandomForestClassifier(bootstrap=True, class_weight=None, criterion='gini',\n",
       "            max_depth=None, max_features='auto', max_leaf_nodes=None,\n",
       "            min_impurity_decrease=0.0, min_impurity_split=None,\n",
       "            min_samples_leaf=1, min_samples_split=2,\n",
       "            min_weight_fraction_leaf=0.0, n_estimators=10, n_jobs=1,\n",
       "            oob_score=False, random_state=None, verbose=0,\n",
       "            warm_start=False),\n",
       "          fit_params=None, iid=True, n_iter=25, n_jobs=1,\n",
       "          param_distributions={'n_estimators': [10, 20, 30, 40, 50, 60, 70, 80, 90, 100], 'max_features': ['auto', 'sqrt'], 'max_depth': [10, 20, 30, 40, 50, 60, 70, 80, 90, 100, 110, None], 'min_samples_split': [2, 3, 5, 10], 'min_samples_leaf': [1, 2, 3, 4], 'bootstrap': [True, False]},\n",
       "          pre_dispatch='2*n_jobs', random_state=42, refit=True,\n",
       "          return_train_score='warn', scoring=None, verbose=0)"
      ]
     },
     "execution_count": 11,
     "metadata": {},
     "output_type": "execute_result"
    }
   ],
   "source": [
    "rf_rand_cv_25.fit(X_train, y_train)"
   ]
  },
  {
   "cell_type": "code",
   "execution_count": 12,
   "metadata": {},
   "outputs": [
    {
     "data": {
      "text/plain": [
       "{'bootstrap': False,\n",
       " 'max_depth': 60,\n",
       " 'max_features': 'auto',\n",
       " 'min_samples_leaf': 4,\n",
       " 'min_samples_split': 3,\n",
       " 'n_estimators': 90}"
      ]
     },
     "execution_count": 12,
     "metadata": {},
     "output_type": "execute_result"
    }
   ],
   "source": [
    "rf_rand_cv_25.best_params_"
   ]
  },
  {
   "cell_type": "code",
   "execution_count": 14,
   "metadata": {
    "collapsed": true
   },
   "outputs": [],
   "source": [
    "# pickle the model\n",
    "#file_name = 'rf_model_1.pickle'\n",
    "#with open('ML_models\\\\'+file_name, 'wb') as file:\n",
    "#    pickle.dump(rf_rand_cv_25, file)"
   ]
  },
  {
   "cell_type": "code",
   "execution_count": 15,
   "metadata": {},
   "outputs": [
    {
     "data": {
      "text/plain": [
       "0.7890612688017651"
      ]
     },
     "execution_count": 15,
     "metadata": {},
     "output_type": "execute_result"
    }
   ],
   "source": [
    "rf_rand_cv_25.best_score_"
   ]
  },
  {
   "cell_type": "code",
   "execution_count": 107,
   "metadata": {
    "scrolled": true
   },
   "outputs": [],
   "source": [
    "results_rf = pd.DataFrame(rf_rand_cv_25.cv_results_)"
   ]
  },
  {
   "cell_type": "code",
   "execution_count": 93,
   "metadata": {
    "scrolled": true
   },
   "outputs": [
    {
     "data": {
      "text/html": [
       "<div>\n",
       "<style scoped>\n",
       "    .dataframe tbody tr th:only-of-type {\n",
       "        vertical-align: middle;\n",
       "    }\n",
       "\n",
       "    .dataframe tbody tr th {\n",
       "        vertical-align: top;\n",
       "    }\n",
       "\n",
       "    .dataframe thead th {\n",
       "        text-align: right;\n",
       "    }\n",
       "</style>\n",
       "<table border=\"1\" class=\"dataframe\">\n",
       "  <thead>\n",
       "    <tr style=\"text-align: right;\">\n",
       "      <th></th>\n",
       "      <th>mean_fit_time</th>\n",
       "      <th>std_fit_time</th>\n",
       "      <th>mean_score_time</th>\n",
       "      <th>std_score_time</th>\n",
       "      <th>param_n_estimators</th>\n",
       "      <th>param_min_samples_split</th>\n",
       "      <th>param_min_samples_leaf</th>\n",
       "      <th>param_max_features</th>\n",
       "      <th>param_max_depth</th>\n",
       "      <th>param_bootstrap</th>\n",
       "      <th>params</th>\n",
       "      <th>split0_test_score</th>\n",
       "      <th>split1_test_score</th>\n",
       "      <th>split2_test_score</th>\n",
       "      <th>split3_test_score</th>\n",
       "      <th>split4_test_score</th>\n",
       "      <th>mean_test_score</th>\n",
       "      <th>std_test_score</th>\n",
       "      <th>rank_test_score</th>\n",
       "      <th>split0_train_score</th>\n",
       "      <th>split1_train_score</th>\n",
       "      <th>split2_train_score</th>\n",
       "      <th>split3_train_score</th>\n",
       "      <th>split4_train_score</th>\n",
       "      <th>mean_train_score</th>\n",
       "      <th>std_train_score</th>\n",
       "    </tr>\n",
       "  </thead>\n",
       "  <tbody>\n",
       "    <tr>\n",
       "      <th>0</th>\n",
       "      <td>18.161432</td>\n",
       "      <td>0.358706</td>\n",
       "      <td>0.417631</td>\n",
       "      <td>0.011522</td>\n",
       "      <td>10</td>\n",
       "      <td>10</td>\n",
       "      <td>2</td>\n",
       "      <td>sqrt</td>\n",
       "      <td>110</td>\n",
       "      <td>False</td>\n",
       "      <td>{'n_estimators': 10, 'min_samples_split': 10, ...</td>\n",
       "      <td>0.781649</td>\n",
       "      <td>0.786202</td>\n",
       "      <td>0.787559</td>\n",
       "      <td>0.784485</td>\n",
       "      <td>0.776387</td>\n",
       "      <td>0.783257</td>\n",
       "      <td>0.003962</td>\n",
       "      <td>15</td>\n",
       "      <td>0.997395</td>\n",
       "      <td>0.997176</td>\n",
       "      <td>0.997231</td>\n",
       "      <td>0.997538</td>\n",
       "      <td>0.997341</td>\n",
       "      <td>0.997336</td>\n",
       "      <td>0.000127</td>\n",
       "    </tr>\n",
       "    <tr>\n",
       "      <th>1</th>\n",
       "      <td>69.548541</td>\n",
       "      <td>1.746423</td>\n",
       "      <td>0.806370</td>\n",
       "      <td>0.018504</td>\n",
       "      <td>40</td>\n",
       "      <td>2</td>\n",
       "      <td>3</td>\n",
       "      <td>sqrt</td>\n",
       "      <td>None</td>\n",
       "      <td>False</td>\n",
       "      <td>{'n_estimators': 40, 'min_samples_split': 2, '...</td>\n",
       "      <td>0.784933</td>\n",
       "      <td>0.786684</td>\n",
       "      <td>0.788697</td>\n",
       "      <td>0.785448</td>\n",
       "      <td>0.779845</td>\n",
       "      <td>0.785121</td>\n",
       "      <td>0.002940</td>\n",
       "      <td>9</td>\n",
       "      <td>1.000000</td>\n",
       "      <td>1.000000</td>\n",
       "      <td>1.000000</td>\n",
       "      <td>1.000000</td>\n",
       "      <td>1.000000</td>\n",
       "      <td>1.000000</td>\n",
       "      <td>0.000000</td>\n",
       "    </tr>\n",
       "    <tr>\n",
       "      <th>2</th>\n",
       "      <td>6.740825</td>\n",
       "      <td>0.095760</td>\n",
       "      <td>0.346635</td>\n",
       "      <td>0.007000</td>\n",
       "      <td>10</td>\n",
       "      <td>5</td>\n",
       "      <td>2</td>\n",
       "      <td>sqrt</td>\n",
       "      <td>30</td>\n",
       "      <td>True</td>\n",
       "      <td>{'n_estimators': 10, 'min_samples_split': 5, '...</td>\n",
       "      <td>0.694055</td>\n",
       "      <td>0.689590</td>\n",
       "      <td>0.689109</td>\n",
       "      <td>0.694129</td>\n",
       "      <td>0.693823</td>\n",
       "      <td>0.692141</td>\n",
       "      <td>0.002287</td>\n",
       "      <td>24</td>\n",
       "      <td>0.840939</td>\n",
       "      <td>0.832086</td>\n",
       "      <td>0.825705</td>\n",
       "      <td>0.838096</td>\n",
       "      <td>0.841707</td>\n",
       "      <td>0.835707</td>\n",
       "      <td>0.006037</td>\n",
       "    </tr>\n",
       "    <tr>\n",
       "      <th>3</th>\n",
       "      <td>13.949662</td>\n",
       "      <td>0.249374</td>\n",
       "      <td>0.384508</td>\n",
       "      <td>0.006001</td>\n",
       "      <td>10</td>\n",
       "      <td>10</td>\n",
       "      <td>3</td>\n",
       "      <td>sqrt</td>\n",
       "      <td>50</td>\n",
       "      <td>False</td>\n",
       "      <td>{'n_estimators': 10, 'min_samples_split': 10, ...</td>\n",
       "      <td>0.767598</td>\n",
       "      <td>0.763264</td>\n",
       "      <td>0.767554</td>\n",
       "      <td>0.768901</td>\n",
       "      <td>0.766187</td>\n",
       "      <td>0.766701</td>\n",
       "      <td>0.001921</td>\n",
       "      <td>19</td>\n",
       "      <td>0.969324</td>\n",
       "      <td>0.964104</td>\n",
       "      <td>0.959792</td>\n",
       "      <td>0.966227</td>\n",
       "      <td>0.966194</td>\n",
       "      <td>0.965128</td>\n",
       "      <td>0.003146</td>\n",
       "    </tr>\n",
       "    <tr>\n",
       "      <th>4</th>\n",
       "      <td>90.972121</td>\n",
       "      <td>2.569169</td>\n",
       "      <td>1.001722</td>\n",
       "      <td>0.052421</td>\n",
       "      <td>70</td>\n",
       "      <td>5</td>\n",
       "      <td>3</td>\n",
       "      <td>auto</td>\n",
       "      <td>50</td>\n",
       "      <td>False</td>\n",
       "      <td>{'n_estimators': 70, 'min_samples_split': 5, '...</td>\n",
       "      <td>0.784276</td>\n",
       "      <td>0.786640</td>\n",
       "      <td>0.786333</td>\n",
       "      <td>0.787112</td>\n",
       "      <td>0.785142</td>\n",
       "      <td>0.785901</td>\n",
       "      <td>0.001041</td>\n",
       "      <td>5</td>\n",
       "      <td>0.999934</td>\n",
       "      <td>0.999902</td>\n",
       "      <td>0.999934</td>\n",
       "      <td>0.999945</td>\n",
       "      <td>0.999869</td>\n",
       "      <td>0.999917</td>\n",
       "      <td>0.000028</td>\n",
       "    </tr>\n",
       "    <tr>\n",
       "      <th>5</th>\n",
       "      <td>27.566918</td>\n",
       "      <td>0.260747</td>\n",
       "      <td>0.490514</td>\n",
       "      <td>0.012507</td>\n",
       "      <td>20</td>\n",
       "      <td>10</td>\n",
       "      <td>2</td>\n",
       "      <td>auto</td>\n",
       "      <td>50</td>\n",
       "      <td>False</td>\n",
       "      <td>{'n_estimators': 20, 'min_samples_split': 10, ...</td>\n",
       "      <td>0.781255</td>\n",
       "      <td>0.782087</td>\n",
       "      <td>0.788697</td>\n",
       "      <td>0.786543</td>\n",
       "      <td>0.780458</td>\n",
       "      <td>0.783808</td>\n",
       "      <td>0.003228</td>\n",
       "      <td>12</td>\n",
       "      <td>0.995163</td>\n",
       "      <td>0.992733</td>\n",
       "      <td>0.994419</td>\n",
       "      <td>0.995272</td>\n",
       "      <td>0.994462</td>\n",
       "      <td>0.994410</td>\n",
       "      <td>0.000908</td>\n",
       "    </tr>\n",
       "    <tr>\n",
       "      <th>6</th>\n",
       "      <td>35.808305</td>\n",
       "      <td>0.516323</td>\n",
       "      <td>0.648543</td>\n",
       "      <td>0.006390</td>\n",
       "      <td>30</td>\n",
       "      <td>3</td>\n",
       "      <td>3</td>\n",
       "      <td>sqrt</td>\n",
       "      <td>None</td>\n",
       "      <td>True</td>\n",
       "      <td>{'n_estimators': 30, 'min_samples_split': 3, '...</td>\n",
       "      <td>0.784101</td>\n",
       "      <td>0.779942</td>\n",
       "      <td>0.783970</td>\n",
       "      <td>0.781990</td>\n",
       "      <td>0.780108</td>\n",
       "      <td>0.782022</td>\n",
       "      <td>0.001795</td>\n",
       "      <td>17</td>\n",
       "      <td>0.992361</td>\n",
       "      <td>0.993226</td>\n",
       "      <td>0.992525</td>\n",
       "      <td>0.992777</td>\n",
       "      <td>0.992810</td>\n",
       "      <td>0.992740</td>\n",
       "      <td>0.000294</td>\n",
       "    </tr>\n",
       "    <tr>\n",
       "      <th>7</th>\n",
       "      <td>36.406998</td>\n",
       "      <td>0.354982</td>\n",
       "      <td>0.672647</td>\n",
       "      <td>0.008480</td>\n",
       "      <td>30</td>\n",
       "      <td>3</td>\n",
       "      <td>2</td>\n",
       "      <td>sqrt</td>\n",
       "      <td>100</td>\n",
       "      <td>True</td>\n",
       "      <td>{'n_estimators': 30, 'min_samples_split': 3, '...</td>\n",
       "      <td>0.781212</td>\n",
       "      <td>0.782481</td>\n",
       "      <td>0.786902</td>\n",
       "      <td>0.783654</td>\n",
       "      <td>0.781509</td>\n",
       "      <td>0.783152</td>\n",
       "      <td>0.002061</td>\n",
       "      <td>16</td>\n",
       "      <td>0.998293</td>\n",
       "      <td>0.998369</td>\n",
       "      <td>0.998337</td>\n",
       "      <td>0.998161</td>\n",
       "      <td>0.998304</td>\n",
       "      <td>0.998293</td>\n",
       "      <td>0.000071</td>\n",
       "    </tr>\n",
       "    <tr>\n",
       "      <th>8</th>\n",
       "      <td>73.650992</td>\n",
       "      <td>1.272277</td>\n",
       "      <td>0.828861</td>\n",
       "      <td>0.010074</td>\n",
       "      <td>50</td>\n",
       "      <td>3</td>\n",
       "      <td>4</td>\n",
       "      <td>sqrt</td>\n",
       "      <td>60</td>\n",
       "      <td>False</td>\n",
       "      <td>{'n_estimators': 50, 'min_samples_split': 3, '...</td>\n",
       "      <td>0.783225</td>\n",
       "      <td>0.788172</td>\n",
       "      <td>0.789135</td>\n",
       "      <td>0.787287</td>\n",
       "      <td>0.784573</td>\n",
       "      <td>0.786478</td>\n",
       "      <td>0.002227</td>\n",
       "      <td>3</td>\n",
       "      <td>0.999573</td>\n",
       "      <td>0.999639</td>\n",
       "      <td>0.999661</td>\n",
       "      <td>0.999628</td>\n",
       "      <td>0.999661</td>\n",
       "      <td>0.999632</td>\n",
       "      <td>0.000032</td>\n",
       "    </tr>\n",
       "    <tr>\n",
       "      <th>9</th>\n",
       "      <td>105.907686</td>\n",
       "      <td>1.010205</td>\n",
       "      <td>1.094454</td>\n",
       "      <td>0.008458</td>\n",
       "      <td>60</td>\n",
       "      <td>5</td>\n",
       "      <td>1</td>\n",
       "      <td>sqrt</td>\n",
       "      <td>80</td>\n",
       "      <td>False</td>\n",
       "      <td>{'n_estimators': 60, 'min_samples_split': 5, '...</td>\n",
       "      <td>0.783926</td>\n",
       "      <td>0.785064</td>\n",
       "      <td>0.789398</td>\n",
       "      <td>0.785186</td>\n",
       "      <td>0.784267</td>\n",
       "      <td>0.785568</td>\n",
       "      <td>0.001973</td>\n",
       "      <td>8</td>\n",
       "      <td>1.000000</td>\n",
       "      <td>1.000000</td>\n",
       "      <td>1.000000</td>\n",
       "      <td>1.000000</td>\n",
       "      <td>1.000000</td>\n",
       "      <td>1.000000</td>\n",
       "      <td>0.000000</td>\n",
       "    </tr>\n",
       "    <tr>\n",
       "      <th>10</th>\n",
       "      <td>24.672145</td>\n",
       "      <td>0.361100</td>\n",
       "      <td>0.549872</td>\n",
       "      <td>0.011676</td>\n",
       "      <td>70</td>\n",
       "      <td>5</td>\n",
       "      <td>4</td>\n",
       "      <td>auto</td>\n",
       "      <td>20</td>\n",
       "      <td>True</td>\n",
       "      <td>{'n_estimators': 70, 'min_samples_split': 5, '...</td>\n",
       "      <td>0.708151</td>\n",
       "      <td>0.717606</td>\n",
       "      <td>0.716424</td>\n",
       "      <td>0.710852</td>\n",
       "      <td>0.707700</td>\n",
       "      <td>0.712147</td>\n",
       "      <td>0.004136</td>\n",
       "      <td>23</td>\n",
       "      <td>0.865410</td>\n",
       "      <td>0.869164</td>\n",
       "      <td>0.865968</td>\n",
       "      <td>0.864394</td>\n",
       "      <td>0.862599</td>\n",
       "      <td>0.865507</td>\n",
       "      <td>0.002158</td>\n",
       "    </tr>\n",
       "    <tr>\n",
       "      <th>11</th>\n",
       "      <td>68.402390</td>\n",
       "      <td>0.932006</td>\n",
       "      <td>0.792255</td>\n",
       "      <td>0.011270</td>\n",
       "      <td>50</td>\n",
       "      <td>3</td>\n",
       "      <td>2</td>\n",
       "      <td>sqrt</td>\n",
       "      <td>50</td>\n",
       "      <td>False</td>\n",
       "      <td>{'n_estimators': 50, 'min_samples_split': 3, '...</td>\n",
       "      <td>0.785151</td>\n",
       "      <td>0.785108</td>\n",
       "      <td>0.789135</td>\n",
       "      <td>0.786105</td>\n",
       "      <td>0.783172</td>\n",
       "      <td>0.785734</td>\n",
       "      <td>0.001949</td>\n",
       "      <td>6</td>\n",
       "      <td>1.000000</td>\n",
       "      <td>0.999978</td>\n",
       "      <td>0.999978</td>\n",
       "      <td>0.999989</td>\n",
       "      <td>0.999989</td>\n",
       "      <td>0.999987</td>\n",
       "      <td>0.000008</td>\n",
       "    </tr>\n",
       "    <tr>\n",
       "      <th>12</th>\n",
       "      <td>35.473977</td>\n",
       "      <td>0.756323</td>\n",
       "      <td>0.560187</td>\n",
       "      <td>0.006954</td>\n",
       "      <td>70</td>\n",
       "      <td>5</td>\n",
       "      <td>3</td>\n",
       "      <td>sqrt</td>\n",
       "      <td>20</td>\n",
       "      <td>False</td>\n",
       "      <td>{'n_estimators': 70, 'min_samples_split': 5, '...</td>\n",
       "      <td>0.745229</td>\n",
       "      <td>0.743302</td>\n",
       "      <td>0.743171</td>\n",
       "      <td>0.744998</td>\n",
       "      <td>0.743641</td>\n",
       "      <td>0.744068</td>\n",
       "      <td>0.000870</td>\n",
       "      <td>22</td>\n",
       "      <td>0.923545</td>\n",
       "      <td>0.918631</td>\n",
       "      <td>0.920907</td>\n",
       "      <td>0.924761</td>\n",
       "      <td>0.917680</td>\n",
       "      <td>0.921105</td>\n",
       "      <td>0.002728</td>\n",
       "    </tr>\n",
       "    <tr>\n",
       "      <th>13</th>\n",
       "      <td>133.308935</td>\n",
       "      <td>0.627465</td>\n",
       "      <td>1.261538</td>\n",
       "      <td>0.007543</td>\n",
       "      <td>90</td>\n",
       "      <td>3</td>\n",
       "      <td>4</td>\n",
       "      <td>auto</td>\n",
       "      <td>60</td>\n",
       "      <td>False</td>\n",
       "      <td>{'n_estimators': 90, 'min_samples_split': 3, '...</td>\n",
       "      <td>0.787034</td>\n",
       "      <td>0.785151</td>\n",
       "      <td>0.795045</td>\n",
       "      <td>0.791402</td>\n",
       "      <td>0.786674</td>\n",
       "      <td>0.789061</td>\n",
       "      <td>0.003644</td>\n",
       "      <td>1</td>\n",
       "      <td>0.999956</td>\n",
       "      <td>0.999978</td>\n",
       "      <td>0.999978</td>\n",
       "      <td>1.000000</td>\n",
       "      <td>0.999978</td>\n",
       "      <td>0.999978</td>\n",
       "      <td>0.000014</td>\n",
       "    </tr>\n",
       "    <tr>\n",
       "      <th>14</th>\n",
       "      <td>34.532558</td>\n",
       "      <td>0.257371</td>\n",
       "      <td>0.535150</td>\n",
       "      <td>0.006053</td>\n",
       "      <td>20</td>\n",
       "      <td>10</td>\n",
       "      <td>4</td>\n",
       "      <td>auto</td>\n",
       "      <td>80</td>\n",
       "      <td>False</td>\n",
       "      <td>{'n_estimators': 20, 'min_samples_split': 10, ...</td>\n",
       "      <td>0.782394</td>\n",
       "      <td>0.781606</td>\n",
       "      <td>0.785064</td>\n",
       "      <td>0.784223</td>\n",
       "      <td>0.789388</td>\n",
       "      <td>0.784535</td>\n",
       "      <td>0.002724</td>\n",
       "      <td>11</td>\n",
       "      <td>0.997001</td>\n",
       "      <td>0.996443</td>\n",
       "      <td>0.996826</td>\n",
       "      <td>0.996969</td>\n",
       "      <td>0.996465</td>\n",
       "      <td>0.996741</td>\n",
       "      <td>0.000242</td>\n",
       "    </tr>\n",
       "    <tr>\n",
       "      <th>15</th>\n",
       "      <td>59.417172</td>\n",
       "      <td>0.362546</td>\n",
       "      <td>0.901635</td>\n",
       "      <td>0.007614</td>\n",
       "      <td>50</td>\n",
       "      <td>2</td>\n",
       "      <td>3</td>\n",
       "      <td>sqrt</td>\n",
       "      <td>110</td>\n",
       "      <td>True</td>\n",
       "      <td>{'n_estimators': 50, 'min_samples_split': 2, '...</td>\n",
       "      <td>0.783751</td>\n",
       "      <td>0.789441</td>\n",
       "      <td>0.788960</td>\n",
       "      <td>0.787287</td>\n",
       "      <td>0.778663</td>\n",
       "      <td>0.785620</td>\n",
       "      <td>0.004011</td>\n",
       "      <td>7</td>\n",
       "      <td>0.998468</td>\n",
       "      <td>0.998347</td>\n",
       "      <td>0.998238</td>\n",
       "      <td>0.998490</td>\n",
       "      <td>0.998337</td>\n",
       "      <td>0.998376</td>\n",
       "      <td>0.000093</td>\n",
       "    </tr>\n",
       "    <tr>\n",
       "      <th>16</th>\n",
       "      <td>23.694205</td>\n",
       "      <td>0.194392</td>\n",
       "      <td>0.524894</td>\n",
       "      <td>0.007656</td>\n",
       "      <td>20</td>\n",
       "      <td>3</td>\n",
       "      <td>4</td>\n",
       "      <td>sqrt</td>\n",
       "      <td>100</td>\n",
       "      <td>True</td>\n",
       "      <td>{'n_estimators': 20, 'min_samples_split': 3, '...</td>\n",
       "      <td>0.764052</td>\n",
       "      <td>0.765278</td>\n",
       "      <td>0.770749</td>\n",
       "      <td>0.767281</td>\n",
       "      <td>0.768069</td>\n",
       "      <td>0.767086</td>\n",
       "      <td>0.002320</td>\n",
       "      <td>18</td>\n",
       "      <td>0.967015</td>\n",
       "      <td>0.968022</td>\n",
       "      <td>0.967398</td>\n",
       "      <td>0.966731</td>\n",
       "      <td>0.967551</td>\n",
       "      <td>0.967343</td>\n",
       "      <td>0.000445</td>\n",
       "    </tr>\n",
       "    <tr>\n",
       "      <th>17</th>\n",
       "      <td>117.173346</td>\n",
       "      <td>2.500943</td>\n",
       "      <td>1.522172</td>\n",
       "      <td>0.007235</td>\n",
       "      <td>100</td>\n",
       "      <td>10</td>\n",
       "      <td>1</td>\n",
       "      <td>auto</td>\n",
       "      <td>100</td>\n",
       "      <td>True</td>\n",
       "      <td>{'n_estimators': 100, 'min_samples_split': 10,...</td>\n",
       "      <td>0.788347</td>\n",
       "      <td>0.780993</td>\n",
       "      <td>0.790142</td>\n",
       "      <td>0.790089</td>\n",
       "      <td>0.784223</td>\n",
       "      <td>0.786759</td>\n",
       "      <td>0.003598</td>\n",
       "      <td>2</td>\n",
       "      <td>1.000000</td>\n",
       "      <td>1.000000</td>\n",
       "      <td>1.000000</td>\n",
       "      <td>1.000000</td>\n",
       "      <td>1.000000</td>\n",
       "      <td>1.000000</td>\n",
       "      <td>0.000000</td>\n",
       "    </tr>\n",
       "    <tr>\n",
       "      <th>18</th>\n",
       "      <td>2.998356</td>\n",
       "      <td>0.046134</td>\n",
       "      <td>0.312444</td>\n",
       "      <td>0.000016</td>\n",
       "      <td>10</td>\n",
       "      <td>3</td>\n",
       "      <td>4</td>\n",
       "      <td>auto</td>\n",
       "      <td>10</td>\n",
       "      <td>True</td>\n",
       "      <td>{'n_estimators': 10, 'min_samples_split': 3, '...</td>\n",
       "      <td>0.554019</td>\n",
       "      <td>0.545088</td>\n",
       "      <td>0.552399</td>\n",
       "      <td>0.552073</td>\n",
       "      <td>0.541698</td>\n",
       "      <td>0.549055</td>\n",
       "      <td>0.004791</td>\n",
       "      <td>25</td>\n",
       "      <td>0.589347</td>\n",
       "      <td>0.584214</td>\n",
       "      <td>0.584860</td>\n",
       "      <td>0.580815</td>\n",
       "      <td>0.575103</td>\n",
       "      <td>0.582868</td>\n",
       "      <td>0.004739</td>\n",
       "    </tr>\n",
       "    <tr>\n",
       "      <th>19</th>\n",
       "      <td>58.227889</td>\n",
       "      <td>1.040998</td>\n",
       "      <td>0.930667</td>\n",
       "      <td>0.046835</td>\n",
       "      <td>60</td>\n",
       "      <td>2</td>\n",
       "      <td>3</td>\n",
       "      <td>auto</td>\n",
       "      <td>60</td>\n",
       "      <td>True</td>\n",
       "      <td>{'n_estimators': 60, 'min_samples_split': 2, '...</td>\n",
       "      <td>0.783619</td>\n",
       "      <td>0.780424</td>\n",
       "      <td>0.787909</td>\n",
       "      <td>0.783654</td>\n",
       "      <td>0.781202</td>\n",
       "      <td>0.783362</td>\n",
       "      <td>0.002613</td>\n",
       "      <td>13</td>\n",
       "      <td>0.996640</td>\n",
       "      <td>0.995666</td>\n",
       "      <td>0.996279</td>\n",
       "      <td>0.996651</td>\n",
       "      <td>0.996104</td>\n",
       "      <td>0.996268</td>\n",
       "      <td>0.000367</td>\n",
       "    </tr>\n",
       "    <tr>\n",
       "      <th>20</th>\n",
       "      <td>127.591188</td>\n",
       "      <td>2.906488</td>\n",
       "      <td>1.219412</td>\n",
       "      <td>0.016336</td>\n",
       "      <td>70</td>\n",
       "      <td>10</td>\n",
       "      <td>3</td>\n",
       "      <td>auto</td>\n",
       "      <td>None</td>\n",
       "      <td>False</td>\n",
       "      <td>{'n_estimators': 70, 'min_samples_split': 10, ...</td>\n",
       "      <td>0.784976</td>\n",
       "      <td>0.784539</td>\n",
       "      <td>0.789879</td>\n",
       "      <td>0.786280</td>\n",
       "      <td>0.786543</td>\n",
       "      <td>0.786443</td>\n",
       "      <td>0.001877</td>\n",
       "      <td>4</td>\n",
       "      <td>1.000000</td>\n",
       "      <td>1.000000</td>\n",
       "      <td>1.000000</td>\n",
       "      <td>1.000000</td>\n",
       "      <td>1.000000</td>\n",
       "      <td>1.000000</td>\n",
       "      <td>0.000000</td>\n",
       "    </tr>\n",
       "    <tr>\n",
       "      <th>21</th>\n",
       "      <td>56.720910</td>\n",
       "      <td>1.328516</td>\n",
       "      <td>0.863201</td>\n",
       "      <td>0.006061</td>\n",
       "      <td>100</td>\n",
       "      <td>2</td>\n",
       "      <td>4</td>\n",
       "      <td>auto</td>\n",
       "      <td>30</td>\n",
       "      <td>True</td>\n",
       "      <td>{'n_estimators': 100, 'min_samples_split': 2, ...</td>\n",
       "      <td>0.756216</td>\n",
       "      <td>0.763133</td>\n",
       "      <td>0.764971</td>\n",
       "      <td>0.762072</td>\n",
       "      <td>0.756599</td>\n",
       "      <td>0.760598</td>\n",
       "      <td>0.003547</td>\n",
       "      <td>21</td>\n",
       "      <td>0.954976</td>\n",
       "      <td>0.950139</td>\n",
       "      <td>0.951332</td>\n",
       "      <td>0.952109</td>\n",
       "      <td>0.951234</td>\n",
       "      <td>0.951958</td>\n",
       "      <td>0.001634</td>\n",
       "    </tr>\n",
       "    <tr>\n",
       "      <th>22</th>\n",
       "      <td>23.564362</td>\n",
       "      <td>0.235175</td>\n",
       "      <td>0.524089</td>\n",
       "      <td>0.009086</td>\n",
       "      <td>20</td>\n",
       "      <td>10</td>\n",
       "      <td>4</td>\n",
       "      <td>auto</td>\n",
       "      <td>80</td>\n",
       "      <td>True</td>\n",
       "      <td>{'n_estimators': 20, 'min_samples_split': 10, ...</td>\n",
       "      <td>0.761863</td>\n",
       "      <td>0.758405</td>\n",
       "      <td>0.768604</td>\n",
       "      <td>0.763954</td>\n",
       "      <td>0.759095</td>\n",
       "      <td>0.762384</td>\n",
       "      <td>0.003690</td>\n",
       "      <td>20</td>\n",
       "      <td>0.960087</td>\n",
       "      <td>0.959879</td>\n",
       "      <td>0.958019</td>\n",
       "      <td>0.960668</td>\n",
       "      <td>0.961007</td>\n",
       "      <td>0.959932</td>\n",
       "      <td>0.001038</td>\n",
       "    </tr>\n",
       "    <tr>\n",
       "      <th>23</th>\n",
       "      <td>34.027908</td>\n",
       "      <td>0.537623</td>\n",
       "      <td>0.551612</td>\n",
       "      <td>0.011699</td>\n",
       "      <td>20</td>\n",
       "      <td>3</td>\n",
       "      <td>1</td>\n",
       "      <td>sqrt</td>\n",
       "      <td>60</td>\n",
       "      <td>False</td>\n",
       "      <td>{'n_estimators': 20, 'min_samples_split': 3, '...</td>\n",
       "      <td>0.783926</td>\n",
       "      <td>0.783444</td>\n",
       "      <td>0.787515</td>\n",
       "      <td>0.782253</td>\n",
       "      <td>0.787944</td>\n",
       "      <td>0.785016</td>\n",
       "      <td>0.002285</td>\n",
       "      <td>10</td>\n",
       "      <td>1.000000</td>\n",
       "      <td>1.000000</td>\n",
       "      <td>1.000000</td>\n",
       "      <td>0.999989</td>\n",
       "      <td>1.000000</td>\n",
       "      <td>0.999998</td>\n",
       "      <td>0.000004</td>\n",
       "    </tr>\n",
       "    <tr>\n",
       "      <th>24</th>\n",
       "      <td>39.797155</td>\n",
       "      <td>0.573473</td>\n",
       "      <td>0.577996</td>\n",
       "      <td>0.009883</td>\n",
       "      <td>20</td>\n",
       "      <td>5</td>\n",
       "      <td>2</td>\n",
       "      <td>sqrt</td>\n",
       "      <td>None</td>\n",
       "      <td>False</td>\n",
       "      <td>{'n_estimators': 20, 'min_samples_split': 5, '...</td>\n",
       "      <td>0.781649</td>\n",
       "      <td>0.785764</td>\n",
       "      <td>0.787209</td>\n",
       "      <td>0.782209</td>\n",
       "      <td>0.779845</td>\n",
       "      <td>0.783335</td>\n",
       "      <td>0.002728</td>\n",
       "      <td>14</td>\n",
       "      <td>1.000000</td>\n",
       "      <td>1.000000</td>\n",
       "      <td>1.000000</td>\n",
       "      <td>1.000000</td>\n",
       "      <td>1.000000</td>\n",
       "      <td>1.000000</td>\n",
       "      <td>0.000000</td>\n",
       "    </tr>\n",
       "  </tbody>\n",
       "</table>\n",
       "</div>"
      ],
      "text/plain": [
       "    mean_fit_time  std_fit_time  mean_score_time  std_score_time  \\\n",
       "0       18.161432      0.358706         0.417631        0.011522   \n",
       "1       69.548541      1.746423         0.806370        0.018504   \n",
       "2        6.740825      0.095760         0.346635        0.007000   \n",
       "3       13.949662      0.249374         0.384508        0.006001   \n",
       "4       90.972121      2.569169         1.001722        0.052421   \n",
       "5       27.566918      0.260747         0.490514        0.012507   \n",
       "6       35.808305      0.516323         0.648543        0.006390   \n",
       "7       36.406998      0.354982         0.672647        0.008480   \n",
       "8       73.650992      1.272277         0.828861        0.010074   \n",
       "9      105.907686      1.010205         1.094454        0.008458   \n",
       "10      24.672145      0.361100         0.549872        0.011676   \n",
       "11      68.402390      0.932006         0.792255        0.011270   \n",
       "12      35.473977      0.756323         0.560187        0.006954   \n",
       "13     133.308935      0.627465         1.261538        0.007543   \n",
       "14      34.532558      0.257371         0.535150        0.006053   \n",
       "15      59.417172      0.362546         0.901635        0.007614   \n",
       "16      23.694205      0.194392         0.524894        0.007656   \n",
       "17     117.173346      2.500943         1.522172        0.007235   \n",
       "18       2.998356      0.046134         0.312444        0.000016   \n",
       "19      58.227889      1.040998         0.930667        0.046835   \n",
       "20     127.591188      2.906488         1.219412        0.016336   \n",
       "21      56.720910      1.328516         0.863201        0.006061   \n",
       "22      23.564362      0.235175         0.524089        0.009086   \n",
       "23      34.027908      0.537623         0.551612        0.011699   \n",
       "24      39.797155      0.573473         0.577996        0.009883   \n",
       "\n",
       "   param_n_estimators param_min_samples_split param_min_samples_leaf  \\\n",
       "0                  10                      10                      2   \n",
       "1                  40                       2                      3   \n",
       "2                  10                       5                      2   \n",
       "3                  10                      10                      3   \n",
       "4                  70                       5                      3   \n",
       "5                  20                      10                      2   \n",
       "6                  30                       3                      3   \n",
       "7                  30                       3                      2   \n",
       "8                  50                       3                      4   \n",
       "9                  60                       5                      1   \n",
       "10                 70                       5                      4   \n",
       "11                 50                       3                      2   \n",
       "12                 70                       5                      3   \n",
       "13                 90                       3                      4   \n",
       "14                 20                      10                      4   \n",
       "15                 50                       2                      3   \n",
       "16                 20                       3                      4   \n",
       "17                100                      10                      1   \n",
       "18                 10                       3                      4   \n",
       "19                 60                       2                      3   \n",
       "20                 70                      10                      3   \n",
       "21                100                       2                      4   \n",
       "22                 20                      10                      4   \n",
       "23                 20                       3                      1   \n",
       "24                 20                       5                      2   \n",
       "\n",
       "   param_max_features param_max_depth param_bootstrap  \\\n",
       "0                sqrt             110           False   \n",
       "1                sqrt            None           False   \n",
       "2                sqrt              30            True   \n",
       "3                sqrt              50           False   \n",
       "4                auto              50           False   \n",
       "5                auto              50           False   \n",
       "6                sqrt            None            True   \n",
       "7                sqrt             100            True   \n",
       "8                sqrt              60           False   \n",
       "9                sqrt              80           False   \n",
       "10               auto              20            True   \n",
       "11               sqrt              50           False   \n",
       "12               sqrt              20           False   \n",
       "13               auto              60           False   \n",
       "14               auto              80           False   \n",
       "15               sqrt             110            True   \n",
       "16               sqrt             100            True   \n",
       "17               auto             100            True   \n",
       "18               auto              10            True   \n",
       "19               auto              60            True   \n",
       "20               auto            None           False   \n",
       "21               auto              30            True   \n",
       "22               auto              80            True   \n",
       "23               sqrt              60           False   \n",
       "24               sqrt            None           False   \n",
       "\n",
       "                                               params  split0_test_score  \\\n",
       "0   {'n_estimators': 10, 'min_samples_split': 10, ...           0.781649   \n",
       "1   {'n_estimators': 40, 'min_samples_split': 2, '...           0.784933   \n",
       "2   {'n_estimators': 10, 'min_samples_split': 5, '...           0.694055   \n",
       "3   {'n_estimators': 10, 'min_samples_split': 10, ...           0.767598   \n",
       "4   {'n_estimators': 70, 'min_samples_split': 5, '...           0.784276   \n",
       "5   {'n_estimators': 20, 'min_samples_split': 10, ...           0.781255   \n",
       "6   {'n_estimators': 30, 'min_samples_split': 3, '...           0.784101   \n",
       "7   {'n_estimators': 30, 'min_samples_split': 3, '...           0.781212   \n",
       "8   {'n_estimators': 50, 'min_samples_split': 3, '...           0.783225   \n",
       "9   {'n_estimators': 60, 'min_samples_split': 5, '...           0.783926   \n",
       "10  {'n_estimators': 70, 'min_samples_split': 5, '...           0.708151   \n",
       "11  {'n_estimators': 50, 'min_samples_split': 3, '...           0.785151   \n",
       "12  {'n_estimators': 70, 'min_samples_split': 5, '...           0.745229   \n",
       "13  {'n_estimators': 90, 'min_samples_split': 3, '...           0.787034   \n",
       "14  {'n_estimators': 20, 'min_samples_split': 10, ...           0.782394   \n",
       "15  {'n_estimators': 50, 'min_samples_split': 2, '...           0.783751   \n",
       "16  {'n_estimators': 20, 'min_samples_split': 3, '...           0.764052   \n",
       "17  {'n_estimators': 100, 'min_samples_split': 10,...           0.788347   \n",
       "18  {'n_estimators': 10, 'min_samples_split': 3, '...           0.554019   \n",
       "19  {'n_estimators': 60, 'min_samples_split': 2, '...           0.783619   \n",
       "20  {'n_estimators': 70, 'min_samples_split': 10, ...           0.784976   \n",
       "21  {'n_estimators': 100, 'min_samples_split': 2, ...           0.756216   \n",
       "22  {'n_estimators': 20, 'min_samples_split': 10, ...           0.761863   \n",
       "23  {'n_estimators': 20, 'min_samples_split': 3, '...           0.783926   \n",
       "24  {'n_estimators': 20, 'min_samples_split': 5, '...           0.781649   \n",
       "\n",
       "    split1_test_score  split2_test_score  split3_test_score  \\\n",
       "0            0.786202           0.787559           0.784485   \n",
       "1            0.786684           0.788697           0.785448   \n",
       "2            0.689590           0.689109           0.694129   \n",
       "3            0.763264           0.767554           0.768901   \n",
       "4            0.786640           0.786333           0.787112   \n",
       "5            0.782087           0.788697           0.786543   \n",
       "6            0.779942           0.783970           0.781990   \n",
       "7            0.782481           0.786902           0.783654   \n",
       "8            0.788172           0.789135           0.787287   \n",
       "9            0.785064           0.789398           0.785186   \n",
       "10           0.717606           0.716424           0.710852   \n",
       "11           0.785108           0.789135           0.786105   \n",
       "12           0.743302           0.743171           0.744998   \n",
       "13           0.785151           0.795045           0.791402   \n",
       "14           0.781606           0.785064           0.784223   \n",
       "15           0.789441           0.788960           0.787287   \n",
       "16           0.765278           0.770749           0.767281   \n",
       "17           0.780993           0.790142           0.790089   \n",
       "18           0.545088           0.552399           0.552073   \n",
       "19           0.780424           0.787909           0.783654   \n",
       "20           0.784539           0.789879           0.786280   \n",
       "21           0.763133           0.764971           0.762072   \n",
       "22           0.758405           0.768604           0.763954   \n",
       "23           0.783444           0.787515           0.782253   \n",
       "24           0.785764           0.787209           0.782209   \n",
       "\n",
       "    split4_test_score  mean_test_score  std_test_score  rank_test_score  \\\n",
       "0            0.776387         0.783257        0.003962               15   \n",
       "1            0.779845         0.785121        0.002940                9   \n",
       "2            0.693823         0.692141        0.002287               24   \n",
       "3            0.766187         0.766701        0.001921               19   \n",
       "4            0.785142         0.785901        0.001041                5   \n",
       "5            0.780458         0.783808        0.003228               12   \n",
       "6            0.780108         0.782022        0.001795               17   \n",
       "7            0.781509         0.783152        0.002061               16   \n",
       "8            0.784573         0.786478        0.002227                3   \n",
       "9            0.784267         0.785568        0.001973                8   \n",
       "10           0.707700         0.712147        0.004136               23   \n",
       "11           0.783172         0.785734        0.001949                6   \n",
       "12           0.743641         0.744068        0.000870               22   \n",
       "13           0.786674         0.789061        0.003644                1   \n",
       "14           0.789388         0.784535        0.002724               11   \n",
       "15           0.778663         0.785620        0.004011                7   \n",
       "16           0.768069         0.767086        0.002320               18   \n",
       "17           0.784223         0.786759        0.003598                2   \n",
       "18           0.541698         0.549055        0.004791               25   \n",
       "19           0.781202         0.783362        0.002613               13   \n",
       "20           0.786543         0.786443        0.001877                4   \n",
       "21           0.756599         0.760598        0.003547               21   \n",
       "22           0.759095         0.762384        0.003690               20   \n",
       "23           0.787944         0.785016        0.002285               10   \n",
       "24           0.779845         0.783335        0.002728               14   \n",
       "\n",
       "    split0_train_score  split1_train_score  split2_train_score  \\\n",
       "0             0.997395            0.997176            0.997231   \n",
       "1             1.000000            1.000000            1.000000   \n",
       "2             0.840939            0.832086            0.825705   \n",
       "3             0.969324            0.964104            0.959792   \n",
       "4             0.999934            0.999902            0.999934   \n",
       "5             0.995163            0.992733            0.994419   \n",
       "6             0.992361            0.993226            0.992525   \n",
       "7             0.998293            0.998369            0.998337   \n",
       "8             0.999573            0.999639            0.999661   \n",
       "9             1.000000            1.000000            1.000000   \n",
       "10            0.865410            0.869164            0.865968   \n",
       "11            1.000000            0.999978            0.999978   \n",
       "12            0.923545            0.918631            0.920907   \n",
       "13            0.999956            0.999978            0.999978   \n",
       "14            0.997001            0.996443            0.996826   \n",
       "15            0.998468            0.998347            0.998238   \n",
       "16            0.967015            0.968022            0.967398   \n",
       "17            1.000000            1.000000            1.000000   \n",
       "18            0.589347            0.584214            0.584860   \n",
       "19            0.996640            0.995666            0.996279   \n",
       "20            1.000000            1.000000            1.000000   \n",
       "21            0.954976            0.950139            0.951332   \n",
       "22            0.960087            0.959879            0.958019   \n",
       "23            1.000000            1.000000            1.000000   \n",
       "24            1.000000            1.000000            1.000000   \n",
       "\n",
       "    split3_train_score  split4_train_score  mean_train_score  std_train_score  \n",
       "0             0.997538            0.997341          0.997336         0.000127  \n",
       "1             1.000000            1.000000          1.000000         0.000000  \n",
       "2             0.838096            0.841707          0.835707         0.006037  \n",
       "3             0.966227            0.966194          0.965128         0.003146  \n",
       "4             0.999945            0.999869          0.999917         0.000028  \n",
       "5             0.995272            0.994462          0.994410         0.000908  \n",
       "6             0.992777            0.992810          0.992740         0.000294  \n",
       "7             0.998161            0.998304          0.998293         0.000071  \n",
       "8             0.999628            0.999661          0.999632         0.000032  \n",
       "9             1.000000            1.000000          1.000000         0.000000  \n",
       "10            0.864394            0.862599          0.865507         0.002158  \n",
       "11            0.999989            0.999989          0.999987         0.000008  \n",
       "12            0.924761            0.917680          0.921105         0.002728  \n",
       "13            1.000000            0.999978          0.999978         0.000014  \n",
       "14            0.996969            0.996465          0.996741         0.000242  \n",
       "15            0.998490            0.998337          0.998376         0.000093  \n",
       "16            0.966731            0.967551          0.967343         0.000445  \n",
       "17            1.000000            1.000000          1.000000         0.000000  \n",
       "18            0.580815            0.575103          0.582868         0.004739  \n",
       "19            0.996651            0.996104          0.996268         0.000367  \n",
       "20            1.000000            1.000000          1.000000         0.000000  \n",
       "21            0.952109            0.951234          0.951958         0.001634  \n",
       "22            0.960668            0.961007          0.959932         0.001038  \n",
       "23            0.999989            1.000000          0.999998         0.000004  \n",
       "24            1.000000            1.000000          1.000000         0.000000  "
      ]
     },
     "execution_count": 93,
     "metadata": {},
     "output_type": "execute_result"
    }
   ],
   "source": [
    "results_rf"
   ]
  },
  {
   "cell_type": "code",
   "execution_count": 22,
   "metadata": {
    "collapsed": true
   },
   "outputs": [],
   "source": [
    "rf_predict = rf_rand_cv_25.predict(X_test)"
   ]
  },
  {
   "cell_type": "code",
   "execution_count": 23,
   "metadata": {},
   "outputs": [
    {
     "name": "stdout",
     "output_type": "stream",
     "text": [
      "             precision    recall  f1-score   support\n",
      "\n",
      "       Fail       0.82      0.82      0.82     14336\n",
      "        Win       0.82      0.82      0.82     14219\n",
      "\n",
      "avg / total       0.82      0.82      0.82     28555\n",
      "\n"
     ]
    }
   ],
   "source": [
    "print(classification_report(y_test, rf_predict))"
   ]
  },
  {
   "cell_type": "code",
   "execution_count": 56,
   "metadata": {},
   "outputs": [],
   "source": [
    "#ROC Cuve\n",
    "y_pred_prob = rf_rand_cv_25.predict_proba(X_test)[:,1]\n",
    "fpr, tpr, thresholds = roc_curve(y_test, y_pred_prob, pos_label='Win')"
   ]
  },
  {
   "cell_type": "code",
   "execution_count": 57,
   "metadata": {
    "scrolled": true
   },
   "outputs": [
    {
     "data": {
      "image/png": "[encoded data removed]",
      "text/plain": [
       "<Figure size 432x288 with 1 Axes>"
      ]
     },
     "metadata": {},
     "output_type": "display_data"
    }
   ],
   "source": [
    "plt.plot([0, 1], [0, 1], 'k--')\n",
    "plt.plot(fpr, tpr)\n",
    "plt.xlabel('False Positive Rate')\n",
    "plt.ylabel('True Positive Rate')\n",
    "plt.title('ROC Curve')\n",
    "plt.show()"
   ]
  },
  {
   "cell_type": "code",
   "execution_count": 16,
   "metadata": {
    "collapsed": true
   },
   "outputs": [],
   "source": [
    "rf6 = RandomForestClassifier(bootstrap=True,\n",
    "                                max_depth=60, max_features='auto',\n",
    "                                min_samples_leaf=4, min_samples_split=3,\n",
    "                                n_estimators=90)\n",
    "\n",
    "rf5_cv_score = cross_val_score(rf6, X, red_win, cv=5 )"
   ]
  },
  {
   "cell_type": "code",
   "execution_count": 17,
   "metadata": {},
   "outputs": [
    {
     "name": "stdout",
     "output_type": "stream",
     "text": [
      "[0.92547976 0.95829102 0.86579814 0.66106325 0.67388107]\n"
     ]
    }
   ],
   "source": [
    "print(rf5_cv_score)"
   ]
  },
  {
   "cell_type": "code",
   "execution_count": 18,
   "metadata": {},
   "outputs": [
    {
     "data": {
      "text/plain": [
       "0.8169026458602264"
      ]
     },
     "execution_count": 18,
     "metadata": {},
     "output_type": "execute_result"
    }
   ],
   "source": [
    "np.mean(rf5_cv_score)"
   ]
  },
  {
   "cell_type": "markdown",
   "metadata": {},
   "source": [
    "## Logistic Regression Model"
   ]
  },
  {
   "cell_type": "markdown",
   "metadata": {},
   "source": [
    "### Out of the box logistic regression model"
   ]
  },
  {
   "cell_type": "code",
   "execution_count": 10,
   "metadata": {
    "scrolled": true
   },
   "outputs": [
    {
     "data": {
      "text/plain": [
       "LogisticRegression(C=1.0, class_weight=None, dual=False, fit_intercept=True,\n",
       "          intercept_scaling=1, max_iter=100, multi_class='ovr', n_jobs=1,\n",
       "          penalty='l2', random_state=None, solver='liblinear', tol=0.0001,\n",
       "          verbose=0, warm_start=False)"
      ]
     },
     "execution_count": 10,
     "metadata": {},
     "output_type": "execute_result"
    }
   ],
   "source": [
    "lgc = LogisticRegression()\n",
    "lgc_X_train, lgc_X_test, lgc_y_train, lgc_y_test = train_test_split(X, red_win, test_size=0.2, random_state=42)\n",
    "lgc.fit(X_train, y_train)"
   ]
  },
  {
   "cell_type": "code",
   "execution_count": 11,
   "metadata": {},
   "outputs": [
    {
     "data": {
      "text/plain": [
       "0.5657152862896165"
      ]
     },
     "execution_count": 11,
     "metadata": {},
     "output_type": "execute_result"
    }
   ],
   "source": [
    "#test score\n",
    "lgc.score(lgc_X_test, lgc_y_test)"
   ]
  },
  {
   "cell_type": "code",
   "execution_count": 12,
   "metadata": {
    "collapsed": true
   },
   "outputs": [],
   "source": [
    "predict_lgc = lgc.predict(lgc_X_test)"
   ]
  },
  {
   "cell_type": "code",
   "execution_count": 13,
   "metadata": {
    "scrolled": true
   },
   "outputs": [
    {
     "name": "stdout",
     "output_type": "stream",
     "text": [
      "             precision    recall  f1-score   support\n",
      "\n",
      "       Fail       0.57      0.56      0.57     14336\n",
      "        Win       0.56      0.57      0.57     14219\n",
      "\n",
      "avg / total       0.57      0.57      0.57     28555\n",
      "\n"
     ]
    }
   ],
   "source": [
    "print(classification_report(lgc_y_test, predict_lgc))"
   ]
  },
  {
   "cell_type": "markdown",
   "metadata": {},
   "source": [
    "#### Test different values of C hyperparameter"
   ]
  },
  {
   "cell_type": "code",
   "execution_count": 24,
   "metadata": {
    "collapsed": true
   },
   "outputs": [],
   "source": [
    "lg_param_grid = {'C': [0.001, 0.01, 0.1, 10, 100, 1000]}"
   ]
  },
  {
   "cell_type": "code",
   "execution_count": 25,
   "metadata": {
    "collapsed": true
   },
   "outputs": [],
   "source": [
    "lgc2 = LogisticRegression()\n",
    "lgc_cv = GridSearchCV(lgc2, lg_param_grid, cv=5)"
   ]
  },
  {
   "cell_type": "code",
   "execution_count": 26,
   "metadata": {},
   "outputs": [
    {
     "data": {
      "text/plain": [
       "GridSearchCV(cv=5, error_score='raise',\n",
       "       estimator=LogisticRegression(C=1.0, class_weight=None, dual=False, fit_intercept=True,\n",
       "          intercept_scaling=1, max_iter=100, multi_class='ovr', n_jobs=1,\n",
       "          penalty='l2', random_state=None, solver='liblinear', tol=0.0001,\n",
       "          verbose=0, warm_start=False),\n",
       "       fit_params=None, iid=True, n_jobs=1,\n",
       "       param_grid={'C': [0.001, 0.01, 0.1, 10, 100, 1000]},\n",
       "       pre_dispatch='2*n_jobs', refit=True, return_train_score='warn',\n",
       "       scoring=None, verbose=0)"
      ]
     },
     "execution_count": 26,
     "metadata": {},
     "output_type": "execute_result"
    }
   ],
   "source": [
    "lgc_cv.fit(X_train, y_train)"
   ]
  },
  {
   "cell_type": "code",
   "execution_count": 27,
   "metadata": {},
   "outputs": [
    {
     "data": {
      "text/plain": [
       "{'C': 0.1}"
      ]
     },
     "execution_count": 27,
     "metadata": {},
     "output_type": "execute_result"
    }
   ],
   "source": [
    "lgc_cv.best_params_"
   ]
  },
  {
   "cell_type": "code",
   "execution_count": 28,
   "metadata": {},
   "outputs": [
    {
     "data": {
      "text/plain": [
       "0.5612688017650458"
      ]
     },
     "execution_count": 28,
     "metadata": {},
     "output_type": "execute_result"
    }
   ],
   "source": [
    "lgc_cv.best_score_"
   ]
  },
  {
   "cell_type": "code",
   "execution_count": 29,
   "metadata": {
    "collapsed": true
   },
   "outputs": [],
   "source": [
    "predict_lgc_cv = lgc_cv.predict(X_test)"
   ]
  },
  {
   "cell_type": "code",
   "execution_count": 30,
   "metadata": {},
   "outputs": [
    {
     "name": "stdout",
     "output_type": "stream",
     "text": [
      "             precision    recall  f1-score   support\n",
      "\n",
      "       Fail       0.57      0.57      0.57     14336\n",
      "        Win       0.56      0.57      0.57     14219\n",
      "\n",
      "avg / total       0.57      0.57      0.57     28555\n",
      "\n"
     ]
    }
   ],
   "source": [
    "print(classification_report(y_test, predict_lgc_cv))"
   ]
  },
  {
   "cell_type": "markdown",
   "metadata": {},
   "source": [
    "## K Nearest Neighbors Model"
   ]
  },
  {
   "cell_type": "markdown",
   "metadata": {},
   "source": [
    "### Out of the box KNN Model"
   ]
  },
  {
   "cell_type": "code",
   "execution_count": 16,
   "metadata": {},
   "outputs": [
    {
     "data": {
      "text/plain": [
       "KNeighborsClassifier(algorithm='auto', leaf_size=30, metric='minkowski',\n",
       "           metric_params=None, n_jobs=1, n_neighbors=5, p=2,\n",
       "           weights='uniform')"
      ]
     },
     "execution_count": 16,
     "metadata": {},
     "output_type": "execute_result"
    }
   ],
   "source": [
    "knn = KNeighborsClassifier()\n",
    "knn_X_train, knn_X_test, knn_y_train, knn_y_test = train_test_split(X, red_win, test_size=0.2, random_state=42)\n",
    "knn.fit(knn_X_train, knn_y_train)"
   ]
  },
  {
   "cell_type": "code",
   "execution_count": null,
   "metadata": {
    "collapsed": true
   },
   "outputs": [],
   "source": [
    "knn.score(knn_X_test, knn_y_test)"
   ]
  },
  {
   "cell_type": "code",
   "execution_count": null,
   "metadata": {
    "collapsed": true
   },
   "outputs": [],
   "source": [
    "predict_knn = knn.predict(knn_X_test)"
   ]
  },
  {
   "cell_type": "code",
   "execution_count": null,
   "metadata": {
    "collapsed": true
   },
   "outputs": [],
   "source": [
    "print(classification_report(knn_y_test, predict_knn))"
   ]
  },
  {
   "cell_type": "code",
   "execution_count": null,
   "metadata": {
    "collapsed": true
   },
   "outputs": [],
   "source": []
  },
  {
   "cell_type": "markdown",
   "metadata": {},
   "source": [
    "# Linear Support Vector Machine Classifier Model"
   ]
  },
  {
   "cell_type": "markdown",
   "metadata": {},
   "source": [
    "### Out of the box SVC model"
   ]
  },
  {
   "cell_type": "code",
   "execution_count": 13,
   "metadata": {
    "collapsed": true
   },
   "outputs": [],
   "source": [
    "steps = [('scaler', StandardScaler()),\n",
    "        ('svm', SVC(C=0.001, cache_size=1000.0))]\n",
    "\n",
    "pl = Pipeline(steps)"
   ]
  },
  {
   "cell_type": "code",
   "execution_count": 14,
   "metadata": {},
   "outputs": [
    {
     "data": {
      "text/plain": [
       "Pipeline(memory=None,\n",
       "     steps=[('scaler', StandardScaler(copy=True, with_mean=True, with_std=True)), ('svm', SVC(C=0.001, cache_size=1000.0, class_weight=None, coef0=0.0,\n",
       "  decision_function_shape='ovr', degree=3, gamma='auto', kernel='rbf',\n",
       "  max_iter=-1, probability=False, random_state=None, shrinking=True,\n",
       "  tol=0.001, verbose=False))])"
      ]
     },
     "execution_count": 14,
     "metadata": {},
     "output_type": "execute_result"
    }
   ],
   "source": [
    "pl.fit(X_train2, y_train2)"
   ]
  },
  {
   "cell_type": "code",
   "execution_count": 15,
   "metadata": {},
   "outputs": [
    {
     "data": {
      "text/plain": [
       "0.50525"
      ]
     },
     "execution_count": 15,
     "metadata": {},
     "output_type": "execute_result"
    }
   ],
   "source": [
    "pl.score(X_test2, y_test2)"
   ]
  },
  {
   "cell_type": "code",
   "execution_count": 16,
   "metadata": {
    "collapsed": true
   },
   "outputs": [],
   "source": [
    "svm_predict = pl.predict(X_test2)"
   ]
  },
  {
   "cell_type": "code",
   "execution_count": 17,
   "metadata": {},
   "outputs": [
    {
     "name": "stdout",
     "output_type": "stream",
     "text": [
      "             precision    recall  f1-score   support\n",
      "\n",
      "       Fail       0.51      1.00      0.67      2021\n",
      "        Win       0.00      0.00      0.00      1979\n",
      "\n",
      "avg / total       0.26      0.51      0.34      4000\n",
      "\n"
     ]
    },
    {
     "name": "stderr",
     "output_type": "stream",
     "text": [
      "C:\\Users\\jltsa\\Anaconda3\\lib\\site-packages\\sklearn\\metrics\\classification.py:1135: UndefinedMetricWarning: Precision and F-score are ill-defined and being set to 0.0 in labels with no predicted samples.\n",
      "  'precision', 'predicted', average, warn_for)\n"
     ]
    }
   ],
   "source": [
    "print(classification_report(y_test2, svm_predict))"
   ]
  },
  {
   "cell_type": "markdown",
   "metadata": {},
   "source": [
    "***"
   ]
  },
  {
   "cell_type": "raw",
   "metadata": {},
   "source": [
    "Process\n",
    "\n",
    "#Create a pipeline\n",
    "steps = [('scaler', StandardScaler()),\n",
    " ('knn', KNeighborsClassifier())]\n",
    " \n",
    " pl = Pipeline(steps)\n",
    " \n",
    " #Specify hyper parameters\n",
    " parameters = {'SVM__C':[1, 10, 100],\n",
    "              'SVM__gamma':[0.1, 0.01]}\n",
    "              \n",
    " #create test and training sets\n",
    "X_train, X_test, y_train, y_test = train_test_split(X, y, testsize=0.2, random_state=42)\n",
    " \n",
    " #Gridsearch\n",
    " cv = GridSearchCV(pl, param_grid=parameters)\n",
    " \n",
    " #fit\n",
    " cv.fit(X_train, y_train)\n",
    " \n",
    " y_pred = cv.predict(X_test)\n",
    " \n",
    " #Compute metrics\n",
    " cv.classification_report(y_test, y_pred)\n",
    " cv.best_params_\n",
    " cv.score(X_test, y_test)\n"
   ]
  }
 ],
 "metadata": {
  "kernelspec": {
   "display_name": "Python 3",
   "language": "python",
   "name": "python3"
  },
  "language_info": {
   "codemirror_mode": {
    "name": "ipython",
    "version": 3
   },
   "file_extension": ".py",
   "mimetype": "text/x-python",
   "name": "python",
   "nbconvert_exporter": "python",
   "pygments_lexer": "ipython3",
   "version": "3.6.3"
  }
 },
 "nbformat": 4,
 "nbformat_minor": 2
}
