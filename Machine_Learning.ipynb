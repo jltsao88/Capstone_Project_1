{
 "cells": [
  {
   "cell_type": "markdown",
   "metadata": {},
   "source": [
    "# MACHINE LEARNING"
   ]
  },
  {
   "cell_type": "code",
   "execution_count": 98,
   "metadata": {},
   "outputs": [],
   "source": [
    "import pandas as pd\n",
    "import matplotlib.pyplot as plt\n",
    "import numpy as np\n",
    "from sklearn.metrics import classification_report\n",
    "from sklearn.model_selection import cross_val_score\n",
    "from sklearn.model_selection import GridSearchCV\n",
    "from sklearn.model_selection import RandomizedSearchCV\n",
    "from sklearn.model_selection import train_test_split\n",
    "from sklearn.pipeline import Pipeline\n",
    "from sklearn.preprocessing import StandardScaler\n",
    "from sklearn.linear_model import LogisticRegression\n",
    "from sklearn.neighbors import KNeighborsClassifier\n",
    "from sklearn.ensemble import RandomForestClassifier"
   ]
  },
  {
   "cell_type": "code",
   "execution_count": 2,
   "metadata": {},
   "outputs": [
    {
     "data": {
      "text/html": [
       "<style>body {\n",
       "    margin: 0;\n",
       "    font-family: Helvetica;\n",
       "}\n",
       "table.dataframe {\n",
       "    border-collapse: collapse;\n",
       "    border: none;\n",
       "}\n",
       "table.dataframe tr {\n",
       "    border: none;\n",
       "}\n",
       "table.dataframe td, table.dataframe th {\n",
       "    margin: 0;\n",
       "    border: 1px solid white;\n",
       "    padding-left: 0.25em;\n",
       "    padding-right: 0.25em;\n",
       "}\n",
       "table.dataframe th:not(:empty) {\n",
       "    background-color: #fec;\n",
       "    text-align: left;\n",
       "    font-weight: normal;\n",
       "}\n",
       "table.dataframe tr:nth-child(2) th:empty {\n",
       "    border-left: none;\n",
       "    border-right: 1px dashed #888;\n",
       "}\n",
       "table.dataframe td {\n",
       "    border: 2px solid #ccf;\n",
       "    background-color: #f4f4ff;\n",
       "}\n",
       "h3 {\n",
       "    color: white;\n",
       "    background-color: black;\n",
       "    padding: 0.5em;\n",
       "}\n",
       "</style>"
      ],
      "text/plain": [
       "<IPython.core.display.HTML object>"
      ]
     },
     "execution_count": 2,
     "metadata": {},
     "output_type": "execute_result"
    }
   ],
   "source": [
    "%matplotlib inline\n",
    "pd.set_option(\"display.max_columns\", None)\n",
    "from IPython.core.display import HTML\n",
    "css = open('style-table.css').read() + open('style-notebook.css').read()\n",
    "HTML('<style>{}</style>'.format(css))"
   ]
  },
  {
   "cell_type": "markdown",
   "metadata": {},
   "source": [
    "## Preprocessing the data"
   ]
  },
  {
   "cell_type": "code",
   "execution_count": 36,
   "metadata": {
    "collapsed": true
   },
   "outputs": [],
   "source": [
    "df = pd.read_csv('lol_ml_data.csv')"
   ]
  },
  {
   "cell_type": "code",
   "execution_count": 37,
   "metadata": {
    "scrolled": true
   },
   "outputs": [
    {
     "data": {
      "text/html": [
       "<div>\n",
       "<style scoped>\n",
       "    .dataframe tbody tr th:only-of-type {\n",
       "        vertical-align: middle;\n",
       "    }\n",
       "\n",
       "    .dataframe tbody tr th {\n",
       "        vertical-align: top;\n",
       "    }\n",
       "\n",
       "    .dataframe thead th {\n",
       "        text-align: right;\n",
       "    }\n",
       "</style>\n",
       "<table border=\"1\" class=\"dataframe\">\n",
       "  <thead>\n",
       "    <tr style=\"text-align: right;\">\n",
       "      <th></th>\n",
       "      <th>p1_champ</th>\n",
       "      <th>p2_champ</th>\n",
       "      <th>p3_champ</th>\n",
       "      <th>p4_champ</th>\n",
       "      <th>p5_champ</th>\n",
       "      <th>p6_champ</th>\n",
       "      <th>p7_champ</th>\n",
       "      <th>p8_champ</th>\n",
       "      <th>p9_champ</th>\n",
       "      <th>p10_champ</th>\n",
       "      <th>game_length_mins</th>\n",
       "      <th>blue_team_win</th>\n",
       "      <th>red_team_win</th>\n",
       "      <th>p1_spell1</th>\n",
       "      <th>p2_spell1</th>\n",
       "      <th>p3_spell1</th>\n",
       "      <th>p4_spell1</th>\n",
       "      <th>p5_spell1</th>\n",
       "      <th>p6_spell1</th>\n",
       "      <th>p7_spell1</th>\n",
       "      <th>p8_spell1</th>\n",
       "      <th>p9_spell1</th>\n",
       "      <th>p10_spell1</th>\n",
       "      <th>p1_spell2</th>\n",
       "      <th>p2_spell2</th>\n",
       "      <th>p3_spell2</th>\n",
       "      <th>p4_spell2</th>\n",
       "      <th>p5_spell2</th>\n",
       "      <th>p6_spell2</th>\n",
       "      <th>p7_spell2</th>\n",
       "      <th>p8_spell2</th>\n",
       "      <th>p9_spell2</th>\n",
       "      <th>p10_spell2</th>\n",
       "      <th>p1perkPrimaryStyle</th>\n",
       "      <th>p2perkPrimaryStyle</th>\n",
       "      <th>p3perkPrimaryStyle</th>\n",
       "      <th>p4perkPrimaryStyle</th>\n",
       "      <th>p5perkPrimaryStyle</th>\n",
       "      <th>p6perkPrimaryStyle</th>\n",
       "      <th>p7perkPrimaryStyle</th>\n",
       "      <th>p8perkPrimaryStyle</th>\n",
       "      <th>p9perkPrimaryStyle</th>\n",
       "      <th>p10perkPrimaryStyle</th>\n",
       "      <th>p1perkSubStyle</th>\n",
       "      <th>p2perkSubStyle</th>\n",
       "      <th>p3perkSubStyle</th>\n",
       "      <th>p4perkSubStyle</th>\n",
       "      <th>p5perkSubStyle</th>\n",
       "      <th>p6perkSubStyle</th>\n",
       "      <th>p7perkSubStyle</th>\n",
       "      <th>p8perkSubStyle</th>\n",
       "      <th>p9perkSubStyle</th>\n",
       "      <th>p10perkSubStyle</th>\n",
       "      <th>p1_champ_prim_role</th>\n",
       "      <th>p2_champ_prim_role</th>\n",
       "      <th>p3_champ_prim_role</th>\n",
       "      <th>p4_champ_prim_role</th>\n",
       "      <th>p5_champ_prim_role</th>\n",
       "      <th>p6_champ_prim_role</th>\n",
       "      <th>p7_champ_prim_role</th>\n",
       "      <th>p8_champ_prim_role</th>\n",
       "      <th>p9_champ_prim_role</th>\n",
       "      <th>p10_champ_prim_role</th>\n",
       "      <th>p1_champ_sec_role</th>\n",
       "      <th>p2_champ_sec_role</th>\n",
       "      <th>p3_champ_sec_role</th>\n",
       "      <th>p4_champ_sec_role</th>\n",
       "      <th>p5_champ_sec_role</th>\n",
       "      <th>p6_champ_sec_role</th>\n",
       "      <th>p7_champ_sec_role</th>\n",
       "      <th>p8_champ_sec_role</th>\n",
       "      <th>p9_champ_sec_role</th>\n",
       "      <th>p10_champ_sec_role</th>\n",
       "      <th>tank_count</th>\n",
       "      <th>mage_count</th>\n",
       "      <th>marksman_count</th>\n",
       "      <th>support_count</th>\n",
       "      <th>fighter_count</th>\n",
       "      <th>assassin_count</th>\n",
       "    </tr>\n",
       "  </thead>\n",
       "  <tbody>\n",
       "    <tr>\n",
       "      <th>0</th>\n",
       "      <td>Karma</td>\n",
       "      <td>Teemo</td>\n",
       "      <td>JarvanIV</td>\n",
       "      <td>Ezreal</td>\n",
       "      <td>Neeko</td>\n",
       "      <td>Ryze</td>\n",
       "      <td>Kaisa</td>\n",
       "      <td>Cassiopeia</td>\n",
       "      <td>Braum</td>\n",
       "      <td>Rengar</td>\n",
       "      <td>38.466667</td>\n",
       "      <td>Win</td>\n",
       "      <td>Fail</td>\n",
       "      <td>SummonerFlash</td>\n",
       "      <td>SummonerIgnite</td>\n",
       "      <td>SummonerFlash</td>\n",
       "      <td>SummonerFlash</td>\n",
       "      <td>SummonerFlash</td>\n",
       "      <td>SummonerTeleport</td>\n",
       "      <td>SummonerFlash</td>\n",
       "      <td>SummonerBoost</td>\n",
       "      <td>SummonerIgnite</td>\n",
       "      <td>SummonerFlash</td>\n",
       "      <td>SummonerIgnite</td>\n",
       "      <td>SummonerFlash</td>\n",
       "      <td>SummonerSmite</td>\n",
       "      <td>SummonerHeal</td>\n",
       "      <td>SummonerIgnite</td>\n",
       "      <td>SummonerFlash</td>\n",
       "      <td>SummonerHeal</td>\n",
       "      <td>SummonerFlash</td>\n",
       "      <td>SummonerFlash</td>\n",
       "      <td>SummonerSmite</td>\n",
       "      <td>Sorcery</td>\n",
       "      <td>Sorcery</td>\n",
       "      <td>Domination</td>\n",
       "      <td>Inspiration</td>\n",
       "      <td>Sorcery</td>\n",
       "      <td>Sorcery</td>\n",
       "      <td>Inspiration</td>\n",
       "      <td>Sorcery</td>\n",
       "      <td>Resolve</td>\n",
       "      <td>Domination</td>\n",
       "      <td>Inspiration</td>\n",
       "      <td>Domination</td>\n",
       "      <td>Inspiration</td>\n",
       "      <td>Sorcery</td>\n",
       "      <td>Domination</td>\n",
       "      <td>Domination</td>\n",
       "      <td>Sorcery</td>\n",
       "      <td>Domination</td>\n",
       "      <td>Inspiration</td>\n",
       "      <td>Sorcery</td>\n",
       "      <td>Mage</td>\n",
       "      <td>Marksman</td>\n",
       "      <td>Tank</td>\n",
       "      <td>Marksman</td>\n",
       "      <td>Mage</td>\n",
       "      <td>Mage</td>\n",
       "      <td>Marksman</td>\n",
       "      <td>Mage</td>\n",
       "      <td>Support</td>\n",
       "      <td>Assassin</td>\n",
       "      <td>Support</td>\n",
       "      <td>Assassin</td>\n",
       "      <td>Fighter</td>\n",
       "      <td>Mage</td>\n",
       "      <td>Support</td>\n",
       "      <td>Fighter</td>\n",
       "      <td>None</td>\n",
       "      <td>None</td>\n",
       "      <td>Tank</td>\n",
       "      <td>Fighter</td>\n",
       "      <td>2</td>\n",
       "      <td>5</td>\n",
       "      <td>3</td>\n",
       "      <td>3</td>\n",
       "      <td>3</td>\n",
       "      <td>2</td>\n",
       "    </tr>\n",
       "    <tr>\n",
       "      <th>1</th>\n",
       "      <td>Teemo</td>\n",
       "      <td>Tristana</td>\n",
       "      <td>LeeSin</td>\n",
       "      <td>Bard</td>\n",
       "      <td>Leblanc</td>\n",
       "      <td>Lucian</td>\n",
       "      <td>Irelia</td>\n",
       "      <td>Blitzcrank</td>\n",
       "      <td>Orianna</td>\n",
       "      <td>Kindred</td>\n",
       "      <td>23.400000</td>\n",
       "      <td>Win</td>\n",
       "      <td>Fail</td>\n",
       "      <td>SummonerFlash</td>\n",
       "      <td>SummonerFlash</td>\n",
       "      <td>SummonerFlash</td>\n",
       "      <td>SummonerFlash</td>\n",
       "      <td>SummonerIgnite</td>\n",
       "      <td>SummonerHeal</td>\n",
       "      <td>SummonerTeleport</td>\n",
       "      <td>SummonerIgnite</td>\n",
       "      <td>SummonerBarrier</td>\n",
       "      <td>SummonerFlash</td>\n",
       "      <td>SummonerIgnite</td>\n",
       "      <td>SummonerHeal</td>\n",
       "      <td>SummonerSmite</td>\n",
       "      <td>SummonerIgnite</td>\n",
       "      <td>SummonerFlash</td>\n",
       "      <td>SummonerFlash</td>\n",
       "      <td>SummonerFlash</td>\n",
       "      <td>SummonerFlash</td>\n",
       "      <td>SummonerFlash</td>\n",
       "      <td>SummonerSmite</td>\n",
       "      <td>Sorcery</td>\n",
       "      <td>Inspiration</td>\n",
       "      <td>Domination</td>\n",
       "      <td>Domination</td>\n",
       "      <td>Domination</td>\n",
       "      <td>Inspiration</td>\n",
       "      <td>Inspiration</td>\n",
       "      <td>Resolve</td>\n",
       "      <td>Sorcery</td>\n",
       "      <td>Inspiration</td>\n",
       "      <td>Resolve</td>\n",
       "      <td>Sorcery</td>\n",
       "      <td>Inspiration</td>\n",
       "      <td>Resolve</td>\n",
       "      <td>Sorcery</td>\n",
       "      <td>Sorcery</td>\n",
       "      <td>Sorcery</td>\n",
       "      <td>Inspiration</td>\n",
       "      <td>Inspiration</td>\n",
       "      <td>Domination</td>\n",
       "      <td>Marksman</td>\n",
       "      <td>Marksman</td>\n",
       "      <td>Fighter</td>\n",
       "      <td>Support</td>\n",
       "      <td>Assassin</td>\n",
       "      <td>Marksman</td>\n",
       "      <td>Fighter</td>\n",
       "      <td>Tank</td>\n",
       "      <td>Mage</td>\n",
       "      <td>Marksman</td>\n",
       "      <td>Assassin</td>\n",
       "      <td>Assassin</td>\n",
       "      <td>Assassin</td>\n",
       "      <td>Mage</td>\n",
       "      <td>Mage</td>\n",
       "      <td>None</td>\n",
       "      <td>Assassin</td>\n",
       "      <td>Fighter</td>\n",
       "      <td>Support</td>\n",
       "      <td>None</td>\n",
       "      <td>1</td>\n",
       "      <td>3</td>\n",
       "      <td>4</td>\n",
       "      <td>2</td>\n",
       "      <td>3</td>\n",
       "      <td>5</td>\n",
       "    </tr>\n",
       "    <tr>\n",
       "      <th>2</th>\n",
       "      <td>JarvanIV</td>\n",
       "      <td>Lux</td>\n",
       "      <td>Zyra</td>\n",
       "      <td>Jax</td>\n",
       "      <td>Kaisa</td>\n",
       "      <td>Tryndamere</td>\n",
       "      <td>Ezreal</td>\n",
       "      <td>Thresh</td>\n",
       "      <td>Xerath</td>\n",
       "      <td>Karthus</td>\n",
       "      <td>31.733333</td>\n",
       "      <td>Fail</td>\n",
       "      <td>Win</td>\n",
       "      <td>SummonerFlash</td>\n",
       "      <td>SummonerFlash</td>\n",
       "      <td>SummonerTeleport</td>\n",
       "      <td>SummonerTeleport</td>\n",
       "      <td>SummonerFlash</td>\n",
       "      <td>SummonerIgnite</td>\n",
       "      <td>SummonerHeal</td>\n",
       "      <td>SummonerIgnite</td>\n",
       "      <td>SummonerHeal</td>\n",
       "      <td>SummonerSmite</td>\n",
       "      <td>SummonerSmite</td>\n",
       "      <td>SummonerIgnite</td>\n",
       "      <td>SummonerFlash</td>\n",
       "      <td>SummonerFlash</td>\n",
       "      <td>SummonerHeal</td>\n",
       "      <td>SummonerFlash</td>\n",
       "      <td>SummonerFlash</td>\n",
       "      <td>SummonerFlash</td>\n",
       "      <td>SummonerFlash</td>\n",
       "      <td>SummonerFlash</td>\n",
       "      <td>Domination</td>\n",
       "      <td>Sorcery</td>\n",
       "      <td>Sorcery</td>\n",
       "      <td>Inspiration</td>\n",
       "      <td>Inspiration</td>\n",
       "      <td>Inspiration</td>\n",
       "      <td>Inspiration</td>\n",
       "      <td>Resolve</td>\n",
       "      <td>Sorcery</td>\n",
       "      <td>Domination</td>\n",
       "      <td>Inspiration</td>\n",
       "      <td>Inspiration</td>\n",
       "      <td>Domination</td>\n",
       "      <td>Inspiration</td>\n",
       "      <td>Sorcery</td>\n",
       "      <td>Resolve</td>\n",
       "      <td>Sorcery</td>\n",
       "      <td>Inspiration</td>\n",
       "      <td>Inspiration</td>\n",
       "      <td>Inspiration</td>\n",
       "      <td>Tank</td>\n",
       "      <td>Mage</td>\n",
       "      <td>Mage</td>\n",
       "      <td>Fighter</td>\n",
       "      <td>Marksman</td>\n",
       "      <td>Fighter</td>\n",
       "      <td>Marksman</td>\n",
       "      <td>Support</td>\n",
       "      <td>Mage</td>\n",
       "      <td>Mage</td>\n",
       "      <td>Fighter</td>\n",
       "      <td>Support</td>\n",
       "      <td>Support</td>\n",
       "      <td>Assassin</td>\n",
       "      <td>None</td>\n",
       "      <td>Assassin</td>\n",
       "      <td>Mage</td>\n",
       "      <td>Fighter</td>\n",
       "      <td>Assassin</td>\n",
       "      <td>None</td>\n",
       "      <td>1</td>\n",
       "      <td>5</td>\n",
       "      <td>2</td>\n",
       "      <td>3</td>\n",
       "      <td>4</td>\n",
       "      <td>3</td>\n",
       "    </tr>\n",
       "    <tr>\n",
       "      <th>3</th>\n",
       "      <td>Blitzcrank</td>\n",
       "      <td>Graves</td>\n",
       "      <td>Caitlyn</td>\n",
       "      <td>Kled</td>\n",
       "      <td>Diana</td>\n",
       "      <td>LeeSin</td>\n",
       "      <td>Lucian</td>\n",
       "      <td>Thresh</td>\n",
       "      <td>Lissandra</td>\n",
       "      <td>Urgot</td>\n",
       "      <td>35.366667</td>\n",
       "      <td>Win</td>\n",
       "      <td>Fail</td>\n",
       "      <td>SummonerIgnite</td>\n",
       "      <td>SummonerFlash</td>\n",
       "      <td>SummonerHeal</td>\n",
       "      <td>SummonerTeleport</td>\n",
       "      <td>SummonerFlash</td>\n",
       "      <td>SummonerFlash</td>\n",
       "      <td>SummonerHeal</td>\n",
       "      <td>SummonerFlash</td>\n",
       "      <td>SummonerTeleport</td>\n",
       "      <td>SummonerFlash</td>\n",
       "      <td>SummonerFlash</td>\n",
       "      <td>SummonerSmite</td>\n",
       "      <td>SummonerFlash</td>\n",
       "      <td>SummonerFlash</td>\n",
       "      <td>SummonerTeleport</td>\n",
       "      <td>SummonerSmite</td>\n",
       "      <td>SummonerFlash</td>\n",
       "      <td>SummonerIgnite</td>\n",
       "      <td>SummonerFlash</td>\n",
       "      <td>SummonerTeleport</td>\n",
       "      <td>Resolve</td>\n",
       "      <td>Inspiration</td>\n",
       "      <td>Inspiration</td>\n",
       "      <td>Inspiration</td>\n",
       "      <td>Sorcery</td>\n",
       "      <td>Domination</td>\n",
       "      <td>Inspiration</td>\n",
       "      <td>Resolve</td>\n",
       "      <td>Sorcery</td>\n",
       "      <td>Inspiration</td>\n",
       "      <td>Sorcery</td>\n",
       "      <td>Sorcery</td>\n",
       "      <td>Sorcery</td>\n",
       "      <td>Resolve</td>\n",
       "      <td>Domination</td>\n",
       "      <td>Inspiration</td>\n",
       "      <td>Sorcery</td>\n",
       "      <td>Inspiration</td>\n",
       "      <td>Inspiration</td>\n",
       "      <td>Resolve</td>\n",
       "      <td>Tank</td>\n",
       "      <td>Marksman</td>\n",
       "      <td>Marksman</td>\n",
       "      <td>Fighter</td>\n",
       "      <td>Fighter</td>\n",
       "      <td>Fighter</td>\n",
       "      <td>Marksman</td>\n",
       "      <td>Support</td>\n",
       "      <td>Mage</td>\n",
       "      <td>Fighter</td>\n",
       "      <td>Fighter</td>\n",
       "      <td>None</td>\n",
       "      <td>None</td>\n",
       "      <td>Tank</td>\n",
       "      <td>Mage</td>\n",
       "      <td>Assassin</td>\n",
       "      <td>None</td>\n",
       "      <td>Fighter</td>\n",
       "      <td>None</td>\n",
       "      <td>Marksman</td>\n",
       "      <td>2</td>\n",
       "      <td>2</td>\n",
       "      <td>4</td>\n",
       "      <td>1</td>\n",
       "      <td>6</td>\n",
       "      <td>1</td>\n",
       "    </tr>\n",
       "    <tr>\n",
       "      <th>4</th>\n",
       "      <td>Lux</td>\n",
       "      <td>Jhin</td>\n",
       "      <td>Gragas</td>\n",
       "      <td>Fiora</td>\n",
       "      <td>Kindred</td>\n",
       "      <td>Tristana</td>\n",
       "      <td>Fiddlesticks</td>\n",
       "      <td>Graves</td>\n",
       "      <td>Xerath</td>\n",
       "      <td>Kennen</td>\n",
       "      <td>23.933333</td>\n",
       "      <td>Fail</td>\n",
       "      <td>Win</td>\n",
       "      <td>SummonerFlash</td>\n",
       "      <td>SummonerFlash</td>\n",
       "      <td>SummonerFlash</td>\n",
       "      <td>SummonerFlash</td>\n",
       "      <td>SummonerFlash</td>\n",
       "      <td>SummonerFlash</td>\n",
       "      <td>SummonerIgnite</td>\n",
       "      <td>SummonerFlash</td>\n",
       "      <td>SummonerFlash</td>\n",
       "      <td>SummonerTeleport</td>\n",
       "      <td>SummonerIgnite</td>\n",
       "      <td>SummonerHeal</td>\n",
       "      <td>SummonerIgnite</td>\n",
       "      <td>SummonerIgnite</td>\n",
       "      <td>SummonerSmite</td>\n",
       "      <td>SummonerHeal</td>\n",
       "      <td>SummonerFlash</td>\n",
       "      <td>SummonerSmite</td>\n",
       "      <td>SummonerBarrier</td>\n",
       "      <td>SummonerFlash</td>\n",
       "      <td>Domination</td>\n",
       "      <td>Inspiration</td>\n",
       "      <td>Resolve</td>\n",
       "      <td>Domination</td>\n",
       "      <td>Inspiration</td>\n",
       "      <td>Inspiration</td>\n",
       "      <td>Inspiration</td>\n",
       "      <td>Inspiration</td>\n",
       "      <td>Domination</td>\n",
       "      <td>Sorcery</td>\n",
       "      <td>Sorcery</td>\n",
       "      <td>Sorcery</td>\n",
       "      <td>Inspiration</td>\n",
       "      <td>Sorcery</td>\n",
       "      <td>Domination</td>\n",
       "      <td>Sorcery</td>\n",
       "      <td>Sorcery</td>\n",
       "      <td>Sorcery</td>\n",
       "      <td>Sorcery</td>\n",
       "      <td>Domination</td>\n",
       "      <td>Mage</td>\n",
       "      <td>Marksman</td>\n",
       "      <td>Fighter</td>\n",
       "      <td>Fighter</td>\n",
       "      <td>Marksman</td>\n",
       "      <td>Marksman</td>\n",
       "      <td>Mage</td>\n",
       "      <td>Marksman</td>\n",
       "      <td>Mage</td>\n",
       "      <td>Mage</td>\n",
       "      <td>Support</td>\n",
       "      <td>Assassin</td>\n",
       "      <td>Mage</td>\n",
       "      <td>Assassin</td>\n",
       "      <td>None</td>\n",
       "      <td>Assassin</td>\n",
       "      <td>Support</td>\n",
       "      <td>None</td>\n",
       "      <td>Assassin</td>\n",
       "      <td>Marksman</td>\n",
       "      <td>0</td>\n",
       "      <td>5</td>\n",
       "      <td>5</td>\n",
       "      <td>2</td>\n",
       "      <td>2</td>\n",
       "      <td>4</td>\n",
       "    </tr>\n",
       "  </tbody>\n",
       "</table>\n",
       "</div>"
      ],
      "text/plain": [
       "     p1_champ  p2_champ  p3_champ p4_champ p5_champ    p6_champ      p7_champ  \\\n",
       "0       Karma     Teemo  JarvanIV   Ezreal    Neeko        Ryze         Kaisa   \n",
       "1       Teemo  Tristana    LeeSin     Bard  Leblanc      Lucian        Irelia   \n",
       "2    JarvanIV       Lux      Zyra      Jax    Kaisa  Tryndamere        Ezreal   \n",
       "3  Blitzcrank    Graves   Caitlyn     Kled    Diana      LeeSin        Lucian   \n",
       "4         Lux      Jhin    Gragas    Fiora  Kindred    Tristana  Fiddlesticks   \n",
       "\n",
       "     p8_champ   p9_champ p10_champ  game_length_mins blue_team_win  \\\n",
       "0  Cassiopeia      Braum    Rengar         38.466667           Win   \n",
       "1  Blitzcrank    Orianna   Kindred         23.400000           Win   \n",
       "2      Thresh     Xerath   Karthus         31.733333          Fail   \n",
       "3      Thresh  Lissandra     Urgot         35.366667           Win   \n",
       "4      Graves     Xerath    Kennen         23.933333          Fail   \n",
       "\n",
       "  red_team_win       p1_spell1       p2_spell1         p3_spell1  \\\n",
       "0         Fail   SummonerFlash  SummonerIgnite     SummonerFlash   \n",
       "1         Fail   SummonerFlash   SummonerFlash     SummonerFlash   \n",
       "2          Win   SummonerFlash   SummonerFlash  SummonerTeleport   \n",
       "3         Fail  SummonerIgnite   SummonerFlash      SummonerHeal   \n",
       "4          Win   SummonerFlash   SummonerFlash     SummonerFlash   \n",
       "\n",
       "          p4_spell1       p5_spell1         p6_spell1         p7_spell1  \\\n",
       "0     SummonerFlash   SummonerFlash  SummonerTeleport     SummonerFlash   \n",
       "1     SummonerFlash  SummonerIgnite      SummonerHeal  SummonerTeleport   \n",
       "2  SummonerTeleport   SummonerFlash    SummonerIgnite      SummonerHeal   \n",
       "3  SummonerTeleport   SummonerFlash     SummonerFlash      SummonerHeal   \n",
       "4     SummonerFlash   SummonerFlash     SummonerFlash    SummonerIgnite   \n",
       "\n",
       "        p8_spell1         p9_spell1        p10_spell1       p1_spell2  \\\n",
       "0   SummonerBoost    SummonerIgnite     SummonerFlash  SummonerIgnite   \n",
       "1  SummonerIgnite   SummonerBarrier     SummonerFlash  SummonerIgnite   \n",
       "2  SummonerIgnite      SummonerHeal     SummonerSmite   SummonerSmite   \n",
       "3   SummonerFlash  SummonerTeleport     SummonerFlash   SummonerFlash   \n",
       "4   SummonerFlash     SummonerFlash  SummonerTeleport  SummonerIgnite   \n",
       "\n",
       "        p2_spell2       p3_spell2       p4_spell2         p5_spell2  \\\n",
       "0   SummonerFlash   SummonerSmite    SummonerHeal    SummonerIgnite   \n",
       "1    SummonerHeal   SummonerSmite  SummonerIgnite     SummonerFlash   \n",
       "2  SummonerIgnite   SummonerFlash   SummonerFlash      SummonerHeal   \n",
       "3   SummonerSmite   SummonerFlash   SummonerFlash  SummonerTeleport   \n",
       "4    SummonerHeal  SummonerIgnite  SummonerIgnite     SummonerSmite   \n",
       "\n",
       "       p6_spell2      p7_spell2       p8_spell2        p9_spell2  \\\n",
       "0  SummonerFlash   SummonerHeal   SummonerFlash    SummonerFlash   \n",
       "1  SummonerFlash  SummonerFlash   SummonerFlash    SummonerFlash   \n",
       "2  SummonerFlash  SummonerFlash   SummonerFlash    SummonerFlash   \n",
       "3  SummonerSmite  SummonerFlash  SummonerIgnite    SummonerFlash   \n",
       "4   SummonerHeal  SummonerFlash   SummonerSmite  SummonerBarrier   \n",
       "\n",
       "         p10_spell2 p1perkPrimaryStyle p2perkPrimaryStyle p3perkPrimaryStyle  \\\n",
       "0     SummonerSmite            Sorcery            Sorcery         Domination   \n",
       "1     SummonerSmite            Sorcery        Inspiration         Domination   \n",
       "2     SummonerFlash         Domination            Sorcery            Sorcery   \n",
       "3  SummonerTeleport            Resolve        Inspiration        Inspiration   \n",
       "4     SummonerFlash         Domination        Inspiration            Resolve   \n",
       "\n",
       "  p4perkPrimaryStyle p5perkPrimaryStyle p6perkPrimaryStyle p7perkPrimaryStyle  \\\n",
       "0        Inspiration            Sorcery            Sorcery        Inspiration   \n",
       "1         Domination         Domination        Inspiration        Inspiration   \n",
       "2        Inspiration        Inspiration        Inspiration        Inspiration   \n",
       "3        Inspiration            Sorcery         Domination        Inspiration   \n",
       "4         Domination        Inspiration        Inspiration        Inspiration   \n",
       "\n",
       "  p8perkPrimaryStyle p9perkPrimaryStyle p10perkPrimaryStyle p1perkSubStyle  \\\n",
       "0            Sorcery            Resolve          Domination    Inspiration   \n",
       "1            Resolve            Sorcery         Inspiration        Resolve   \n",
       "2            Resolve            Sorcery          Domination    Inspiration   \n",
       "3            Resolve            Sorcery         Inspiration        Sorcery   \n",
       "4        Inspiration         Domination             Sorcery        Sorcery   \n",
       "\n",
       "  p2perkSubStyle p3perkSubStyle p4perkSubStyle p5perkSubStyle p6perkSubStyle  \\\n",
       "0     Domination    Inspiration        Sorcery     Domination     Domination   \n",
       "1        Sorcery    Inspiration        Resolve        Sorcery        Sorcery   \n",
       "2    Inspiration     Domination    Inspiration        Sorcery        Resolve   \n",
       "3        Sorcery        Sorcery        Resolve     Domination    Inspiration   \n",
       "4        Sorcery    Inspiration        Sorcery     Domination        Sorcery   \n",
       "\n",
       "  p7perkSubStyle p8perkSubStyle p9perkSubStyle p10perkSubStyle  \\\n",
       "0        Sorcery     Domination    Inspiration         Sorcery   \n",
       "1        Sorcery    Inspiration    Inspiration      Domination   \n",
       "2        Sorcery    Inspiration    Inspiration     Inspiration   \n",
       "3        Sorcery    Inspiration    Inspiration         Resolve   \n",
       "4        Sorcery        Sorcery        Sorcery      Domination   \n",
       "\n",
       "  p1_champ_prim_role p2_champ_prim_role p3_champ_prim_role p4_champ_prim_role  \\\n",
       "0               Mage           Marksman               Tank           Marksman   \n",
       "1           Marksman           Marksman            Fighter            Support   \n",
       "2               Tank               Mage               Mage            Fighter   \n",
       "3               Tank           Marksman           Marksman            Fighter   \n",
       "4               Mage           Marksman            Fighter            Fighter   \n",
       "\n",
       "  p5_champ_prim_role p6_champ_prim_role p7_champ_prim_role p8_champ_prim_role  \\\n",
       "0               Mage               Mage           Marksman               Mage   \n",
       "1           Assassin           Marksman            Fighter               Tank   \n",
       "2           Marksman            Fighter           Marksman            Support   \n",
       "3            Fighter            Fighter           Marksman            Support   \n",
       "4           Marksman           Marksman               Mage           Marksman   \n",
       "\n",
       "  p9_champ_prim_role p10_champ_prim_role p1_champ_sec_role p2_champ_sec_role  \\\n",
       "0            Support            Assassin           Support          Assassin   \n",
       "1               Mage            Marksman          Assassin          Assassin   \n",
       "2               Mage                Mage           Fighter           Support   \n",
       "3               Mage             Fighter           Fighter              None   \n",
       "4               Mage                Mage           Support          Assassin   \n",
       "\n",
       "  p3_champ_sec_role p4_champ_sec_role p5_champ_sec_role p6_champ_sec_role  \\\n",
       "0           Fighter              Mage           Support           Fighter   \n",
       "1          Assassin              Mage              Mage              None   \n",
       "2           Support          Assassin              None          Assassin   \n",
       "3              None              Tank              Mage          Assassin   \n",
       "4              Mage          Assassin              None          Assassin   \n",
       "\n",
       "  p7_champ_sec_role p8_champ_sec_role p9_champ_sec_role p10_champ_sec_role  \\\n",
       "0              None              None              Tank            Fighter   \n",
       "1          Assassin           Fighter           Support               None   \n",
       "2              Mage           Fighter          Assassin               None   \n",
       "3              None           Fighter              None           Marksman   \n",
       "4           Support              None          Assassin           Marksman   \n",
       "\n",
       "   tank_count  mage_count  marksman_count  support_count  fighter_count  \\\n",
       "0           2           5               3              3              3   \n",
       "1           1           3               4              2              3   \n",
       "2           1           5               2              3              4   \n",
       "3           2           2               4              1              6   \n",
       "4           0           5               5              2              2   \n",
       "\n",
       "   assassin_count  \n",
       "0               2  \n",
       "1               5  \n",
       "2               3  \n",
       "3               1  \n",
       "4               4  "
      ]
     },
     "execution_count": 37,
     "metadata": {},
     "output_type": "execute_result"
    }
   ],
   "source": [
    "df.head()"
   ]
  },
  {
   "cell_type": "code",
   "execution_count": 40,
   "metadata": {
    "collapsed": true
   },
   "outputs": [],
   "source": [
    "#the data we want to predict\n",
    "red_win = df['red_team_win'].values\n",
    "blue_win = df['blue_team_win'].values\n",
    "game_length = df['game_length_mins'].values"
   ]
  },
  {
   "cell_type": "code",
   "execution_count": 71,
   "metadata": {},
   "outputs": [
    {
     "data": {
      "text/plain": [
       "array(['Fail', 'Fail', 'Win', 'Fail', 'Win'], dtype=object)"
      ]
     },
     "execution_count": 71,
     "metadata": {},
     "output_type": "execute_result"
    }
   ],
   "source": [
    "red_win[:5]"
   ]
  },
  {
   "cell_type": "code",
   "execution_count": 52,
   "metadata": {
    "collapsed": true
   },
   "outputs": [],
   "source": [
    "#Create features\n",
    "X = df.drop(['red_team_win', 'blue_team_win', 'game_length_mins'], axis=1)"
   ]
  },
  {
   "cell_type": "code",
   "execution_count": 53,
   "metadata": {},
   "outputs": [],
   "source": [
    "#Create a list of the categorical features\n",
    "col_list = X.columns.tolist()\n",
    "cat_feat = col_list[:-6]"
   ]
  },
  {
   "cell_type": "code",
   "execution_count": 54,
   "metadata": {},
   "outputs": [],
   "source": [
    "#Create dummy variables for categorical features\n",
    "X = pd.get_dummies(X, columns=cat_feat, drop_first=True)"
   ]
  },
  {
   "cell_type": "markdown",
   "metadata": {},
   "source": [
    "## Building a Random Forest model"
   ]
  },
  {
   "cell_type": "markdown",
   "metadata": {},
   "source": [
    "### Let's test a Random Forest Classifier out of the box with out hyper parameter tuning."
   ]
  },
  {
   "cell_type": "code",
   "execution_count": 61,
   "metadata": {
    "scrolled": true
   },
   "outputs": [
    {
     "data": {
      "text/plain": [
       "RandomForestClassifier(bootstrap=True, class_weight=None, criterion='gini',\n",
       "            max_depth=None, max_features='auto', max_leaf_nodes=None,\n",
       "            min_impurity_decrease=0.0, min_impurity_split=None,\n",
       "            min_samples_leaf=1, min_samples_split=2,\n",
       "            min_weight_fraction_leaf=0.0, n_estimators=10, n_jobs=1,\n",
       "            oob_score=False, random_state=None, verbose=0,\n",
       "            warm_start=False)"
      ]
     },
     "execution_count": 61,
     "metadata": {},
     "output_type": "execute_result"
    }
   ],
   "source": [
    "rf = RandomForestClassifier()\n",
    "X_train, X_test, y_train, y_test = train_test_split(X, red_win, test_size=0.2, random_state=42)\n",
    "rf.fit(X_train, y_train)"
   ]
  },
  {
   "cell_type": "markdown",
   "metadata": {},
   "source": [
    "### Get the accuracy score for our Random Forest model."
   ]
  },
  {
   "cell_type": "code",
   "execution_count": 63,
   "metadata": {},
   "outputs": [
    {
     "data": {
      "text/plain": [
       "0.8074592890912274"
      ]
     },
     "execution_count": 63,
     "metadata": {},
     "output_type": "execute_result"
    }
   ],
   "source": [
    "rf.score(X_test, y_test)"
   ]
  },
  {
   "cell_type": "markdown",
   "metadata": {},
   "source": [
    "### Cross Validation for the Random Forest model."
   ]
  },
  {
   "cell_type": "code",
   "execution_count": 84,
   "metadata": {},
   "outputs": [
    {
     "name": "stdout",
     "output_type": "stream",
     "text": [
      "[0.92365878 0.95885134 0.86366183 0.65612524 0.67160468]\n"
     ]
    }
   ],
   "source": [
    "#Does cross_val_score fit the model and save the fitted model to rf2?\n",
    "rf2 = RandomForestClassifier()\n",
    "cv_rf_results = cross_val_score(rf2, X, red_win, cv=5)\n",
    "print(cv_rf_results)"
   ]
  },
  {
   "cell_type": "code",
   "execution_count": 85,
   "metadata": {},
   "outputs": [
    {
     "data": {
      "text/plain": [
       "0.8147803728451987"
      ]
     },
     "execution_count": 85,
     "metadata": {},
     "output_type": "execute_result"
    }
   ],
   "source": [
    "# Get the mean score of the cross validation\n",
    "np.mean(cv_rf_results)"
   ]
  },
  {
   "cell_type": "markdown",
   "metadata": {},
   "source": [
    "### Try out of the box Random Forest Model again and scaling the features"
   ]
  },
  {
   "cell_type": "code",
   "execution_count": 86,
   "metadata": {},
   "outputs": [],
   "source": [
    "# Set up pipeline\n",
    "steps = [('scaler', StandardScaler()),\n",
    "        ('rforest', RandomForestClassifier())]\n",
    "\n",
    "pl = Pipeline(steps)"
   ]
  },
  {
   "cell_type": "code",
   "execution_count": 87,
   "metadata": {
    "collapsed": true
   },
   "outputs": [],
   "source": [
    "#Cross validation\n",
    "scaled_cv_rf_results = cross_val_score(pl, X, red_win, cv=5)"
   ]
  },
  {
   "cell_type": "code",
   "execution_count": 88,
   "metadata": {},
   "outputs": [
    {
     "name": "stdout",
     "output_type": "stream",
     "text": [
      "[0.92505953 0.95766065 0.86124536 0.6562303  0.67412622]\n"
     ]
    }
   ],
   "source": [
    "print(scaled_cv_rf_results)"
   ]
  },
  {
   "cell_type": "code",
   "execution_count": 110,
   "metadata": {},
   "outputs": [
    {
     "name": "stdout",
     "output_type": "stream",
     "text": [
      "0.8148644128337945\n"
     ]
    }
   ],
   "source": [
    "cv_score = np.mean(scaled_cv_rf_results)\n",
    "print(cv_score)"
   ]
  },
  {
   "cell_type": "markdown",
   "metadata": {},
   "source": [
    "By scaling the features, we get slightly better performance from the model."
   ]
  },
  {
   "cell_type": "markdown",
   "metadata": {},
   "source": [
    "### Hyperparamter Tuning the Random Forest model"
   ]
  },
  {
   "cell_type": "code",
   "execution_count": 91,
   "metadata": {
    "collapsed": true
   },
   "outputs": [],
   "source": [
    "rf3 = RandomForestClassifier()"
   ]
  },
  {
   "cell_type": "code",
   "execution_count": 99,
   "metadata": {},
   "outputs": [
    {
     "data": {
      "text/plain": [
       "<bound method BaseEstimator.get_params of RandomForestClassifier(bootstrap=True, class_weight=None, criterion='gini',\n",
       "            max_depth=None, max_features='auto', max_leaf_nodes=None,\n",
       "            min_impurity_decrease=0.0, min_impurity_split=None,\n",
       "            min_samples_leaf=1, min_samples_split=2,\n",
       "            min_weight_fraction_leaf=0.0, n_estimators=10, n_jobs=1,\n",
       "            oob_score=False, random_state=None, verbose=0,\n",
       "            warm_start=False)>"
      ]
     },
     "execution_count": 99,
     "metadata": {},
     "output_type": "execute_result"
    }
   ],
   "source": [
    "#default hyperparameters\n",
    "rf3.get_params"
   ]
  },
  {
   "cell_type": "code",
   "execution_count": 97,
   "metadata": {},
   "outputs": [],
   "source": [
    "n_estimators = [int(x) for x in np.linspace(start=10, stop=100, num=10)]\n",
    "max_features = ['auto', 'sqrt']\n",
    "max_depth = [int(x) for x in np.linspace(10, 110, num = 11)]\n",
    "max_depth.append(None)\n",
    "min_samples_split = [2, 3, 5, 10]\n",
    "min_samples_leaf = [1, 2, 3, 4]\n",
    "bootstrap = [True, False]\n",
    "\n",
    "param_grid = {'n_estimators': n_estimators,\n",
    "              'max_features': max_features,\n",
    "              'max_depth': max_depth,\n",
    "              'min_samples_split': min_samples_split,\n",
    "              'min_samples_leaf': min_samples_leaf,\n",
    "              'bootstrap': bootstrap}"
   ]
  },
  {
   "cell_type": "code",
   "execution_count": 104,
   "metadata": {
    "collapsed": true
   },
   "outputs": [],
   "source": [
    "#Use RandomizedSearchCV to see if we can get estimate of better hyperparameters\n",
    "#n_jobs set to 2?\n",
    "#cv set to 3?\n",
    "# Take a smaller subset of the data to split into training and testing\n",
    "# for finding hyper parameters, maybe 20k games\n",
    "\n",
    "#Takes about an hour to run on the full training set\n",
    "#rf_rand_cv = RandomizedSearchCV(estimator=rf3, param_distributions=param_grid,\n",
    "#                                cv=5, n_iter=10, random_state=42)"
   ]
  },
  {
   "cell_type": "code",
   "execution_count": null,
   "metadata": {
    "collapsed": true
   },
   "outputs": [],
   "source": [
    "rf_rand_cv = RandomizedSearchCV(estimator=rf3, param_distributions=param_grid,\n",
    "                                cv=3, n_iter=10, n_jobs=2, random_state=42)"
   ]
  },
  {
   "cell_type": "code",
   "execution_count": 103,
   "metadata": {
    "scrolled": true
   },
   "outputs": [
    {
     "data": {
      "text/plain": [
       "RandomizedSearchCV(cv=5, error_score='raise',\n",
       "          estimator=RandomForestClassifier(bootstrap=True, class_weight=None, criterion='gini',\n",
       "            max_depth=None, max_features='auto', max_leaf_nodes=None,\n",
       "            min_impurity_decrease=0.0, min_impurity_split=None,\n",
       "            min_samples_leaf=1, min_samples_split=2,\n",
       "            min_weight_fraction_leaf=0.0, n_estimators=10, n_jobs=1,\n",
       "            oob_score=False, random_state=None, verbose=0,\n",
       "            warm_start=False),\n",
       "          fit_params=None, iid=True, n_iter=10, n_jobs=1,\n",
       "          param_distributions={'n_estimators': [10, 20, 30, 40, 50, 60, 70, 80, 90, 100], 'max_features': ['auto', 'sqrt'], 'max_depth': [10, 20, 30, 40, 50, 60, 70, 80, 90, 100, 110, None], 'min_samples_split': [2, 3, 5, 10], 'min_samples_leaf': [1, 2, 3, 4], 'bootstrap': [True, False]},\n",
       "          pre_dispatch='2*n_jobs', random_state=42, refit=True,\n",
       "          return_train_score='warn', scoring=None, verbose=0)"
      ]
     },
     "execution_count": 103,
     "metadata": {},
     "output_type": "execute_result"
    }
   ],
   "source": [
    "rf_rand_cv.fit(X_train, y_train)"
   ]
  },
  {
   "cell_type": "code",
   "execution_count": 105,
   "metadata": {},
   "outputs": [
    {
     "data": {
      "text/plain": [
       "{'bootstrap': False,\n",
       " 'max_depth': 80,\n",
       " 'max_features': 'sqrt',\n",
       " 'min_samples_leaf': 1,\n",
       " 'min_samples_split': 5,\n",
       " 'n_estimators': 60}"
      ]
     },
     "execution_count": 105,
     "metadata": {},
     "output_type": "execute_result"
    }
   ],
   "source": [
    "#Find best hyperparameters\n",
    "rf_rand_cv.best_params_"
   ]
  },
  {
   "cell_type": "code",
   "execution_count": 130,
   "metadata": {},
   "outputs": [
    {
     "name": "stdout",
     "output_type": "stream",
     "text": [
      "[0.92975207 0.96154789 0.86972053 0.66785739 0.68358199]\n"
     ]
    }
   ],
   "source": [
    "#Use best hyperparamters and cross validate score\n",
    "rf4 = RandomForestClassifier(bootstrap=False,\n",
    "                                max_depth=80, max_features='sqrt',\n",
    "                                min_samples_leaf=1, min_samples_split=5,\n",
    "                                n_estimators=60)\n",
    "\n",
    "cv_rf_results_params = cross_val_score(rf4, X, red_win, cv=5)\n",
    "\n",
    "print(cv_rf_results_params)"
   ]
  },
  {
   "cell_type": "code",
   "execution_count": 115,
   "metadata": {},
   "outputs": [
    {
     "name": "stdout",
     "output_type": "stream",
     "text": [
      "0.8224919727392151\n"
     ]
    }
   ],
   "source": [
    "cv_score2 = np.mean(cv_rf_results_params)\n",
    "print(cv_score2)"
   ]
  },
  {
   "cell_type": "code",
   "execution_count": 120,
   "metadata": {},
   "outputs": [
    {
     "name": "stdout",
     "output_type": "stream",
     "text": [
      "Using the current hyperparameters above increased the accuracy of the model by 0.00763%\n"
     ]
    }
   ],
   "source": [
    "#Find improvement with tuned hyperparameters\n",
    "diff = cv_score2 - cv_score\n",
    "print(f'Using the current hyperparameters above increased the accuracy of the model by {diff:.5f}%')"
   ]
  },
  {
   "cell_type": "markdown",
   "metadata": {},
   "source": [
    "#### Further Tuning of hyperparameters using a smaller training subset due to time."
   ]
  },
  {
   "cell_type": "code",
   "execution_count": 123,
   "metadata": {
    "collapsed": true
   },
   "outputs": [],
   "source": [
    "#First 20,000 rows of X\n",
    "X_subset = X[:20000] \n",
    "red_win_subset = red_win[:20000]"
   ]
  },
  {
   "cell_type": "code",
   "execution_count": 134,
   "metadata": {
    "collapsed": true
   },
   "outputs": [],
   "source": [
    "X_train2, X_test2, y_train2, y_test2 = train_test_split(X_subset, red_win_subset,\n",
    "                                                       test_size=0.2, random_state=42)"
   ]
  },
  {
   "cell_type": "code",
   "execution_count": 131,
   "metadata": {},
   "outputs": [],
   "source": [
    "#tighter parameter grid\n",
    "param_grid2 = {'n_estimators': [58, 59, 60, 61, 62],\n",
    "              'max_features': ['sqrt'],\n",
    "              'max_depth': [78, 79, 80, 81, 82],\n",
    "              'min_samples_split': [3, 4, 5, 6, 9, 10],\n",
    "              'min_samples_leaf': [1, 2, 3],\n",
    "              'bootstrap': [True, False]}"
   ]
  },
  {
   "cell_type": "code",
   "execution_count": 135,
   "metadata": {},
   "outputs": [],
   "source": [
    "rf5 = RandomForestClassifier()\n",
    "rf_grid_cv = GridSearchCV(estimator=rf5, param_grid=param_grid2,\n",
    "                                cv=3, n_jobs=2)"
   ]
  },
  {
   "cell_type": "code",
   "execution_count": null,
   "metadata": {
    "collapsed": true
   },
   "outputs": [],
   "source": []
  },
  {
   "cell_type": "markdown",
   "metadata": {},
   "source": [
    "## Logistic Regression Model"
   ]
  },
  {
   "cell_type": "code",
   "execution_count": null,
   "metadata": {
    "collapsed": true
   },
   "outputs": [],
   "source": []
  },
  {
   "cell_type": "code",
   "execution_count": null,
   "metadata": {
    "collapsed": true
   },
   "outputs": [],
   "source": []
  },
  {
   "cell_type": "markdown",
   "metadata": {},
   "source": [
    "## K Nearest Neighbors Model"
   ]
  },
  {
   "cell_type": "code",
   "execution_count": null,
   "metadata": {
    "collapsed": true
   },
   "outputs": [],
   "source": []
  },
  {
   "cell_type": "code",
   "execution_count": null,
   "metadata": {
    "collapsed": true
   },
   "outputs": [],
   "source": []
  },
  {
   "cell_type": "raw",
   "metadata": {},
   "source": [
    "Process\n",
    "\n",
    "#Create a pipeline\n",
    "steps = [('scaler', StandardScaler()),\n",
    " ('knn', KNeighborsClassifier())]\n",
    " \n",
    " pl = Pipeline(steps)\n",
    " \n",
    " #Specify hyper parameters\n",
    " parameters = {'SVM__C':[1, 10, 100],\n",
    "              'SVM__gamma':[0.1, 0.01]}\n",
    "              \n",
    " #create test and training sets\n",
    "X_train, X_test, y_train, y_test = train_test_split(X, y, testsize=0.2, random_state=42)\n",
    " \n",
    " #Gridsearch\n",
    " cv = GridSearchCV(pl, param_grid=parameters)\n",
    " \n",
    " #fit\n",
    " cv.fit(X_train, y_train)\n",
    " \n",
    " y_pred = cv.predict(X_test)\n",
    " \n",
    " #Compute metrics\n",
    " cv.classification_report(y_test, y_pred)\n",
    " cv.best_params_\n",
    " cv.score(X_test, y_test)\n"
   ]
  }
 ],
 "metadata": {
  "kernelspec": {
   "display_name": "Python 3",
   "language": "python",
   "name": "python3"
  },
  "language_info": {
   "codemirror_mode": {
    "name": "ipython",
    "version": 3
   },
   "file_extension": ".py",
   "mimetype": "text/x-python",
   "name": "python",
   "nbconvert_exporter": "python",
   "pygments_lexer": "ipython3",
   "version": "3.6.3"
  }
 },
 "nbformat": 4,
 "nbformat_minor": 2
}
